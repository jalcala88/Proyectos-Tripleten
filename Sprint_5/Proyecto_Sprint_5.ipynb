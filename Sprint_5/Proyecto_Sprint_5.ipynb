{
 "cells": [
  {
   "cell_type": "markdown",
   "metadata": {},
   "source": [
    "**¡Hola Javier!** 😊\n",
    "\n",
    "Mi nombre es **Alejandro Castellanos** y hoy tengo el placer de ser el revisor de tu proyecto.\n",
    "\n",
    "Voy a revisar todo tu código con detalle, buscando tanto los puntos fuertes como aquellos en los que podrías mejorar. Te dejaré comentarios a lo largo del notebook, destacando lo que has hecho bien y sugiriendo ajustes donde sea necesario. Si encuentro algún error, no te preocupes, te lo haré saber de forma clara y te daré información útil para que puedas corregirlo en la próxima. Si en algún punto tienes comentarios, siéntete libre de dejarlos también.\n",
    "\n",
    "\n",
    "Encontrarás mis comentarios específicos dentro de cajas verdes, amarillas o rojas, es muy importante que no muevas, modifiques o borres mis comentarios, con el fin de tener un seguimiento adecuado de tu proceso.:\n",
    "\n",
    "\n",
    "<div class=\"alert alert-block alert-success\">\n",
    "<b>Comentario del revisor</b> <a class=“tocSkip”></a>\n",
    "Si todo está perfecto.\n",
    "</div>\n",
    "\n",
    "<div class=\"alert alert-block alert-warning\">\n",
    "<b>Comentario del revisor</b> <a class=“tocSkip”></a>\n",
    "Si tu código está bien pero se puede mejorar o hay algún detalle que le hace falta.\n",
    "</div>\n",
    "\n",
    "<div class=\"alert alert-block alert-danger\">\n",
    "<b>Comentario del revisor</b> <a class=“tocSkip”></a>\n",
    "Si de pronto hace falta algo o existe algún problema con tu código o conclusiones.\n",
    "</div>\n",
    "\n",
    "Puedes responderme de esta forma:\n",
    "<div class=\"alert alert-block alert-info\">\n",
    "<b>Respuesta del estudiante</b> <a class=“tocSkip”></a>\n",
    "</div>\n",
    "\n",
    "A continuación te dejaré un comentario general con mi valoración del proyecto. **¡Mi objetivo es que sigas aprendiendo y mejorando con cada paso!**"
   ]
  },
  {
   "cell_type": "markdown",
   "metadata": {},
   "source": [
    "---"
   ]
  },
  {
   "cell_type": "markdown",
   "metadata": {},
   "source": [
    "<div class=\"alert alert-block alert-warning\">\n",
    "<b>Comentario General del revisor (1ra Iteración)</b> <a class=“tocSkip”></a>\n",
    "\n",
    "Javier has realizado un análisis exploratorio de datos (EDA) muy cuidadoso, preparando meticulosamente la información para garantizar un estudio riguroso. En el aspecto de visualización, has empleado herramientas que permiten comprender el comportamiento de consumo de los usuarios en diferentes planes, mostrando habilidad para representar datos complejos. Respecto a las pruebas de hipótesis, has mostrado un dominio técnico significativo, haciendo una comparativa correcta entre subconjuntos de datos. Identifico que necesitas realizar algunos ajustes en el cálculo del consumo de internet para determinar con mayor precisión el cobro mensual por usuario, lo cual es fundamental para la validez de tus conclusiones. Estoy seguro que podrás hacer estos ajustes de fácilmente. Estaré atento a tu próxima iteración 👀.\n",
    "\n",
    "\n",
    "</div>"
   ]
  },
  {
   "cell_type": "markdown",
   "metadata": {},
   "source": [
    "<div class=\"alert alert-block alert-success\">\n",
    "<b>Comentario General del revisor (2da Iteración)</b> <a class=“tocSkip”></a>\n",
    "\n",
    "¡Javier excelente trabajo con los ajustes! Tu proyecto ahora cumple con todos los objetivos propuestos. Estoy seguro de que lo que aprendiste aquí te será muy útil en futuros proyectos. ¡Éxito en tu próximo sprint! 🚀\n",
    "    \n",
    "*Estado del Proyecto:* **Aprobado**\n",
    "\n",
    "</div>"
   ]
  },
  {
   "cell_type": "markdown",
   "metadata": {},
   "source": [
    "---"
   ]
  },
  {
   "cell_type": "markdown",
   "metadata": {
    "id": "3rYiDeEH0q0f"
   },
   "source": [
    "# ¿Cuál es la mejor tarifa?\n",
    "\n",
    "Trabajas como analista para el operador de telecomunicaciones Megaline. La empresa ofrece a sus clientes dos tarifas de prepago, Surf y Ultimate. El departamento comercial quiere saber cuál de las tarifas genera más ingresos para poder ajustar el presupuesto de publicidad.\n",
    "\n",
    "Vas a realizar un análisis preliminar de las tarifas basado en una selección de clientes relativamente pequeña. Tendrás los datos de 500 clientes de Megaline: quiénes son los clientes, de dónde son, qué tarifa usan, así como la cantidad de llamadas que hicieron y los mensajes de texto que enviaron en 2018. Tu trabajo es analizar el comportamiento de los clientes y determinar qué tarifa de prepago genera más ingresos."
   ]
  },
  {
   "cell_type": "markdown",
   "metadata": {
    "id": "VNddPNRQ0q0w"
   },
   "source": [
    "[Te proporcionamos algunos comentarios para orientarte mientras completas este proyecto. Pero debes asegurarte de eliminar todos los comentarios entre corchetes antes de entregar tu proyecto.]\n",
    "\n",
    "[Antes de sumergirte en el análisis de datos, explica por tu propia cuenta el propósito del proyecto y las acciones que planeas realizar.]\n",
    "\n",
    "[Ten en cuenta que estudiar, modificar y analizar datos es un proceso iterativo. Es normal volver a los pasos anteriores y corregirlos/ampliarlos para permitir nuevos pasos.]"
   ]
  },
  {
   "cell_type": "markdown",
   "metadata": {
    "id": "MQi4IPy70q0y"
   },
   "source": [
    "## Inicialización\n",
    "Se evaluara los ingresos de cada tarifa que ofrece la empresa Megaline con el objetivo de realizar el presupuesto de publicidad de manera correcta tomando la desición correcta donde invertiremos mayor capital para la generación de mayores utilidades."
   ]
  },
  {
   "cell_type": "code",
   "execution_count": 227,
   "metadata": {
    "id": "MtYIuBxu0q0z"
   },
   "outputs": [],
   "source": [
    "# Cargar todas las librerías\n",
    "import pandas as pd\n",
    "from math import factorial\n",
    "import math\n",
    "import numpy as np\n",
    "import matplotlib.pyplot as plt\n",
    "import seaborn as sns\n",
    "from scipy.stats import norm, binom, poisson, uniform\n"
   ]
  },
  {
   "cell_type": "markdown",
   "metadata": {
    "id": "4ysWWC5i0q00"
   },
   "source": [
    "## Cargar datos"
   ]
  },
  {
   "cell_type": "code",
   "execution_count": 228,
   "metadata": {
    "id": "CCqPW7rS0q01"
   },
   "outputs": [],
   "source": [
    "# Carga los archivos de datos en diferentes DataFrames\n",
    "\n",
    "users = pd.read_csv('G:\\\\.shortcut-targets-by-id\\\\1ec4irvsZdM58w7ZpjkoK9daldWphQX4A\\\\Proyectos\\\\datasets\\\\megaline_users.csv')\n",
    "calls = pd.read_csv('G:\\\\.shortcut-targets-by-id\\\\1ec4irvsZdM58w7ZpjkoK9daldWphQX4A\\\\Proyectos\\\\datasets\\\\megaline_calls.csv')\n",
    "internet = pd.read_csv('G:\\\\.shortcut-targets-by-id\\\\1ec4irvsZdM58w7ZpjkoK9daldWphQX4A\\\\Proyectos\\\\datasets\\\\megaline_internet.csv')\n",
    "messages = pd.read_csv('G:\\\\.shortcut-targets-by-id\\\\1ec4irvsZdM58w7ZpjkoK9daldWphQX4A\\\\Proyectos\\\\datasets\\\\megaline_messages.csv')\n",
    "plans = pd.read_csv('G:\\\\.shortcut-targets-by-id\\\\1ec4irvsZdM58w7ZpjkoK9daldWphQX4A\\\\Proyectos\\\\datasets\\\\megaline_plans.csv')\n",
    "#calls=pd.read_csv('/datasets/megaline_calls.csv') \n",
    "#internet=pd.read_csv('/datasets/megaline_internet.csv')\n",
    "#messages=pd.read_csv('/datasets/megaline_messages.csv') \n",
    "#plans=pd.read_csv('/datasets/megaline_plans.csv') \n",
    "#users=pd.read_csv('/datasets/megaline_users.csv') # Carga los archivos de datos en diferentes DataFrames\n"
   ]
  },
  {
   "cell_type": "markdown",
   "metadata": {
    "id": "69qqoJ3r0q01"
   },
   "source": [
    "## Preparar los datos"
   ]
  },
  {
   "cell_type": "markdown",
   "metadata": {
    "id": "vUuZw80S0q01"
   },
   "source": [
    "[Los datos para este proyecto se dividen en varias tablas. Explora cada una para tener una comprensión inicial de los datos. Si es necesario, haz las correcciones requeridas en cada tabla.]"
   ]
  },
  {
   "cell_type": "markdown",
   "metadata": {
    "id": "ohBhimvH0q01"
   },
   "source": [
    "## Tarifas"
   ]
  },
  {
   "cell_type": "code",
   "execution_count": 229,
   "metadata": {
    "id": "GptqP3Q40q02"
   },
   "outputs": [
    {
     "name": "stdout",
     "output_type": "stream",
     "text": [
      "<class 'pandas.core.frame.DataFrame'>\n",
      "RangeIndex: 2 entries, 0 to 1\n",
      "Data columns (total 8 columns):\n",
      " #   Column                 Non-Null Count  Dtype  \n",
      "---  ------                 --------------  -----  \n",
      " 0   messages_included      2 non-null      int64  \n",
      " 1   mb_per_month_included  2 non-null      int64  \n",
      " 2   minutes_included       2 non-null      int64  \n",
      " 3   usd_monthly_pay        2 non-null      int64  \n",
      " 4   usd_per_gb             2 non-null      int64  \n",
      " 5   usd_per_message        2 non-null      float64\n",
      " 6   usd_per_minute         2 non-null      float64\n",
      " 7   plan_name              2 non-null      object \n",
      "dtypes: float64(2), int64(5), object(1)\n",
      "memory usage: 260.0+ bytes\n"
     ]
    }
   ],
   "source": [
    "# Imprime la información general/resumida sobre el DataFrame de las tarifas\n",
    "\n",
    "plans.info()"
   ]
  },
  {
   "cell_type": "code",
   "execution_count": 230,
   "metadata": {
    "id": "64xzjwL70q02"
   },
   "outputs": [
    {
     "data": {
      "text/html": [
       "<div>\n",
       "<style scoped>\n",
       "    .dataframe tbody tr th:only-of-type {\n",
       "        vertical-align: middle;\n",
       "    }\n",
       "\n",
       "    .dataframe tbody tr th {\n",
       "        vertical-align: top;\n",
       "    }\n",
       "\n",
       "    .dataframe thead th {\n",
       "        text-align: right;\n",
       "    }\n",
       "</style>\n",
       "<table border=\"1\" class=\"dataframe\">\n",
       "  <thead>\n",
       "    <tr style=\"text-align: right;\">\n",
       "      <th></th>\n",
       "      <th>messages_included</th>\n",
       "      <th>mb_per_month_included</th>\n",
       "      <th>minutes_included</th>\n",
       "      <th>usd_monthly_pay</th>\n",
       "      <th>usd_per_gb</th>\n",
       "      <th>usd_per_message</th>\n",
       "      <th>usd_per_minute</th>\n",
       "      <th>plan_name</th>\n",
       "    </tr>\n",
       "  </thead>\n",
       "  <tbody>\n",
       "    <tr>\n",
       "      <th>0</th>\n",
       "      <td>50</td>\n",
       "      <td>15360</td>\n",
       "      <td>500</td>\n",
       "      <td>20</td>\n",
       "      <td>10</td>\n",
       "      <td>0.03</td>\n",
       "      <td>0.03</td>\n",
       "      <td>surf</td>\n",
       "    </tr>\n",
       "    <tr>\n",
       "      <th>1</th>\n",
       "      <td>1000</td>\n",
       "      <td>30720</td>\n",
       "      <td>3000</td>\n",
       "      <td>70</td>\n",
       "      <td>7</td>\n",
       "      <td>0.01</td>\n",
       "      <td>0.01</td>\n",
       "      <td>ultimate</td>\n",
       "    </tr>\n",
       "  </tbody>\n",
       "</table>\n",
       "</div>"
      ],
      "text/plain": [
       "   messages_included  mb_per_month_included  minutes_included  \\\n",
       "0                 50                  15360               500   \n",
       "1               1000                  30720              3000   \n",
       "\n",
       "   usd_monthly_pay  usd_per_gb  usd_per_message  usd_per_minute plan_name  \n",
       "0               20          10             0.03            0.03      surf  \n",
       "1               70           7             0.01            0.01  ultimate  "
      ]
     },
     "execution_count": 230,
     "metadata": {},
     "output_type": "execute_result"
    }
   ],
   "source": [
    "# Imprime una muestra de los datos para las tarifas\n",
    "plans.head()\n"
   ]
  },
  {
   "cell_type": "markdown",
   "metadata": {
    "id": "mEc_3_hs0q02"
   },
   "source": [
    "[Describe lo que ves y observas en la información general y en la muestra de datos impresa para el precio de datos anterior. ¿Hay algún problema (tipos de datos no adecuados, datos ausentes, etc.) que pudieran necesitar investigación y cambios adicionales? ¿Cómo se puede arreglar?]"
   ]
  },
  {
   "cell_type": "markdown",
   "metadata": {
    "id": "R3C05i1l0q03"
   },
   "source": [
    "## Corregir datos"
   ]
  },
  {
   "cell_type": "markdown",
   "metadata": {
    "id": "bIi8StZI0q03"
   },
   "source": [
    "Se renombran las columnas para poder acceder a la información general de manera mas agil."
   ]
  },
  {
   "cell_type": "code",
   "execution_count": 231,
   "metadata": {
    "id": "Y7SVmjGn0q03"
   },
   "outputs": [
    {
     "data": {
      "text/html": [
       "<div>\n",
       "<style scoped>\n",
       "    .dataframe tbody tr th:only-of-type {\n",
       "        vertical-align: middle;\n",
       "    }\n",
       "\n",
       "    .dataframe tbody tr th {\n",
       "        vertical-align: top;\n",
       "    }\n",
       "\n",
       "    .dataframe thead th {\n",
       "        text-align: right;\n",
       "    }\n",
       "</style>\n",
       "<table border=\"1\" class=\"dataframe\">\n",
       "  <thead>\n",
       "    <tr style=\"text-align: right;\">\n",
       "      <th></th>\n",
       "      <th>mensajes_incluidos</th>\n",
       "      <th>mb_incluidos</th>\n",
       "      <th>minutos_incluidos</th>\n",
       "      <th>pago_mensual</th>\n",
       "      <th>precio_gb_extra</th>\n",
       "      <th>precio_sms_extra</th>\n",
       "      <th>precio_min_extra</th>\n",
       "      <th>plan</th>\n",
       "    </tr>\n",
       "  </thead>\n",
       "  <tbody>\n",
       "    <tr>\n",
       "      <th>0</th>\n",
       "      <td>50</td>\n",
       "      <td>15360</td>\n",
       "      <td>500</td>\n",
       "      <td>20</td>\n",
       "      <td>10</td>\n",
       "      <td>0.03</td>\n",
       "      <td>0.03</td>\n",
       "      <td>surf</td>\n",
       "    </tr>\n",
       "    <tr>\n",
       "      <th>1</th>\n",
       "      <td>1000</td>\n",
       "      <td>30720</td>\n",
       "      <td>3000</td>\n",
       "      <td>70</td>\n",
       "      <td>7</td>\n",
       "      <td>0.01</td>\n",
       "      <td>0.01</td>\n",
       "      <td>ultimate</td>\n",
       "    </tr>\n",
       "  </tbody>\n",
       "</table>\n",
       "</div>"
      ],
      "text/plain": [
       "   mensajes_incluidos  mb_incluidos  minutos_incluidos  pago_mensual  \\\n",
       "0                  50         15360                500            20   \n",
       "1                1000         30720               3000            70   \n",
       "\n",
       "   precio_gb_extra  precio_sms_extra  precio_min_extra      plan  \n",
       "0               10              0.03              0.03      surf  \n",
       "1                7              0.01              0.01  ultimate  "
      ]
     },
     "execution_count": 231,
     "metadata": {},
     "output_type": "execute_result"
    }
   ],
   "source": [
    "plans = plans.rename(columns={'messages_included':'mensajes_incluidos',\n",
    "                     'mb_per_month_included':'mb_incluidos',\n",
    "                     'minutes_included':'minutos_incluidos',\n",
    "                     'usd_monthly_pay':'pago_mensual',\n",
    "                     'usd_per_gb':'precio_gb_extra',\n",
    "                     'usd_per_message':'precio_sms_extra',\n",
    "                     'usd_per_minute':'precio_min_extra',\n",
    "                     'plan_name':'plan' })\n",
    "\n",
    "plans.head()"
   ]
  },
  {
   "cell_type": "markdown",
   "metadata": {
    "id": "LJir7bml0q03"
   },
   "source": [
    "## Enriquecer los datos"
   ]
  },
  {
   "cell_type": "markdown",
   "metadata": {
    "id": "eqADpCfg0q04"
   },
   "source": [
    "Se agrega la columna de GB incluidos para un mejor manejo de la información truncando la información de los MG incluidos"
   ]
  },
  {
   "cell_type": "code",
   "execution_count": 232,
   "metadata": {
    "id": "gfcIEuXV0q04"
   },
   "outputs": [
    {
     "data": {
      "text/html": [
       "<div>\n",
       "<style scoped>\n",
       "    .dataframe tbody tr th:only-of-type {\n",
       "        vertical-align: middle;\n",
       "    }\n",
       "\n",
       "    .dataframe tbody tr th {\n",
       "        vertical-align: top;\n",
       "    }\n",
       "\n",
       "    .dataframe thead th {\n",
       "        text-align: right;\n",
       "    }\n",
       "</style>\n",
       "<table border=\"1\" class=\"dataframe\">\n",
       "  <thead>\n",
       "    <tr style=\"text-align: right;\">\n",
       "      <th></th>\n",
       "      <th>mensajes_incluidos</th>\n",
       "      <th>mb_incluidos</th>\n",
       "      <th>minutos_incluidos</th>\n",
       "      <th>pago_mensual</th>\n",
       "      <th>precio_gb_extra</th>\n",
       "      <th>precio_sms_extra</th>\n",
       "      <th>precio_min_extra</th>\n",
       "      <th>plan</th>\n",
       "      <th>gb_incluidos</th>\n",
       "    </tr>\n",
       "  </thead>\n",
       "  <tbody>\n",
       "    <tr>\n",
       "      <th>0</th>\n",
       "      <td>50</td>\n",
       "      <td>15360</td>\n",
       "      <td>500</td>\n",
       "      <td>20</td>\n",
       "      <td>10</td>\n",
       "      <td>0.03</td>\n",
       "      <td>0.03</td>\n",
       "      <td>surf</td>\n",
       "      <td>15</td>\n",
       "    </tr>\n",
       "    <tr>\n",
       "      <th>1</th>\n",
       "      <td>1000</td>\n",
       "      <td>30720</td>\n",
       "      <td>3000</td>\n",
       "      <td>70</td>\n",
       "      <td>7</td>\n",
       "      <td>0.01</td>\n",
       "      <td>0.01</td>\n",
       "      <td>ultimate</td>\n",
       "      <td>30</td>\n",
       "    </tr>\n",
       "  </tbody>\n",
       "</table>\n",
       "</div>"
      ],
      "text/plain": [
       "   mensajes_incluidos  mb_incluidos  minutos_incluidos  pago_mensual  \\\n",
       "0                  50         15360                500            20   \n",
       "1                1000         30720               3000            70   \n",
       "\n",
       "   precio_gb_extra  precio_sms_extra  precio_min_extra      plan  gb_incluidos  \n",
       "0               10              0.03              0.03      surf            15  \n",
       "1                7              0.01              0.01  ultimate            30  "
      ]
     },
     "execution_count": 232,
     "metadata": {},
     "output_type": "execute_result"
    }
   ],
   "source": [
    "plans['gb_incluidos'] = plans['mb_incluidos'] //1000\n",
    "plans.head()"
   ]
  },
  {
   "cell_type": "markdown",
   "metadata": {
    "id": "1n2X6WXf0q04"
   },
   "source": [
    "## Usuarios/as"
   ]
  },
  {
   "cell_type": "code",
   "execution_count": 233,
   "metadata": {
    "id": "2NgjWFqx0q05"
   },
   "outputs": [
    {
     "name": "stdout",
     "output_type": "stream",
     "text": [
      "<class 'pandas.core.frame.DataFrame'>\n",
      "RangeIndex: 500 entries, 0 to 499\n",
      "Data columns (total 8 columns):\n",
      " #   Column      Non-Null Count  Dtype \n",
      "---  ------      --------------  ----- \n",
      " 0   user_id     500 non-null    int64 \n",
      " 1   first_name  500 non-null    object\n",
      " 2   last_name   500 non-null    object\n",
      " 3   age         500 non-null    int64 \n",
      " 4   city        500 non-null    object\n",
      " 5   reg_date    500 non-null    object\n",
      " 6   plan        500 non-null    object\n",
      " 7   churn_date  34 non-null     object\n",
      "dtypes: int64(2), object(6)\n",
      "memory usage: 31.4+ KB\n"
     ]
    }
   ],
   "source": [
    "# Imprime la información general/resumida sobre el DataFrame de usuarios\n",
    "\n",
    "users.info()"
   ]
  },
  {
   "cell_type": "code",
   "execution_count": 234,
   "metadata": {
    "id": "1IN1L9uh0q05"
   },
   "outputs": [
    {
     "data": {
      "text/html": [
       "<div>\n",
       "<style scoped>\n",
       "    .dataframe tbody tr th:only-of-type {\n",
       "        vertical-align: middle;\n",
       "    }\n",
       "\n",
       "    .dataframe tbody tr th {\n",
       "        vertical-align: top;\n",
       "    }\n",
       "\n",
       "    .dataframe thead th {\n",
       "        text-align: right;\n",
       "    }\n",
       "</style>\n",
       "<table border=\"1\" class=\"dataframe\">\n",
       "  <thead>\n",
       "    <tr style=\"text-align: right;\">\n",
       "      <th></th>\n",
       "      <th>user_id</th>\n",
       "      <th>first_name</th>\n",
       "      <th>last_name</th>\n",
       "      <th>age</th>\n",
       "      <th>city</th>\n",
       "      <th>reg_date</th>\n",
       "      <th>plan</th>\n",
       "      <th>churn_date</th>\n",
       "    </tr>\n",
       "  </thead>\n",
       "  <tbody>\n",
       "    <tr>\n",
       "      <th>375</th>\n",
       "      <td>1375</td>\n",
       "      <td>Andy</td>\n",
       "      <td>Holden</td>\n",
       "      <td>69</td>\n",
       "      <td>Philadelphia-Camden-Wilmington, PA-NJ-DE-MD MSA</td>\n",
       "      <td>2018-12-01</td>\n",
       "      <td>surf</td>\n",
       "      <td>NaN</td>\n",
       "    </tr>\n",
       "    <tr>\n",
       "      <th>329</th>\n",
       "      <td>1329</td>\n",
       "      <td>Doyle</td>\n",
       "      <td>Nunez</td>\n",
       "      <td>65</td>\n",
       "      <td>Charleston-North Charleston, SC MSA</td>\n",
       "      <td>2018-08-25</td>\n",
       "      <td>ultimate</td>\n",
       "      <td>NaN</td>\n",
       "    </tr>\n",
       "    <tr>\n",
       "      <th>61</th>\n",
       "      <td>1061</td>\n",
       "      <td>Maryam</td>\n",
       "      <td>Valencia</td>\n",
       "      <td>38</td>\n",
       "      <td>Columbia, SC MSA</td>\n",
       "      <td>2018-03-08</td>\n",
       "      <td>ultimate</td>\n",
       "      <td>NaN</td>\n",
       "    </tr>\n",
       "    <tr>\n",
       "      <th>308</th>\n",
       "      <td>1308</td>\n",
       "      <td>Samara</td>\n",
       "      <td>Monroe</td>\n",
       "      <td>46</td>\n",
       "      <td>Virginia Beach-Norfolk-Newport News, VA-NC MSA</td>\n",
       "      <td>2018-11-22</td>\n",
       "      <td>surf</td>\n",
       "      <td>NaN</td>\n",
       "    </tr>\n",
       "    <tr>\n",
       "      <th>124</th>\n",
       "      <td>1124</td>\n",
       "      <td>Jenell</td>\n",
       "      <td>Navarro</td>\n",
       "      <td>48</td>\n",
       "      <td>New Haven-Milford, CT MSA</td>\n",
       "      <td>2018-02-19</td>\n",
       "      <td>ultimate</td>\n",
       "      <td>NaN</td>\n",
       "    </tr>\n",
       "    <tr>\n",
       "      <th>212</th>\n",
       "      <td>1212</td>\n",
       "      <td>Alfredo</td>\n",
       "      <td>Pruitt</td>\n",
       "      <td>36</td>\n",
       "      <td>Austin-Round Rock-Georgetown, TX MSA</td>\n",
       "      <td>2018-07-27</td>\n",
       "      <td>surf</td>\n",
       "      <td>NaN</td>\n",
       "    </tr>\n",
       "    <tr>\n",
       "      <th>411</th>\n",
       "      <td>1411</td>\n",
       "      <td>Man</td>\n",
       "      <td>Fleming</td>\n",
       "      <td>64</td>\n",
       "      <td>Rochester, NY MSA</td>\n",
       "      <td>2018-08-10</td>\n",
       "      <td>surf</td>\n",
       "      <td>NaN</td>\n",
       "    </tr>\n",
       "    <tr>\n",
       "      <th>429</th>\n",
       "      <td>1429</td>\n",
       "      <td>Arianna</td>\n",
       "      <td>Rowe</td>\n",
       "      <td>36</td>\n",
       "      <td>New York-Newark-Jersey City, NY-NJ-PA MSA</td>\n",
       "      <td>2018-12-22</td>\n",
       "      <td>surf</td>\n",
       "      <td>NaN</td>\n",
       "    </tr>\n",
       "    <tr>\n",
       "      <th>327</th>\n",
       "      <td>1327</td>\n",
       "      <td>Natosha</td>\n",
       "      <td>Peck</td>\n",
       "      <td>20</td>\n",
       "      <td>New York-Newark-Jersey City, NY-NJ-PA MSA</td>\n",
       "      <td>2018-02-17</td>\n",
       "      <td>surf</td>\n",
       "      <td>NaN</td>\n",
       "    </tr>\n",
       "    <tr>\n",
       "      <th>19</th>\n",
       "      <td>1019</td>\n",
       "      <td>Shizue</td>\n",
       "      <td>Landry</td>\n",
       "      <td>34</td>\n",
       "      <td>Jacksonville, FL MSA</td>\n",
       "      <td>2018-01-16</td>\n",
       "      <td>surf</td>\n",
       "      <td>NaN</td>\n",
       "    </tr>\n",
       "  </tbody>\n",
       "</table>\n",
       "</div>"
      ],
      "text/plain": [
       "     user_id first_name last_name  age  \\\n",
       "375     1375       Andy    Holden   69   \n",
       "329     1329      Doyle     Nunez   65   \n",
       "61      1061     Maryam  Valencia   38   \n",
       "308     1308     Samara    Monroe   46   \n",
       "124     1124     Jenell   Navarro   48   \n",
       "212     1212    Alfredo    Pruitt   36   \n",
       "411     1411        Man   Fleming   64   \n",
       "429     1429    Arianna      Rowe   36   \n",
       "327     1327    Natosha      Peck   20   \n",
       "19      1019     Shizue    Landry   34   \n",
       "\n",
       "                                                city    reg_date      plan  \\\n",
       "375  Philadelphia-Camden-Wilmington, PA-NJ-DE-MD MSA  2018-12-01      surf   \n",
       "329              Charleston-North Charleston, SC MSA  2018-08-25  ultimate   \n",
       "61                                  Columbia, SC MSA  2018-03-08  ultimate   \n",
       "308   Virginia Beach-Norfolk-Newport News, VA-NC MSA  2018-11-22      surf   \n",
       "124                        New Haven-Milford, CT MSA  2018-02-19  ultimate   \n",
       "212             Austin-Round Rock-Georgetown, TX MSA  2018-07-27      surf   \n",
       "411                                Rochester, NY MSA  2018-08-10      surf   \n",
       "429        New York-Newark-Jersey City, NY-NJ-PA MSA  2018-12-22      surf   \n",
       "327        New York-Newark-Jersey City, NY-NJ-PA MSA  2018-02-17      surf   \n",
       "19                              Jacksonville, FL MSA  2018-01-16      surf   \n",
       "\n",
       "    churn_date  \n",
       "375        NaN  \n",
       "329        NaN  \n",
       "61         NaN  \n",
       "308        NaN  \n",
       "124        NaN  \n",
       "212        NaN  \n",
       "411        NaN  \n",
       "429        NaN  \n",
       "327        NaN  \n",
       "19         NaN  "
      ]
     },
     "execution_count": 234,
     "metadata": {},
     "output_type": "execute_result"
    }
   ],
   "source": [
    "# Imprime una muestra de datos para usuarios\n",
    "users.sample(10)\n"
   ]
  },
  {
   "cell_type": "markdown",
   "metadata": {
    "id": "dCZoUq4f0q06"
   },
   "source": [
    "Se observa que las fechas no tienen el formato correcto y existen valores ausentes en la columna churn_date"
   ]
  },
  {
   "cell_type": "markdown",
   "metadata": {
    "id": "BX5FQh_I0q06"
   },
   "source": [
    "### Corregir los datos"
   ]
  },
  {
   "cell_type": "markdown",
   "metadata": {
    "id": "8OdKMwJv0q06"
   },
   "source": [
    "Convertimos a datatime las columnas de fechas y llenamos valores auscentes con el supuesto que se extrajo la información el 31 de Diciembre"
   ]
  },
  {
   "cell_type": "code",
   "execution_count": 235,
   "metadata": {
    "id": "yUqX-K0C0q07"
   },
   "outputs": [
    {
     "data": {
      "text/html": [
       "<div>\n",
       "<style scoped>\n",
       "    .dataframe tbody tr th:only-of-type {\n",
       "        vertical-align: middle;\n",
       "    }\n",
       "\n",
       "    .dataframe tbody tr th {\n",
       "        vertical-align: top;\n",
       "    }\n",
       "\n",
       "    .dataframe thead th {\n",
       "        text-align: right;\n",
       "    }\n",
       "</style>\n",
       "<table border=\"1\" class=\"dataframe\">\n",
       "  <thead>\n",
       "    <tr style=\"text-align: right;\">\n",
       "      <th></th>\n",
       "      <th>user_id</th>\n",
       "      <th>first_name</th>\n",
       "      <th>last_name</th>\n",
       "      <th>age</th>\n",
       "      <th>city</th>\n",
       "      <th>reg_date</th>\n",
       "      <th>plan</th>\n",
       "      <th>churn_date</th>\n",
       "    </tr>\n",
       "  </thead>\n",
       "  <tbody>\n",
       "    <tr>\n",
       "      <th>0</th>\n",
       "      <td>1000</td>\n",
       "      <td>Anamaria</td>\n",
       "      <td>Bauer</td>\n",
       "      <td>45</td>\n",
       "      <td>Atlanta-Sandy Springs-Roswell, GA MSA</td>\n",
       "      <td>2018-12-24</td>\n",
       "      <td>ultimate</td>\n",
       "      <td>2018-12-31</td>\n",
       "    </tr>\n",
       "    <tr>\n",
       "      <th>1</th>\n",
       "      <td>1001</td>\n",
       "      <td>Mickey</td>\n",
       "      <td>Wilkerson</td>\n",
       "      <td>28</td>\n",
       "      <td>Seattle-Tacoma-Bellevue, WA MSA</td>\n",
       "      <td>2018-08-13</td>\n",
       "      <td>surf</td>\n",
       "      <td>2018-12-31</td>\n",
       "    </tr>\n",
       "    <tr>\n",
       "      <th>2</th>\n",
       "      <td>1002</td>\n",
       "      <td>Carlee</td>\n",
       "      <td>Hoffman</td>\n",
       "      <td>36</td>\n",
       "      <td>Las Vegas-Henderson-Paradise, NV MSA</td>\n",
       "      <td>2018-10-21</td>\n",
       "      <td>surf</td>\n",
       "      <td>2018-12-31</td>\n",
       "    </tr>\n",
       "    <tr>\n",
       "      <th>3</th>\n",
       "      <td>1003</td>\n",
       "      <td>Reynaldo</td>\n",
       "      <td>Jenkins</td>\n",
       "      <td>52</td>\n",
       "      <td>Tulsa, OK MSA</td>\n",
       "      <td>2018-01-28</td>\n",
       "      <td>surf</td>\n",
       "      <td>2018-12-31</td>\n",
       "    </tr>\n",
       "    <tr>\n",
       "      <th>4</th>\n",
       "      <td>1004</td>\n",
       "      <td>Leonila</td>\n",
       "      <td>Thompson</td>\n",
       "      <td>40</td>\n",
       "      <td>Seattle-Tacoma-Bellevue, WA MSA</td>\n",
       "      <td>2018-05-23</td>\n",
       "      <td>surf</td>\n",
       "      <td>2018-12-31</td>\n",
       "    </tr>\n",
       "  </tbody>\n",
       "</table>\n",
       "</div>"
      ],
      "text/plain": [
       "   user_id first_name  last_name  age                                   city  \\\n",
       "0     1000   Anamaria      Bauer   45  Atlanta-Sandy Springs-Roswell, GA MSA   \n",
       "1     1001     Mickey  Wilkerson   28        Seattle-Tacoma-Bellevue, WA MSA   \n",
       "2     1002     Carlee    Hoffman   36   Las Vegas-Henderson-Paradise, NV MSA   \n",
       "3     1003   Reynaldo    Jenkins   52                          Tulsa, OK MSA   \n",
       "4     1004    Leonila   Thompson   40        Seattle-Tacoma-Bellevue, WA MSA   \n",
       "\n",
       "    reg_date      plan churn_date  \n",
       "0 2018-12-24  ultimate 2018-12-31  \n",
       "1 2018-08-13      surf 2018-12-31  \n",
       "2 2018-10-21      surf 2018-12-31  \n",
       "3 2018-01-28      surf 2018-12-31  \n",
       "4 2018-05-23      surf 2018-12-31  "
      ]
     },
     "execution_count": 235,
     "metadata": {},
     "output_type": "execute_result"
    }
   ],
   "source": [
    "users['reg_date'] = pd.to_datetime(users['reg_date'])\n",
    "users['churn_date'] = pd.to_datetime(users['churn_date'])\n",
    "\n",
    "users.fillna({'churn_date':'2018-12-31'}, inplace=True) # Sustituimos valores ausentes por el último día del año\n",
    "\n",
    "users.head()"
   ]
  },
  {
   "cell_type": "markdown",
   "metadata": {
    "id": "ycwuARJp0q07"
   },
   "source": [
    "### Enriquecer los datos"
   ]
  },
  {
   "cell_type": "markdown",
   "metadata": {
    "id": "96NIh4CJ0q08"
   },
   "source": [
    "Agregamos el mes de suscripcion de cada usuario para analizarlo de manera mas ágil"
   ]
  },
  {
   "cell_type": "code",
   "execution_count": 236,
   "metadata": {
    "id": "iq0AaBS90q08"
   },
   "outputs": [
    {
     "data": {
      "text/html": [
       "<div>\n",
       "<style scoped>\n",
       "    .dataframe tbody tr th:only-of-type {\n",
       "        vertical-align: middle;\n",
       "    }\n",
       "\n",
       "    .dataframe tbody tr th {\n",
       "        vertical-align: top;\n",
       "    }\n",
       "\n",
       "    .dataframe thead th {\n",
       "        text-align: right;\n",
       "    }\n",
       "</style>\n",
       "<table border=\"1\" class=\"dataframe\">\n",
       "  <thead>\n",
       "    <tr style=\"text-align: right;\">\n",
       "      <th></th>\n",
       "      <th>user_id</th>\n",
       "      <th>first_name</th>\n",
       "      <th>last_name</th>\n",
       "      <th>age</th>\n",
       "      <th>city</th>\n",
       "      <th>reg_date</th>\n",
       "      <th>plan</th>\n",
       "      <th>churn_date</th>\n",
       "      <th>mes</th>\n",
       "    </tr>\n",
       "  </thead>\n",
       "  <tbody>\n",
       "    <tr>\n",
       "      <th>342</th>\n",
       "      <td>1342</td>\n",
       "      <td>Eugene</td>\n",
       "      <td>Patton</td>\n",
       "      <td>65</td>\n",
       "      <td>Indianapolis-Carmel-Anderson, IN MSA</td>\n",
       "      <td>2018-10-21</td>\n",
       "      <td>surf</td>\n",
       "      <td>2018-12-31</td>\n",
       "      <td>10</td>\n",
       "    </tr>\n",
       "    <tr>\n",
       "      <th>239</th>\n",
       "      <td>1239</td>\n",
       "      <td>Quentin</td>\n",
       "      <td>Hancock</td>\n",
       "      <td>24</td>\n",
       "      <td>Fresno, CA MSA</td>\n",
       "      <td>2018-08-11</td>\n",
       "      <td>surf</td>\n",
       "      <td>2018-12-31</td>\n",
       "      <td>8</td>\n",
       "    </tr>\n",
       "    <tr>\n",
       "      <th>97</th>\n",
       "      <td>1097</td>\n",
       "      <td>Deandre</td>\n",
       "      <td>Powell</td>\n",
       "      <td>27</td>\n",
       "      <td>Washington-Arlington-Alexandria, DC-VA-MD-WV MSA</td>\n",
       "      <td>2018-02-26</td>\n",
       "      <td>surf</td>\n",
       "      <td>2018-12-31</td>\n",
       "      <td>2</td>\n",
       "    </tr>\n",
       "    <tr>\n",
       "      <th>309</th>\n",
       "      <td>1309</td>\n",
       "      <td>Winfred</td>\n",
       "      <td>Zimmerman</td>\n",
       "      <td>19</td>\n",
       "      <td>San Diego-Chula Vista-Carlsbad, CA MSA</td>\n",
       "      <td>2018-07-04</td>\n",
       "      <td>surf</td>\n",
       "      <td>2018-12-31</td>\n",
       "      <td>7</td>\n",
       "    </tr>\n",
       "    <tr>\n",
       "      <th>485</th>\n",
       "      <td>1485</td>\n",
       "      <td>Damion</td>\n",
       "      <td>Woodard</td>\n",
       "      <td>67</td>\n",
       "      <td>Nashville-Davidson–Murfreesboro–Franklin, TN MSA</td>\n",
       "      <td>2018-08-21</td>\n",
       "      <td>surf</td>\n",
       "      <td>2018-12-31</td>\n",
       "      <td>8</td>\n",
       "    </tr>\n",
       "    <tr>\n",
       "      <th>213</th>\n",
       "      <td>1213</td>\n",
       "      <td>Carl</td>\n",
       "      <td>Newman</td>\n",
       "      <td>47</td>\n",
       "      <td>San Diego-Chula Vista-Carlsbad, CA MSA</td>\n",
       "      <td>2018-11-25</td>\n",
       "      <td>ultimate</td>\n",
       "      <td>2018-12-31</td>\n",
       "      <td>11</td>\n",
       "    </tr>\n",
       "    <tr>\n",
       "      <th>147</th>\n",
       "      <td>1147</td>\n",
       "      <td>Duncan</td>\n",
       "      <td>Malone</td>\n",
       "      <td>71</td>\n",
       "      <td>Urban Honolulu, HI MSA</td>\n",
       "      <td>2018-04-30</td>\n",
       "      <td>surf</td>\n",
       "      <td>2018-12-31</td>\n",
       "      <td>4</td>\n",
       "    </tr>\n",
       "    <tr>\n",
       "      <th>334</th>\n",
       "      <td>1334</td>\n",
       "      <td>Donovan</td>\n",
       "      <td>Horton</td>\n",
       "      <td>34</td>\n",
       "      <td>Seattle-Tacoma-Bellevue, WA MSA</td>\n",
       "      <td>2018-03-08</td>\n",
       "      <td>surf</td>\n",
       "      <td>2018-12-31</td>\n",
       "      <td>3</td>\n",
       "    </tr>\n",
       "    <tr>\n",
       "      <th>263</th>\n",
       "      <td>1263</td>\n",
       "      <td>Lucio</td>\n",
       "      <td>Duffy</td>\n",
       "      <td>39</td>\n",
       "      <td>Boston-Cambridge-Newton, MA-NH MSA</td>\n",
       "      <td>2018-03-06</td>\n",
       "      <td>surf</td>\n",
       "      <td>2018-12-31</td>\n",
       "      <td>3</td>\n",
       "    </tr>\n",
       "    <tr>\n",
       "      <th>399</th>\n",
       "      <td>1399</td>\n",
       "      <td>Leonila</td>\n",
       "      <td>Baird</td>\n",
       "      <td>24</td>\n",
       "      <td>San Antonio-New Braunfels, TX MSA</td>\n",
       "      <td>2018-06-06</td>\n",
       "      <td>surf</td>\n",
       "      <td>2018-12-31</td>\n",
       "      <td>6</td>\n",
       "    </tr>\n",
       "  </tbody>\n",
       "</table>\n",
       "</div>"
      ],
      "text/plain": [
       "     user_id first_name  last_name  age  \\\n",
       "342     1342     Eugene     Patton   65   \n",
       "239     1239    Quentin    Hancock   24   \n",
       "97      1097    Deandre     Powell   27   \n",
       "309     1309    Winfred  Zimmerman   19   \n",
       "485     1485     Damion    Woodard   67   \n",
       "213     1213       Carl     Newman   47   \n",
       "147     1147     Duncan     Malone   71   \n",
       "334     1334    Donovan     Horton   34   \n",
       "263     1263      Lucio      Duffy   39   \n",
       "399     1399    Leonila      Baird   24   \n",
       "\n",
       "                                                 city   reg_date      plan  \\\n",
       "342              Indianapolis-Carmel-Anderson, IN MSA 2018-10-21      surf   \n",
       "239                                    Fresno, CA MSA 2018-08-11      surf   \n",
       "97   Washington-Arlington-Alexandria, DC-VA-MD-WV MSA 2018-02-26      surf   \n",
       "309            San Diego-Chula Vista-Carlsbad, CA MSA 2018-07-04      surf   \n",
       "485  Nashville-Davidson–Murfreesboro–Franklin, TN MSA 2018-08-21      surf   \n",
       "213            San Diego-Chula Vista-Carlsbad, CA MSA 2018-11-25  ultimate   \n",
       "147                            Urban Honolulu, HI MSA 2018-04-30      surf   \n",
       "334                   Seattle-Tacoma-Bellevue, WA MSA 2018-03-08      surf   \n",
       "263                Boston-Cambridge-Newton, MA-NH MSA 2018-03-06      surf   \n",
       "399                 San Antonio-New Braunfels, TX MSA 2018-06-06      surf   \n",
       "\n",
       "    churn_date  mes  \n",
       "342 2018-12-31   10  \n",
       "239 2018-12-31    8  \n",
       "97  2018-12-31    2  \n",
       "309 2018-12-31    7  \n",
       "485 2018-12-31    8  \n",
       "213 2018-12-31   11  \n",
       "147 2018-12-31    4  \n",
       "334 2018-12-31    3  \n",
       "263 2018-12-31    3  \n",
       "399 2018-12-31    6  "
      ]
     },
     "execution_count": 236,
     "metadata": {},
     "output_type": "execute_result"
    }
   ],
   "source": [
    "users['mes']= users['reg_date'].dt.month\n",
    "users.sample(10)"
   ]
  },
  {
   "cell_type": "markdown",
   "metadata": {
    "id": "o7MeKCid0q08"
   },
   "source": [
    "## Llamadas"
   ]
  },
  {
   "cell_type": "code",
   "execution_count": 237,
   "metadata": {
    "id": "6dDlnoDm0q08"
   },
   "outputs": [
    {
     "name": "stdout",
     "output_type": "stream",
     "text": [
      "<class 'pandas.core.frame.DataFrame'>\n",
      "RangeIndex: 137735 entries, 0 to 137734\n",
      "Data columns (total 4 columns):\n",
      " #   Column     Non-Null Count   Dtype  \n",
      "---  ------     --------------   -----  \n",
      " 0   id         137735 non-null  object \n",
      " 1   user_id    137735 non-null  int64  \n",
      " 2   call_date  137735 non-null  object \n",
      " 3   duration   137735 non-null  float64\n",
      "dtypes: float64(1), int64(1), object(2)\n",
      "memory usage: 4.2+ MB\n"
     ]
    }
   ],
   "source": [
    "# Imprime la información general/resumida sobre el DataFrame de las llamadas\n",
    "calls.info()\n",
    "\n"
   ]
  },
  {
   "cell_type": "code",
   "execution_count": 238,
   "metadata": {
    "id": "kuh1vlNB0q09"
   },
   "outputs": [
    {
     "data": {
      "text/html": [
       "<div>\n",
       "<style scoped>\n",
       "    .dataframe tbody tr th:only-of-type {\n",
       "        vertical-align: middle;\n",
       "    }\n",
       "\n",
       "    .dataframe tbody tr th {\n",
       "        vertical-align: top;\n",
       "    }\n",
       "\n",
       "    .dataframe thead th {\n",
       "        text-align: right;\n",
       "    }\n",
       "</style>\n",
       "<table border=\"1\" class=\"dataframe\">\n",
       "  <thead>\n",
       "    <tr style=\"text-align: right;\">\n",
       "      <th></th>\n",
       "      <th>id</th>\n",
       "      <th>user_id</th>\n",
       "      <th>call_date</th>\n",
       "      <th>duration</th>\n",
       "    </tr>\n",
       "  </thead>\n",
       "  <tbody>\n",
       "    <tr>\n",
       "      <th>0</th>\n",
       "      <td>1000_93</td>\n",
       "      <td>1000</td>\n",
       "      <td>2018-12-27</td>\n",
       "      <td>8.52</td>\n",
       "    </tr>\n",
       "    <tr>\n",
       "      <th>1</th>\n",
       "      <td>1000_145</td>\n",
       "      <td>1000</td>\n",
       "      <td>2018-12-27</td>\n",
       "      <td>13.66</td>\n",
       "    </tr>\n",
       "    <tr>\n",
       "      <th>2</th>\n",
       "      <td>1000_247</td>\n",
       "      <td>1000</td>\n",
       "      <td>2018-12-27</td>\n",
       "      <td>14.48</td>\n",
       "    </tr>\n",
       "    <tr>\n",
       "      <th>3</th>\n",
       "      <td>1000_309</td>\n",
       "      <td>1000</td>\n",
       "      <td>2018-12-28</td>\n",
       "      <td>5.76</td>\n",
       "    </tr>\n",
       "    <tr>\n",
       "      <th>4</th>\n",
       "      <td>1000_380</td>\n",
       "      <td>1000</td>\n",
       "      <td>2018-12-30</td>\n",
       "      <td>4.22</td>\n",
       "    </tr>\n",
       "    <tr>\n",
       "      <th>5</th>\n",
       "      <td>1000_388</td>\n",
       "      <td>1000</td>\n",
       "      <td>2018-12-31</td>\n",
       "      <td>2.20</td>\n",
       "    </tr>\n",
       "    <tr>\n",
       "      <th>6</th>\n",
       "      <td>1000_510</td>\n",
       "      <td>1000</td>\n",
       "      <td>2018-12-27</td>\n",
       "      <td>5.75</td>\n",
       "    </tr>\n",
       "    <tr>\n",
       "      <th>7</th>\n",
       "      <td>1000_521</td>\n",
       "      <td>1000</td>\n",
       "      <td>2018-12-28</td>\n",
       "      <td>14.18</td>\n",
       "    </tr>\n",
       "    <tr>\n",
       "      <th>8</th>\n",
       "      <td>1000_530</td>\n",
       "      <td>1000</td>\n",
       "      <td>2018-12-28</td>\n",
       "      <td>5.77</td>\n",
       "    </tr>\n",
       "    <tr>\n",
       "      <th>9</th>\n",
       "      <td>1000_544</td>\n",
       "      <td>1000</td>\n",
       "      <td>2018-12-26</td>\n",
       "      <td>4.40</td>\n",
       "    </tr>\n",
       "  </tbody>\n",
       "</table>\n",
       "</div>"
      ],
      "text/plain": [
       "         id  user_id   call_date  duration\n",
       "0   1000_93     1000  2018-12-27      8.52\n",
       "1  1000_145     1000  2018-12-27     13.66\n",
       "2  1000_247     1000  2018-12-27     14.48\n",
       "3  1000_309     1000  2018-12-28      5.76\n",
       "4  1000_380     1000  2018-12-30      4.22\n",
       "5  1000_388     1000  2018-12-31      2.20\n",
       "6  1000_510     1000  2018-12-27      5.75\n",
       "7  1000_521     1000  2018-12-28     14.18\n",
       "8  1000_530     1000  2018-12-28      5.77\n",
       "9  1000_544     1000  2018-12-26      4.40"
      ]
     },
     "execution_count": 238,
     "metadata": {},
     "output_type": "execute_result"
    }
   ],
   "source": [
    "# Imprime una muestra de datos para las llamadas\n",
    "calls.head(10)\n"
   ]
  },
  {
   "cell_type": "markdown",
   "metadata": {
    "id": "DOAxYJSx0q09"
   },
   "source": [
    "Se observa la fecha con un formato erroneo donde podriamos segregar el mes y redondear la duración de minutos ya que el ejercicio menciona que 1 segundo se contara como 1 minuto."
   ]
  },
  {
   "cell_type": "markdown",
   "metadata": {
    "id": "S7hzxmbX0q0-"
   },
   "source": [
    "### Corregir los datos"
   ]
  },
  {
   "cell_type": "markdown",
   "metadata": {
    "id": "YxWyAjD20q0-"
   },
   "source": [
    "Se corrige el formato de la fecha"
   ]
  },
  {
   "cell_type": "code",
   "execution_count": 239,
   "metadata": {
    "id": "S2r8xA4f0q0-"
   },
   "outputs": [],
   "source": [
    "calls['call_date']=pd.to_datetime(calls['call_date'])"
   ]
  },
  {
   "cell_type": "markdown",
   "metadata": {
    "id": "KrMgTrlG0q0_"
   },
   "source": [
    "### Enriquecer los datos"
   ]
  },
  {
   "cell_type": "markdown",
   "metadata": {
    "id": "a9MbmEvE0q0_"
   },
   "source": [
    "Se agrega el mes que se realiza la llamada y una columna redondeando los minutos"
   ]
  },
  {
   "cell_type": "code",
   "execution_count": 240,
   "metadata": {
    "id": "iZ1avpA_0q0_"
   },
   "outputs": [
    {
     "data": {
      "text/html": [
       "<div>\n",
       "<style scoped>\n",
       "    .dataframe tbody tr th:only-of-type {\n",
       "        vertical-align: middle;\n",
       "    }\n",
       "\n",
       "    .dataframe tbody tr th {\n",
       "        vertical-align: top;\n",
       "    }\n",
       "\n",
       "    .dataframe thead th {\n",
       "        text-align: right;\n",
       "    }\n",
       "</style>\n",
       "<table border=\"1\" class=\"dataframe\">\n",
       "  <thead>\n",
       "    <tr style=\"text-align: right;\">\n",
       "      <th></th>\n",
       "      <th>id</th>\n",
       "      <th>user_id</th>\n",
       "      <th>call_date</th>\n",
       "      <th>duration</th>\n",
       "      <th>mes</th>\n",
       "      <th>duration_min</th>\n",
       "    </tr>\n",
       "  </thead>\n",
       "  <tbody>\n",
       "    <tr>\n",
       "      <th>0</th>\n",
       "      <td>1000_93</td>\n",
       "      <td>1000</td>\n",
       "      <td>2018-12-27</td>\n",
       "      <td>8.52</td>\n",
       "      <td>12</td>\n",
       "      <td>9.0</td>\n",
       "    </tr>\n",
       "    <tr>\n",
       "      <th>1</th>\n",
       "      <td>1000_145</td>\n",
       "      <td>1000</td>\n",
       "      <td>2018-12-27</td>\n",
       "      <td>13.66</td>\n",
       "      <td>12</td>\n",
       "      <td>14.0</td>\n",
       "    </tr>\n",
       "    <tr>\n",
       "      <th>2</th>\n",
       "      <td>1000_247</td>\n",
       "      <td>1000</td>\n",
       "      <td>2018-12-27</td>\n",
       "      <td>14.48</td>\n",
       "      <td>12</td>\n",
       "      <td>15.0</td>\n",
       "    </tr>\n",
       "    <tr>\n",
       "      <th>3</th>\n",
       "      <td>1000_309</td>\n",
       "      <td>1000</td>\n",
       "      <td>2018-12-28</td>\n",
       "      <td>5.76</td>\n",
       "      <td>12</td>\n",
       "      <td>6.0</td>\n",
       "    </tr>\n",
       "    <tr>\n",
       "      <th>4</th>\n",
       "      <td>1000_380</td>\n",
       "      <td>1000</td>\n",
       "      <td>2018-12-30</td>\n",
       "      <td>4.22</td>\n",
       "      <td>12</td>\n",
       "      <td>5.0</td>\n",
       "    </tr>\n",
       "    <tr>\n",
       "      <th>5</th>\n",
       "      <td>1000_388</td>\n",
       "      <td>1000</td>\n",
       "      <td>2018-12-31</td>\n",
       "      <td>2.20</td>\n",
       "      <td>12</td>\n",
       "      <td>3.0</td>\n",
       "    </tr>\n",
       "    <tr>\n",
       "      <th>6</th>\n",
       "      <td>1000_510</td>\n",
       "      <td>1000</td>\n",
       "      <td>2018-12-27</td>\n",
       "      <td>5.75</td>\n",
       "      <td>12</td>\n",
       "      <td>6.0</td>\n",
       "    </tr>\n",
       "    <tr>\n",
       "      <th>7</th>\n",
       "      <td>1000_521</td>\n",
       "      <td>1000</td>\n",
       "      <td>2018-12-28</td>\n",
       "      <td>14.18</td>\n",
       "      <td>12</td>\n",
       "      <td>15.0</td>\n",
       "    </tr>\n",
       "    <tr>\n",
       "      <th>8</th>\n",
       "      <td>1000_530</td>\n",
       "      <td>1000</td>\n",
       "      <td>2018-12-28</td>\n",
       "      <td>5.77</td>\n",
       "      <td>12</td>\n",
       "      <td>6.0</td>\n",
       "    </tr>\n",
       "    <tr>\n",
       "      <th>9</th>\n",
       "      <td>1000_544</td>\n",
       "      <td>1000</td>\n",
       "      <td>2018-12-26</td>\n",
       "      <td>4.40</td>\n",
       "      <td>12</td>\n",
       "      <td>5.0</td>\n",
       "    </tr>\n",
       "    <tr>\n",
       "      <th>10</th>\n",
       "      <td>1000_693</td>\n",
       "      <td>1000</td>\n",
       "      <td>2018-12-31</td>\n",
       "      <td>4.31</td>\n",
       "      <td>12</td>\n",
       "      <td>5.0</td>\n",
       "    </tr>\n",
       "    <tr>\n",
       "      <th>11</th>\n",
       "      <td>1000_705</td>\n",
       "      <td>1000</td>\n",
       "      <td>2018-12-31</td>\n",
       "      <td>12.78</td>\n",
       "      <td>12</td>\n",
       "      <td>13.0</td>\n",
       "    </tr>\n",
       "    <tr>\n",
       "      <th>12</th>\n",
       "      <td>1000_735</td>\n",
       "      <td>1000</td>\n",
       "      <td>2018-12-29</td>\n",
       "      <td>1.70</td>\n",
       "      <td>12</td>\n",
       "      <td>2.0</td>\n",
       "    </tr>\n",
       "    <tr>\n",
       "      <th>13</th>\n",
       "      <td>1000_778</td>\n",
       "      <td>1000</td>\n",
       "      <td>2018-12-28</td>\n",
       "      <td>3.29</td>\n",
       "      <td>12</td>\n",
       "      <td>4.0</td>\n",
       "    </tr>\n",
       "    <tr>\n",
       "      <th>14</th>\n",
       "      <td>1000_826</td>\n",
       "      <td>1000</td>\n",
       "      <td>2018-12-26</td>\n",
       "      <td>9.96</td>\n",
       "      <td>12</td>\n",
       "      <td>10.0</td>\n",
       "    </tr>\n",
       "  </tbody>\n",
       "</table>\n",
       "</div>"
      ],
      "text/plain": [
       "          id  user_id  call_date  duration  mes  duration_min\n",
       "0    1000_93     1000 2018-12-27      8.52   12           9.0\n",
       "1   1000_145     1000 2018-12-27     13.66   12          14.0\n",
       "2   1000_247     1000 2018-12-27     14.48   12          15.0\n",
       "3   1000_309     1000 2018-12-28      5.76   12           6.0\n",
       "4   1000_380     1000 2018-12-30      4.22   12           5.0\n",
       "5   1000_388     1000 2018-12-31      2.20   12           3.0\n",
       "6   1000_510     1000 2018-12-27      5.75   12           6.0\n",
       "7   1000_521     1000 2018-12-28     14.18   12          15.0\n",
       "8   1000_530     1000 2018-12-28      5.77   12           6.0\n",
       "9   1000_544     1000 2018-12-26      4.40   12           5.0\n",
       "10  1000_693     1000 2018-12-31      4.31   12           5.0\n",
       "11  1000_705     1000 2018-12-31     12.78   12          13.0\n",
       "12  1000_735     1000 2018-12-29      1.70   12           2.0\n",
       "13  1000_778     1000 2018-12-28      3.29   12           4.0\n",
       "14  1000_826     1000 2018-12-26      9.96   12          10.0"
      ]
     },
     "execution_count": 240,
     "metadata": {},
     "output_type": "execute_result"
    }
   ],
   "source": [
    "calls['mes']= calls['call_date'].dt.month\n",
    "calls['duration_min'] = calls['duration'].apply(lambda x:np.ceil(x) if x % 1 != 0 else x)\n",
    "\n",
    "calls.head(15)"
   ]
  },
  {
   "cell_type": "markdown",
   "metadata": {
    "id": "mOUZSi180q0_"
   },
   "source": [
    "## Mensajes"
   ]
  },
  {
   "cell_type": "code",
   "execution_count": 241,
   "metadata": {
    "id": "R-bYJpdV0q1A"
   },
   "outputs": [
    {
     "name": "stdout",
     "output_type": "stream",
     "text": [
      "<class 'pandas.core.frame.DataFrame'>\n",
      "RangeIndex: 76051 entries, 0 to 76050\n",
      "Data columns (total 3 columns):\n",
      " #   Column        Non-Null Count  Dtype \n",
      "---  ------        --------------  ----- \n",
      " 0   id            76051 non-null  object\n",
      " 1   user_id       76051 non-null  int64 \n",
      " 2   message_date  76051 non-null  object\n",
      "dtypes: int64(1), object(2)\n",
      "memory usage: 1.7+ MB\n"
     ]
    }
   ],
   "source": [
    "# Imprime la información general/resumida sobre el DataFrame de los mensajes\n",
    "messages.info()\n"
   ]
  },
  {
   "cell_type": "code",
   "execution_count": 242,
   "metadata": {
    "id": "mCEl2iGE0q1A"
   },
   "outputs": [
    {
     "data": {
      "text/html": [
       "<div>\n",
       "<style scoped>\n",
       "    .dataframe tbody tr th:only-of-type {\n",
       "        vertical-align: middle;\n",
       "    }\n",
       "\n",
       "    .dataframe tbody tr th {\n",
       "        vertical-align: top;\n",
       "    }\n",
       "\n",
       "    .dataframe thead th {\n",
       "        text-align: right;\n",
       "    }\n",
       "</style>\n",
       "<table border=\"1\" class=\"dataframe\">\n",
       "  <thead>\n",
       "    <tr style=\"text-align: right;\">\n",
       "      <th></th>\n",
       "      <th>id</th>\n",
       "      <th>user_id</th>\n",
       "      <th>message_date</th>\n",
       "    </tr>\n",
       "  </thead>\n",
       "  <tbody>\n",
       "    <tr>\n",
       "      <th>59666</th>\n",
       "      <td>1379_143</td>\n",
       "      <td>1379</td>\n",
       "      <td>2018-12-04</td>\n",
       "    </tr>\n",
       "    <tr>\n",
       "      <th>16248</th>\n",
       "      <td>1110_139</td>\n",
       "      <td>1110</td>\n",
       "      <td>2018-08-13</td>\n",
       "    </tr>\n",
       "    <tr>\n",
       "      <th>26333</th>\n",
       "      <td>1159_336</td>\n",
       "      <td>1159</td>\n",
       "      <td>2018-12-09</td>\n",
       "    </tr>\n",
       "    <tr>\n",
       "      <th>51310</th>\n",
       "      <td>1334_28</td>\n",
       "      <td>1334</td>\n",
       "      <td>2018-09-19</td>\n",
       "    </tr>\n",
       "    <tr>\n",
       "      <th>43195</th>\n",
       "      <td>1285_6</td>\n",
       "      <td>1285</td>\n",
       "      <td>2018-08-17</td>\n",
       "    </tr>\n",
       "    <tr>\n",
       "      <th>74809</th>\n",
       "      <td>1484_442</td>\n",
       "      <td>1484</td>\n",
       "      <td>2018-12-29</td>\n",
       "    </tr>\n",
       "    <tr>\n",
       "      <th>54192</th>\n",
       "      <td>1343_280</td>\n",
       "      <td>1343</td>\n",
       "      <td>2018-11-05</td>\n",
       "    </tr>\n",
       "    <tr>\n",
       "      <th>33544</th>\n",
       "      <td>1211_220</td>\n",
       "      <td>1211</td>\n",
       "      <td>2018-12-22</td>\n",
       "    </tr>\n",
       "    <tr>\n",
       "      <th>71183</th>\n",
       "      <td>1465_60</td>\n",
       "      <td>1465</td>\n",
       "      <td>2018-07-21</td>\n",
       "    </tr>\n",
       "    <tr>\n",
       "      <th>19069</th>\n",
       "      <td>1123_138</td>\n",
       "      <td>1123</td>\n",
       "      <td>2018-08-14</td>\n",
       "    </tr>\n",
       "  </tbody>\n",
       "</table>\n",
       "</div>"
      ],
      "text/plain": [
       "             id  user_id message_date\n",
       "59666  1379_143     1379   2018-12-04\n",
       "16248  1110_139     1110   2018-08-13\n",
       "26333  1159_336     1159   2018-12-09\n",
       "51310   1334_28     1334   2018-09-19\n",
       "43195    1285_6     1285   2018-08-17\n",
       "74809  1484_442     1484   2018-12-29\n",
       "54192  1343_280     1343   2018-11-05\n",
       "33544  1211_220     1211   2018-12-22\n",
       "71183   1465_60     1465   2018-07-21\n",
       "19069  1123_138     1123   2018-08-14"
      ]
     },
     "execution_count": 242,
     "metadata": {},
     "output_type": "execute_result"
    }
   ],
   "source": [
    "# Imprime una muestra de datos para los mensajes\n",
    "messages.sample(10)\n"
   ]
  },
  {
   "cell_type": "markdown",
   "metadata": {
    "id": "04xDj7KH0q1A"
   },
   "source": [
    "Cambiamos formato de fecha y agregamos el mes que se dieron los mensajes"
   ]
  },
  {
   "cell_type": "markdown",
   "metadata": {
    "id": "Sprfak900q1B"
   },
   "source": [
    "### Corregir los datos"
   ]
  },
  {
   "cell_type": "markdown",
   "metadata": {
    "id": "eGw7d9j10q1B"
   },
   "source": [
    "Corregimos formato de fecha"
   ]
  },
  {
   "cell_type": "code",
   "execution_count": 243,
   "metadata": {
    "id": "vsllvkoa0q1B"
   },
   "outputs": [],
   "source": [
    "messages['message_date']=pd.to_datetime(messages['message_date'])"
   ]
  },
  {
   "cell_type": "markdown",
   "metadata": {
    "id": "HvLid7iD0q1B"
   },
   "source": [
    "### Enriquecer los datos"
   ]
  },
  {
   "cell_type": "markdown",
   "metadata": {
    "id": "8nhPFKIe0q1C"
   },
   "source": [
    "Agregamos el mes que se realizo el mensaje"
   ]
  },
  {
   "cell_type": "code",
   "execution_count": 244,
   "metadata": {
    "id": "zYEXZac10q1C"
   },
   "outputs": [
    {
     "data": {
      "text/html": [
       "<div>\n",
       "<style scoped>\n",
       "    .dataframe tbody tr th:only-of-type {\n",
       "        vertical-align: middle;\n",
       "    }\n",
       "\n",
       "    .dataframe tbody tr th {\n",
       "        vertical-align: top;\n",
       "    }\n",
       "\n",
       "    .dataframe thead th {\n",
       "        text-align: right;\n",
       "    }\n",
       "</style>\n",
       "<table border=\"1\" class=\"dataframe\">\n",
       "  <thead>\n",
       "    <tr style=\"text-align: right;\">\n",
       "      <th></th>\n",
       "      <th>id</th>\n",
       "      <th>user_id</th>\n",
       "      <th>message_date</th>\n",
       "      <th>mes</th>\n",
       "    </tr>\n",
       "  </thead>\n",
       "  <tbody>\n",
       "    <tr>\n",
       "      <th>13809</th>\n",
       "      <td>1094_42</td>\n",
       "      <td>1094</td>\n",
       "      <td>2018-11-09</td>\n",
       "      <td>11</td>\n",
       "    </tr>\n",
       "    <tr>\n",
       "      <th>63140</th>\n",
       "      <td>1401_67</td>\n",
       "      <td>1401</td>\n",
       "      <td>2018-10-09</td>\n",
       "      <td>10</td>\n",
       "    </tr>\n",
       "    <tr>\n",
       "      <th>59632</th>\n",
       "      <td>1379_109</td>\n",
       "      <td>1379</td>\n",
       "      <td>2018-12-26</td>\n",
       "      <td>12</td>\n",
       "    </tr>\n",
       "    <tr>\n",
       "      <th>4776</th>\n",
       "      <td>1044_154</td>\n",
       "      <td>1044</td>\n",
       "      <td>2018-10-24</td>\n",
       "      <td>10</td>\n",
       "    </tr>\n",
       "    <tr>\n",
       "      <th>66478</th>\n",
       "      <td>1433_418</td>\n",
       "      <td>1433</td>\n",
       "      <td>2018-10-08</td>\n",
       "      <td>10</td>\n",
       "    </tr>\n",
       "    <tr>\n",
       "      <th>16009</th>\n",
       "      <td>1105_208</td>\n",
       "      <td>1105</td>\n",
       "      <td>2018-11-07</td>\n",
       "      <td>11</td>\n",
       "    </tr>\n",
       "    <tr>\n",
       "      <th>11837</th>\n",
       "      <td>1079_236</td>\n",
       "      <td>1079</td>\n",
       "      <td>2018-08-27</td>\n",
       "      <td>8</td>\n",
       "    </tr>\n",
       "    <tr>\n",
       "      <th>21470</th>\n",
       "      <td>1132_826</td>\n",
       "      <td>1132</td>\n",
       "      <td>2018-06-09</td>\n",
       "      <td>6</td>\n",
       "    </tr>\n",
       "    <tr>\n",
       "      <th>70483</th>\n",
       "      <td>1458_184</td>\n",
       "      <td>1458</td>\n",
       "      <td>2018-09-28</td>\n",
       "      <td>9</td>\n",
       "    </tr>\n",
       "    <tr>\n",
       "      <th>44462</th>\n",
       "      <td>1295_149</td>\n",
       "      <td>1295</td>\n",
       "      <td>2018-08-30</td>\n",
       "      <td>8</td>\n",
       "    </tr>\n",
       "    <tr>\n",
       "      <th>38323</th>\n",
       "      <td>1252_89</td>\n",
       "      <td>1252</td>\n",
       "      <td>2018-10-28</td>\n",
       "      <td>10</td>\n",
       "    </tr>\n",
       "    <tr>\n",
       "      <th>51511</th>\n",
       "      <td>1335_100</td>\n",
       "      <td>1335</td>\n",
       "      <td>2018-07-14</td>\n",
       "      <td>7</td>\n",
       "    </tr>\n",
       "    <tr>\n",
       "      <th>64164</th>\n",
       "      <td>1408_289</td>\n",
       "      <td>1408</td>\n",
       "      <td>2018-08-05</td>\n",
       "      <td>8</td>\n",
       "    </tr>\n",
       "    <tr>\n",
       "      <th>33108</th>\n",
       "      <td>1206_145</td>\n",
       "      <td>1206</td>\n",
       "      <td>2018-10-20</td>\n",
       "      <td>10</td>\n",
       "    </tr>\n",
       "    <tr>\n",
       "      <th>53993</th>\n",
       "      <td>1343_76</td>\n",
       "      <td>1343</td>\n",
       "      <td>2018-11-16</td>\n",
       "      <td>11</td>\n",
       "    </tr>\n",
       "  </tbody>\n",
       "</table>\n",
       "</div>"
      ],
      "text/plain": [
       "             id  user_id message_date  mes\n",
       "13809   1094_42     1094   2018-11-09   11\n",
       "63140   1401_67     1401   2018-10-09   10\n",
       "59632  1379_109     1379   2018-12-26   12\n",
       "4776   1044_154     1044   2018-10-24   10\n",
       "66478  1433_418     1433   2018-10-08   10\n",
       "16009  1105_208     1105   2018-11-07   11\n",
       "11837  1079_236     1079   2018-08-27    8\n",
       "21470  1132_826     1132   2018-06-09    6\n",
       "70483  1458_184     1458   2018-09-28    9\n",
       "44462  1295_149     1295   2018-08-30    8\n",
       "38323   1252_89     1252   2018-10-28   10\n",
       "51511  1335_100     1335   2018-07-14    7\n",
       "64164  1408_289     1408   2018-08-05    8\n",
       "33108  1206_145     1206   2018-10-20   10\n",
       "53993   1343_76     1343   2018-11-16   11"
      ]
     },
     "execution_count": 244,
     "metadata": {},
     "output_type": "execute_result"
    }
   ],
   "source": [
    "messages['mes']= messages['message_date'].dt.month\n",
    "messages.sample(15)"
   ]
  },
  {
   "cell_type": "markdown",
   "metadata": {
    "id": "bStkaxn40q1C"
   },
   "source": [
    "## Internet"
   ]
  },
  {
   "cell_type": "code",
   "execution_count": 245,
   "metadata": {
    "id": "e-Uz5qyn0q1C"
   },
   "outputs": [
    {
     "name": "stdout",
     "output_type": "stream",
     "text": [
      "<class 'pandas.core.frame.DataFrame'>\n",
      "RangeIndex: 104825 entries, 0 to 104824\n",
      "Data columns (total 4 columns):\n",
      " #   Column        Non-Null Count   Dtype  \n",
      "---  ------        --------------   -----  \n",
      " 0   id            104825 non-null  object \n",
      " 1   user_id       104825 non-null  int64  \n",
      " 2   session_date  104825 non-null  object \n",
      " 3   mb_used       104825 non-null  float64\n",
      "dtypes: float64(1), int64(1), object(2)\n",
      "memory usage: 3.2+ MB\n"
     ]
    }
   ],
   "source": [
    "# Imprime la información general/resumida sobre el DataFrame de internet\n",
    "internet.info()\n"
   ]
  },
  {
   "cell_type": "code",
   "execution_count": 246,
   "metadata": {
    "id": "9r3x_XLw0q1C"
   },
   "outputs": [
    {
     "data": {
      "text/html": [
       "<div>\n",
       "<style scoped>\n",
       "    .dataframe tbody tr th:only-of-type {\n",
       "        vertical-align: middle;\n",
       "    }\n",
       "\n",
       "    .dataframe tbody tr th {\n",
       "        vertical-align: top;\n",
       "    }\n",
       "\n",
       "    .dataframe thead th {\n",
       "        text-align: right;\n",
       "    }\n",
       "</style>\n",
       "<table border=\"1\" class=\"dataframe\">\n",
       "  <thead>\n",
       "    <tr style=\"text-align: right;\">\n",
       "      <th></th>\n",
       "      <th>id</th>\n",
       "      <th>user_id</th>\n",
       "      <th>session_date</th>\n",
       "      <th>mb_used</th>\n",
       "    </tr>\n",
       "  </thead>\n",
       "  <tbody>\n",
       "    <tr>\n",
       "      <th>36874</th>\n",
       "      <td>1166_40</td>\n",
       "      <td>1166</td>\n",
       "      <td>2018-12-02</td>\n",
       "      <td>468.78</td>\n",
       "    </tr>\n",
       "    <tr>\n",
       "      <th>10478</th>\n",
       "      <td>1054_10</td>\n",
       "      <td>1054</td>\n",
       "      <td>2018-08-28</td>\n",
       "      <td>362.99</td>\n",
       "    </tr>\n",
       "    <tr>\n",
       "      <th>922</th>\n",
       "      <td>1005_36</td>\n",
       "      <td>1005</td>\n",
       "      <td>2018-12-22</td>\n",
       "      <td>614.32</td>\n",
       "    </tr>\n",
       "    <tr>\n",
       "      <th>35170</th>\n",
       "      <td>1159_7</td>\n",
       "      <td>1159</td>\n",
       "      <td>2018-10-25</td>\n",
       "      <td>124.02</td>\n",
       "    </tr>\n",
       "    <tr>\n",
       "      <th>87280</th>\n",
       "      <td>1404_147</td>\n",
       "      <td>1404</td>\n",
       "      <td>2018-10-14</td>\n",
       "      <td>460.39</td>\n",
       "    </tr>\n",
       "    <tr>\n",
       "      <th>15335</th>\n",
       "      <td>1069_247</td>\n",
       "      <td>1069</td>\n",
       "      <td>2018-10-13</td>\n",
       "      <td>578.26</td>\n",
       "    </tr>\n",
       "    <tr>\n",
       "      <th>58185</th>\n",
       "      <td>1262_37</td>\n",
       "      <td>1262</td>\n",
       "      <td>2018-12-22</td>\n",
       "      <td>768.05</td>\n",
       "    </tr>\n",
       "    <tr>\n",
       "      <th>74580</th>\n",
       "      <td>1351_66</td>\n",
       "      <td>1351</td>\n",
       "      <td>2018-12-29</td>\n",
       "      <td>399.87</td>\n",
       "    </tr>\n",
       "    <tr>\n",
       "      <th>55570</th>\n",
       "      <td>1251_381</td>\n",
       "      <td>1251</td>\n",
       "      <td>2018-10-25</td>\n",
       "      <td>76.69</td>\n",
       "    </tr>\n",
       "    <tr>\n",
       "      <th>97802</th>\n",
       "      <td>1460_496</td>\n",
       "      <td>1460</td>\n",
       "      <td>2018-08-12</td>\n",
       "      <td>733.50</td>\n",
       "    </tr>\n",
       "  </tbody>\n",
       "</table>\n",
       "</div>"
      ],
      "text/plain": [
       "             id  user_id session_date  mb_used\n",
       "36874   1166_40     1166   2018-12-02   468.78\n",
       "10478   1054_10     1054   2018-08-28   362.99\n",
       "922     1005_36     1005   2018-12-22   614.32\n",
       "35170    1159_7     1159   2018-10-25   124.02\n",
       "87280  1404_147     1404   2018-10-14   460.39\n",
       "15335  1069_247     1069   2018-10-13   578.26\n",
       "58185   1262_37     1262   2018-12-22   768.05\n",
       "74580   1351_66     1351   2018-12-29   399.87\n",
       "55570  1251_381     1251   2018-10-25    76.69\n",
       "97802  1460_496     1460   2018-08-12   733.50"
      ]
     },
     "execution_count": 246,
     "metadata": {},
     "output_type": "execute_result"
    }
   ],
   "source": [
    "# Imprime una muestra de datos para el tráfico de internet\n",
    "internet.sample(10)\n",
    "\n"
   ]
  },
  {
   "cell_type": "markdown",
   "metadata": {
    "id": "EzOG5ik30q1D"
   },
   "source": [
    "El formato de fecha es incorrecto, adicional debemos convertir MG a GB redondeando la cifra y agregando el mes de consumo."
   ]
  },
  {
   "cell_type": "markdown",
   "metadata": {
    "id": "yA0tkPFg0q1D"
   },
   "source": [
    "### Corregir los datos"
   ]
  },
  {
   "cell_type": "markdown",
   "metadata": {
    "id": "zlZMuIEK0q1D"
   },
   "source": [
    "Se corrige formsto de fecha"
   ]
  },
  {
   "cell_type": "code",
   "execution_count": 247,
   "metadata": {
    "id": "zVeanzdd0q1E"
   },
   "outputs": [],
   "source": [
    "internet['session_date']=pd.to_datetime(internet['session_date'])"
   ]
  },
  {
   "cell_type": "markdown",
   "metadata": {
    "id": "e8_mLF4a0q1E"
   },
   "source": [
    "### Enriquecer los datos"
   ]
  },
  {
   "cell_type": "markdown",
   "metadata": {
    "id": "xhNdn2tE0q1E"
   },
   "source": [
    "Se agrega el mes de consumo y los GB consumidos"
   ]
  },
  {
   "cell_type": "code",
   "execution_count": 248,
   "metadata": {
    "id": "ESiYPIEK0q1E"
   },
   "outputs": [
    {
     "data": {
      "text/html": [
       "<div>\n",
       "<style scoped>\n",
       "    .dataframe tbody tr th:only-of-type {\n",
       "        vertical-align: middle;\n",
       "    }\n",
       "\n",
       "    .dataframe tbody tr th {\n",
       "        vertical-align: top;\n",
       "    }\n",
       "\n",
       "    .dataframe thead th {\n",
       "        text-align: right;\n",
       "    }\n",
       "</style>\n",
       "<table border=\"1\" class=\"dataframe\">\n",
       "  <thead>\n",
       "    <tr style=\"text-align: right;\">\n",
       "      <th></th>\n",
       "      <th>id</th>\n",
       "      <th>user_id</th>\n",
       "      <th>session_date</th>\n",
       "      <th>mb_used</th>\n",
       "      <th>mes</th>\n",
       "    </tr>\n",
       "  </thead>\n",
       "  <tbody>\n",
       "    <tr>\n",
       "      <th>11197</th>\n",
       "      <td>1055_202</td>\n",
       "      <td>1055</td>\n",
       "      <td>2018-09-08</td>\n",
       "      <td>345.90</td>\n",
       "      <td>9</td>\n",
       "    </tr>\n",
       "    <tr>\n",
       "      <th>19266</th>\n",
       "      <td>1086_55</td>\n",
       "      <td>1086</td>\n",
       "      <td>2018-12-25</td>\n",
       "      <td>0.00</td>\n",
       "      <td>12</td>\n",
       "    </tr>\n",
       "    <tr>\n",
       "      <th>85158</th>\n",
       "      <td>1397_496</td>\n",
       "      <td>1397</td>\n",
       "      <td>2018-10-29</td>\n",
       "      <td>496.81</td>\n",
       "      <td>10</td>\n",
       "    </tr>\n",
       "    <tr>\n",
       "      <th>19335</th>\n",
       "      <td>1087_62</td>\n",
       "      <td>1087</td>\n",
       "      <td>2018-12-26</td>\n",
       "      <td>295.75</td>\n",
       "      <td>12</td>\n",
       "    </tr>\n",
       "    <tr>\n",
       "      <th>9661</th>\n",
       "      <td>1050_80</td>\n",
       "      <td>1050</td>\n",
       "      <td>2018-11-03</td>\n",
       "      <td>162.54</td>\n",
       "      <td>11</td>\n",
       "    </tr>\n",
       "    <tr>\n",
       "      <th>99467</th>\n",
       "      <td>1468_287</td>\n",
       "      <td>1468</td>\n",
       "      <td>2018-12-23</td>\n",
       "      <td>409.20</td>\n",
       "      <td>12</td>\n",
       "    </tr>\n",
       "    <tr>\n",
       "      <th>102934</th>\n",
       "      <td>1493_52</td>\n",
       "      <td>1493</td>\n",
       "      <td>2018-11-24</td>\n",
       "      <td>0.00</td>\n",
       "      <td>11</td>\n",
       "    </tr>\n",
       "    <tr>\n",
       "      <th>89045</th>\n",
       "      <td>1410_192</td>\n",
       "      <td>1410</td>\n",
       "      <td>2018-12-21</td>\n",
       "      <td>265.20</td>\n",
       "      <td>12</td>\n",
       "    </tr>\n",
       "    <tr>\n",
       "      <th>42002</th>\n",
       "      <td>1187_179</td>\n",
       "      <td>1187</td>\n",
       "      <td>2018-11-04</td>\n",
       "      <td>101.76</td>\n",
       "      <td>11</td>\n",
       "    </tr>\n",
       "    <tr>\n",
       "      <th>87779</th>\n",
       "      <td>1406_96</td>\n",
       "      <td>1406</td>\n",
       "      <td>2018-08-17</td>\n",
       "      <td>424.64</td>\n",
       "      <td>8</td>\n",
       "    </tr>\n",
       "  </tbody>\n",
       "</table>\n",
       "</div>"
      ],
      "text/plain": [
       "              id  user_id session_date  mb_used  mes\n",
       "11197   1055_202     1055   2018-09-08   345.90    9\n",
       "19266    1086_55     1086   2018-12-25     0.00   12\n",
       "85158   1397_496     1397   2018-10-29   496.81   10\n",
       "19335    1087_62     1087   2018-12-26   295.75   12\n",
       "9661     1050_80     1050   2018-11-03   162.54   11\n",
       "99467   1468_287     1468   2018-12-23   409.20   12\n",
       "102934   1493_52     1493   2018-11-24     0.00   11\n",
       "89045   1410_192     1410   2018-12-21   265.20   12\n",
       "42002   1187_179     1187   2018-11-04   101.76   11\n",
       "87779    1406_96     1406   2018-08-17   424.64    8"
      ]
     },
     "execution_count": 248,
     "metadata": {},
     "output_type": "execute_result"
    }
   ],
   "source": [
    "internet['mes'] = internet['session_date'].dt.month\n",
    "#internet['gb_used']= (internet['mb_used'] / 1000).apply(lambda x:np.ceil(x if x % 1 !=0 else x))\n",
    "internet.sample(10)"
   ]
  },
  {
   "cell_type": "markdown",
   "metadata": {},
   "source": [
    "<div class=\"alert alert-block alert-success\">\n",
    "<b>Comentario del revisor (1ra Iteración)</b> <a class=“tocSkip”></a>\n",
    "\n",
    "Javier excelente trabajo en el análisis exploratorio de datos, comprobaste los datos duplicados y faltantes proceso que es clave para evitar errores en el estudio de los datos. Además hiciste los ajustes necesarios el los tipo de datos, esto facilitará el desarrollo de las demás etapas del proyecto\n",
    "    \n",
    "\n",
    "    \n",
    "\n",
    "</div>"
   ]
  },
  {
   "cell_type": "markdown",
   "metadata": {
    "id": "3UA2cqIW0q1E"
   },
   "source": [
    "## Estudiar las condiciones de las tarifas"
   ]
  },
  {
   "cell_type": "markdown",
   "metadata": {
    "id": "T86Sqltq0q1F"
   },
   "source": [
    "[Es sumamente importante entender cómo funcionan las tarifas, cómo se les cobra a los usuarios en función de su plan de suscripción. Así que te sugerimos imprimir la información de la tarifa para ver una vez más sus condiciones.]"
   ]
  },
  {
   "cell_type": "code",
   "execution_count": 249,
   "metadata": {
    "id": "i409op8p0q1F"
   },
   "outputs": [
    {
     "data": {
      "text/html": [
       "<div>\n",
       "<style scoped>\n",
       "    .dataframe tbody tr th:only-of-type {\n",
       "        vertical-align: middle;\n",
       "    }\n",
       "\n",
       "    .dataframe tbody tr th {\n",
       "        vertical-align: top;\n",
       "    }\n",
       "\n",
       "    .dataframe thead th {\n",
       "        text-align: right;\n",
       "    }\n",
       "</style>\n",
       "<table border=\"1\" class=\"dataframe\">\n",
       "  <thead>\n",
       "    <tr style=\"text-align: right;\">\n",
       "      <th></th>\n",
       "      <th>mensajes_incluidos</th>\n",
       "      <th>mb_incluidos</th>\n",
       "      <th>minutos_incluidos</th>\n",
       "      <th>pago_mensual</th>\n",
       "      <th>precio_gb_extra</th>\n",
       "      <th>precio_sms_extra</th>\n",
       "      <th>precio_min_extra</th>\n",
       "      <th>plan</th>\n",
       "      <th>gb_incluidos</th>\n",
       "    </tr>\n",
       "  </thead>\n",
       "  <tbody>\n",
       "    <tr>\n",
       "      <th>0</th>\n",
       "      <td>50</td>\n",
       "      <td>15360</td>\n",
       "      <td>500</td>\n",
       "      <td>20</td>\n",
       "      <td>10</td>\n",
       "      <td>0.03</td>\n",
       "      <td>0.03</td>\n",
       "      <td>surf</td>\n",
       "      <td>15</td>\n",
       "    </tr>\n",
       "    <tr>\n",
       "      <th>1</th>\n",
       "      <td>1000</td>\n",
       "      <td>30720</td>\n",
       "      <td>3000</td>\n",
       "      <td>70</td>\n",
       "      <td>7</td>\n",
       "      <td>0.01</td>\n",
       "      <td>0.01</td>\n",
       "      <td>ultimate</td>\n",
       "      <td>30</td>\n",
       "    </tr>\n",
       "  </tbody>\n",
       "</table>\n",
       "</div>"
      ],
      "text/plain": [
       "   mensajes_incluidos  mb_incluidos  minutos_incluidos  pago_mensual  \\\n",
       "0                  50         15360                500            20   \n",
       "1                1000         30720               3000            70   \n",
       "\n",
       "   precio_gb_extra  precio_sms_extra  precio_min_extra      plan  gb_incluidos  \n",
       "0               10              0.03              0.03      surf            15  \n",
       "1                7              0.01              0.01  ultimate            30  "
      ]
     },
     "execution_count": 249,
     "metadata": {},
     "output_type": "execute_result"
    }
   ],
   "source": [
    "# Imprime las condiciones de la tarifa y asegúrate de que te quedan claras\n",
    "plans.head()\n",
    "\n"
   ]
  },
  {
   "cell_type": "markdown",
   "metadata": {
    "id": "hMR1tP5d0q1F"
   },
   "source": [
    "## Agregar datos por usuario\n",
    "\n",
    "[Ahora que los datos están limpios, agrega los datos por usuario y por periodo para que solo haya un registro por usuario y por periodo. Esto facilitará mucho el análisis posterior.]"
   ]
  },
  {
   "cell_type": "code",
   "execution_count": 250,
   "metadata": {
    "id": "A332cedB0q1G"
   },
   "outputs": [
    {
     "data": {
      "text/html": [
       "<div>\n",
       "<style scoped>\n",
       "    .dataframe tbody tr th:only-of-type {\n",
       "        vertical-align: middle;\n",
       "    }\n",
       "\n",
       "    .dataframe tbody tr th {\n",
       "        vertical-align: top;\n",
       "    }\n",
       "\n",
       "    .dataframe thead th {\n",
       "        text-align: right;\n",
       "    }\n",
       "</style>\n",
       "<table border=\"1\" class=\"dataframe\">\n",
       "  <thead>\n",
       "    <tr style=\"text-align: right;\">\n",
       "      <th></th>\n",
       "      <th>user_id</th>\n",
       "      <th>mes</th>\n",
       "      <th>numero_llamadas</th>\n",
       "    </tr>\n",
       "  </thead>\n",
       "  <tbody>\n",
       "    <tr>\n",
       "      <th>0</th>\n",
       "      <td>1000</td>\n",
       "      <td>12</td>\n",
       "      <td>16</td>\n",
       "    </tr>\n",
       "    <tr>\n",
       "      <th>1</th>\n",
       "      <td>1001</td>\n",
       "      <td>8</td>\n",
       "      <td>27</td>\n",
       "    </tr>\n",
       "    <tr>\n",
       "      <th>2</th>\n",
       "      <td>1001</td>\n",
       "      <td>9</td>\n",
       "      <td>49</td>\n",
       "    </tr>\n",
       "    <tr>\n",
       "      <th>3</th>\n",
       "      <td>1001</td>\n",
       "      <td>10</td>\n",
       "      <td>65</td>\n",
       "    </tr>\n",
       "    <tr>\n",
       "      <th>4</th>\n",
       "      <td>1001</td>\n",
       "      <td>11</td>\n",
       "      <td>64</td>\n",
       "    </tr>\n",
       "    <tr>\n",
       "      <th>...</th>\n",
       "      <td>...</td>\n",
       "      <td>...</td>\n",
       "      <td>...</td>\n",
       "    </tr>\n",
       "    <tr>\n",
       "      <th>2253</th>\n",
       "      <td>1498</td>\n",
       "      <td>12</td>\n",
       "      <td>39</td>\n",
       "    </tr>\n",
       "    <tr>\n",
       "      <th>2254</th>\n",
       "      <td>1499</td>\n",
       "      <td>9</td>\n",
       "      <td>41</td>\n",
       "    </tr>\n",
       "    <tr>\n",
       "      <th>2255</th>\n",
       "      <td>1499</td>\n",
       "      <td>10</td>\n",
       "      <td>53</td>\n",
       "    </tr>\n",
       "    <tr>\n",
       "      <th>2256</th>\n",
       "      <td>1499</td>\n",
       "      <td>11</td>\n",
       "      <td>45</td>\n",
       "    </tr>\n",
       "    <tr>\n",
       "      <th>2257</th>\n",
       "      <td>1499</td>\n",
       "      <td>12</td>\n",
       "      <td>65</td>\n",
       "    </tr>\n",
       "  </tbody>\n",
       "</table>\n",
       "<p>2258 rows × 3 columns</p>\n",
       "</div>"
      ],
      "text/plain": [
       "      user_id  mes  numero_llamadas\n",
       "0        1000   12               16\n",
       "1        1001    8               27\n",
       "2        1001    9               49\n",
       "3        1001   10               65\n",
       "4        1001   11               64\n",
       "...       ...  ...              ...\n",
       "2253     1498   12               39\n",
       "2254     1499    9               41\n",
       "2255     1499   10               53\n",
       "2256     1499   11               45\n",
       "2257     1499   12               65\n",
       "\n",
       "[2258 rows x 3 columns]"
      ]
     },
     "execution_count": 250,
     "metadata": {},
     "output_type": "execute_result"
    }
   ],
   "source": [
    "# Calcula el número de llamadas hechas por cada usuario al mes. Guarda el resultado.\n",
    "calls.head()\n",
    "llamadas = calls.groupby(['user_id','mes'])['user_id'].count().reset_index(name='numero_llamadas')\n",
    "llamadas\n"
   ]
  },
  {
   "cell_type": "code",
   "execution_count": 251,
   "metadata": {
    "id": "aw2cmuql0q1G"
   },
   "outputs": [
    {
     "data": {
      "text/html": [
       "<div>\n",
       "<style scoped>\n",
       "    .dataframe tbody tr th:only-of-type {\n",
       "        vertical-align: middle;\n",
       "    }\n",
       "\n",
       "    .dataframe tbody tr th {\n",
       "        vertical-align: top;\n",
       "    }\n",
       "\n",
       "    .dataframe thead th {\n",
       "        text-align: right;\n",
       "    }\n",
       "</style>\n",
       "<table border=\"1\" class=\"dataframe\">\n",
       "  <thead>\n",
       "    <tr style=\"text-align: right;\">\n",
       "      <th></th>\n",
       "      <th>user_id</th>\n",
       "      <th>mes</th>\n",
       "      <th>min_usados</th>\n",
       "    </tr>\n",
       "  </thead>\n",
       "  <tbody>\n",
       "    <tr>\n",
       "      <th>0</th>\n",
       "      <td>1000</td>\n",
       "      <td>12</td>\n",
       "      <td>124.0</td>\n",
       "    </tr>\n",
       "    <tr>\n",
       "      <th>1</th>\n",
       "      <td>1001</td>\n",
       "      <td>8</td>\n",
       "      <td>182.0</td>\n",
       "    </tr>\n",
       "    <tr>\n",
       "      <th>2</th>\n",
       "      <td>1001</td>\n",
       "      <td>9</td>\n",
       "      <td>315.0</td>\n",
       "    </tr>\n",
       "    <tr>\n",
       "      <th>3</th>\n",
       "      <td>1001</td>\n",
       "      <td>10</td>\n",
       "      <td>393.0</td>\n",
       "    </tr>\n",
       "    <tr>\n",
       "      <th>4</th>\n",
       "      <td>1001</td>\n",
       "      <td>11</td>\n",
       "      <td>426.0</td>\n",
       "    </tr>\n",
       "    <tr>\n",
       "      <th>...</th>\n",
       "      <td>...</td>\n",
       "      <td>...</td>\n",
       "      <td>...</td>\n",
       "    </tr>\n",
       "    <tr>\n",
       "      <th>2253</th>\n",
       "      <td>1498</td>\n",
       "      <td>12</td>\n",
       "      <td>339.0</td>\n",
       "    </tr>\n",
       "    <tr>\n",
       "      <th>2254</th>\n",
       "      <td>1499</td>\n",
       "      <td>9</td>\n",
       "      <td>346.0</td>\n",
       "    </tr>\n",
       "    <tr>\n",
       "      <th>2255</th>\n",
       "      <td>1499</td>\n",
       "      <td>10</td>\n",
       "      <td>385.0</td>\n",
       "    </tr>\n",
       "    <tr>\n",
       "      <th>2256</th>\n",
       "      <td>1499</td>\n",
       "      <td>11</td>\n",
       "      <td>308.0</td>\n",
       "    </tr>\n",
       "    <tr>\n",
       "      <th>2257</th>\n",
       "      <td>1499</td>\n",
       "      <td>12</td>\n",
       "      <td>496.0</td>\n",
       "    </tr>\n",
       "  </tbody>\n",
       "</table>\n",
       "<p>2258 rows × 3 columns</p>\n",
       "</div>"
      ],
      "text/plain": [
       "      user_id  mes  min_usados\n",
       "0        1000   12       124.0\n",
       "1        1001    8       182.0\n",
       "2        1001    9       315.0\n",
       "3        1001   10       393.0\n",
       "4        1001   11       426.0\n",
       "...       ...  ...         ...\n",
       "2253     1498   12       339.0\n",
       "2254     1499    9       346.0\n",
       "2255     1499   10       385.0\n",
       "2256     1499   11       308.0\n",
       "2257     1499   12       496.0\n",
       "\n",
       "[2258 rows x 3 columns]"
      ]
     },
     "execution_count": 251,
     "metadata": {},
     "output_type": "execute_result"
    }
   ],
   "source": [
    "# Calcula la cantidad de minutos usados por cada usuario al mes. Guarda el resultado.\n",
    "calls.head()\n",
    "minutos= calls.groupby(['user_id','mes'])['duration_min'].sum().reset_index(name = 'min_usados')\n",
    "minutos\n"
   ]
  },
  {
   "cell_type": "code",
   "execution_count": 252,
   "metadata": {
    "id": "CcQvNHn60q1G"
   },
   "outputs": [
    {
     "data": {
      "text/html": [
       "<div>\n",
       "<style scoped>\n",
       "    .dataframe tbody tr th:only-of-type {\n",
       "        vertical-align: middle;\n",
       "    }\n",
       "\n",
       "    .dataframe tbody tr th {\n",
       "        vertical-align: top;\n",
       "    }\n",
       "\n",
       "    .dataframe thead th {\n",
       "        text-align: right;\n",
       "    }\n",
       "</style>\n",
       "<table border=\"1\" class=\"dataframe\">\n",
       "  <thead>\n",
       "    <tr style=\"text-align: right;\">\n",
       "      <th></th>\n",
       "      <th>user_id</th>\n",
       "      <th>mes</th>\n",
       "      <th>numero_mensajes</th>\n",
       "    </tr>\n",
       "  </thead>\n",
       "  <tbody>\n",
       "    <tr>\n",
       "      <th>0</th>\n",
       "      <td>1000</td>\n",
       "      <td>12</td>\n",
       "      <td>11</td>\n",
       "    </tr>\n",
       "    <tr>\n",
       "      <th>1</th>\n",
       "      <td>1001</td>\n",
       "      <td>8</td>\n",
       "      <td>30</td>\n",
       "    </tr>\n",
       "    <tr>\n",
       "      <th>2</th>\n",
       "      <td>1001</td>\n",
       "      <td>9</td>\n",
       "      <td>44</td>\n",
       "    </tr>\n",
       "    <tr>\n",
       "      <th>3</th>\n",
       "      <td>1001</td>\n",
       "      <td>10</td>\n",
       "      <td>53</td>\n",
       "    </tr>\n",
       "    <tr>\n",
       "      <th>4</th>\n",
       "      <td>1001</td>\n",
       "      <td>11</td>\n",
       "      <td>36</td>\n",
       "    </tr>\n",
       "    <tr>\n",
       "      <th>...</th>\n",
       "      <td>...</td>\n",
       "      <td>...</td>\n",
       "      <td>...</td>\n",
       "    </tr>\n",
       "    <tr>\n",
       "      <th>1801</th>\n",
       "      <td>1496</td>\n",
       "      <td>9</td>\n",
       "      <td>21</td>\n",
       "    </tr>\n",
       "    <tr>\n",
       "      <th>1802</th>\n",
       "      <td>1496</td>\n",
       "      <td>10</td>\n",
       "      <td>18</td>\n",
       "    </tr>\n",
       "    <tr>\n",
       "      <th>1803</th>\n",
       "      <td>1496</td>\n",
       "      <td>11</td>\n",
       "      <td>13</td>\n",
       "    </tr>\n",
       "    <tr>\n",
       "      <th>1804</th>\n",
       "      <td>1496</td>\n",
       "      <td>12</td>\n",
       "      <td>11</td>\n",
       "    </tr>\n",
       "    <tr>\n",
       "      <th>1805</th>\n",
       "      <td>1497</td>\n",
       "      <td>12</td>\n",
       "      <td>50</td>\n",
       "    </tr>\n",
       "  </tbody>\n",
       "</table>\n",
       "<p>1806 rows × 3 columns</p>\n",
       "</div>"
      ],
      "text/plain": [
       "      user_id  mes  numero_mensajes\n",
       "0        1000   12               11\n",
       "1        1001    8               30\n",
       "2        1001    9               44\n",
       "3        1001   10               53\n",
       "4        1001   11               36\n",
       "...       ...  ...              ...\n",
       "1801     1496    9               21\n",
       "1802     1496   10               18\n",
       "1803     1496   11               13\n",
       "1804     1496   12               11\n",
       "1805     1497   12               50\n",
       "\n",
       "[1806 rows x 3 columns]"
      ]
     },
     "execution_count": 252,
     "metadata": {},
     "output_type": "execute_result"
    }
   ],
   "source": [
    "# Calcula el número de mensajes enviados por cada usuario al mes. Guarda el resultado.\n",
    "messages.head()\n",
    "mensajes = messages.groupby(['user_id','mes'])['id'].count().reset_index(name= 'numero_mensajes')\n",
    "mensajes"
   ]
  },
  {
   "cell_type": "code",
   "execution_count": 253,
   "metadata": {
    "id": "H1AqN2eG0q1H"
   },
   "outputs": [
    {
     "data": {
      "text/html": [
       "<div>\n",
       "<style scoped>\n",
       "    .dataframe tbody tr th:only-of-type {\n",
       "        vertical-align: middle;\n",
       "    }\n",
       "\n",
       "    .dataframe tbody tr th {\n",
       "        vertical-align: top;\n",
       "    }\n",
       "\n",
       "    .dataframe thead th {\n",
       "        text-align: right;\n",
       "    }\n",
       "</style>\n",
       "<table border=\"1\" class=\"dataframe\">\n",
       "  <thead>\n",
       "    <tr style=\"text-align: right;\">\n",
       "      <th></th>\n",
       "      <th>user_id</th>\n",
       "      <th>mes</th>\n",
       "      <th>total_mb</th>\n",
       "      <th>internet_usado</th>\n",
       "    </tr>\n",
       "  </thead>\n",
       "  <tbody>\n",
       "    <tr>\n",
       "      <th>0</th>\n",
       "      <td>1000</td>\n",
       "      <td>12</td>\n",
       "      <td>1901.47</td>\n",
       "      <td>2.0</td>\n",
       "    </tr>\n",
       "    <tr>\n",
       "      <th>1</th>\n",
       "      <td>1001</td>\n",
       "      <td>8</td>\n",
       "      <td>6919.15</td>\n",
       "      <td>7.0</td>\n",
       "    </tr>\n",
       "    <tr>\n",
       "      <th>2</th>\n",
       "      <td>1001</td>\n",
       "      <td>9</td>\n",
       "      <td>13314.82</td>\n",
       "      <td>14.0</td>\n",
       "    </tr>\n",
       "    <tr>\n",
       "      <th>3</th>\n",
       "      <td>1001</td>\n",
       "      <td>10</td>\n",
       "      <td>22330.49</td>\n",
       "      <td>23.0</td>\n",
       "    </tr>\n",
       "    <tr>\n",
       "      <th>4</th>\n",
       "      <td>1001</td>\n",
       "      <td>11</td>\n",
       "      <td>18504.30</td>\n",
       "      <td>19.0</td>\n",
       "    </tr>\n",
       "    <tr>\n",
       "      <th>...</th>\n",
       "      <td>...</td>\n",
       "      <td>...</td>\n",
       "      <td>...</td>\n",
       "      <td>...</td>\n",
       "    </tr>\n",
       "    <tr>\n",
       "      <th>2272</th>\n",
       "      <td>1498</td>\n",
       "      <td>12</td>\n",
       "      <td>23137.69</td>\n",
       "      <td>24.0</td>\n",
       "    </tr>\n",
       "    <tr>\n",
       "      <th>2273</th>\n",
       "      <td>1499</td>\n",
       "      <td>9</td>\n",
       "      <td>12984.76</td>\n",
       "      <td>13.0</td>\n",
       "    </tr>\n",
       "    <tr>\n",
       "      <th>2274</th>\n",
       "      <td>1499</td>\n",
       "      <td>10</td>\n",
       "      <td>19492.43</td>\n",
       "      <td>20.0</td>\n",
       "    </tr>\n",
       "    <tr>\n",
       "      <th>2275</th>\n",
       "      <td>1499</td>\n",
       "      <td>11</td>\n",
       "      <td>16813.83</td>\n",
       "      <td>17.0</td>\n",
       "    </tr>\n",
       "    <tr>\n",
       "      <th>2276</th>\n",
       "      <td>1499</td>\n",
       "      <td>12</td>\n",
       "      <td>22059.21</td>\n",
       "      <td>23.0</td>\n",
       "    </tr>\n",
       "  </tbody>\n",
       "</table>\n",
       "<p>2277 rows × 4 columns</p>\n",
       "</div>"
      ],
      "text/plain": [
       "      user_id  mes  total_mb  internet_usado\n",
       "0        1000   12   1901.47             2.0\n",
       "1        1001    8   6919.15             7.0\n",
       "2        1001    9  13314.82            14.0\n",
       "3        1001   10  22330.49            23.0\n",
       "4        1001   11  18504.30            19.0\n",
       "...       ...  ...       ...             ...\n",
       "2272     1498   12  23137.69            24.0\n",
       "2273     1499    9  12984.76            13.0\n",
       "2274     1499   10  19492.43            20.0\n",
       "2275     1499   11  16813.83            17.0\n",
       "2276     1499   12  22059.21            23.0\n",
       "\n",
       "[2277 rows x 4 columns]"
      ]
     },
     "execution_count": 253,
     "metadata": {},
     "output_type": "execute_result"
    }
   ],
   "source": [
    "# Calcula el volumen del tráfico de Internet usado por cada usuario al mes. Guarda el resultado.\n",
    "internet.head()\n",
    "internet_total = internet.groupby(['user_id','mes'])['mb_used'].sum().reset_index(name='total_mb') # Se suman los MB\n",
    "internet_total['internet_usado'] = (internet_total['total_mb'] / 1000).apply(lambda x:np.ceil(x if x % 1 !=0 else x)) # Posterior se convierte a GB y nos da la informacion correcta\n",
    "internet_total\n",
    "\n"
   ]
  },
  {
   "cell_type": "markdown",
   "metadata": {},
   "source": [
    "<div class=\"alert alert-block alert-danger\">\n",
    "<b>Comentario del revisor (1ra Iteración)</b> <a class=“tocSkip”></a>\n",
    "\n",
    "Hiciste una agrupción correcta de los datos usando `groupby`. Solo hay un error en el cálculo de consumo de internet. Los pasos que realizaste son correctos pero el orden no lo es, por esa razón los valores que obtienes más adelante no son los esperados. Lo que debes hacer es lo siguiente:\n",
    "    \n",
    "1. Primero sumas el consumo total en MB por usuario para cada mes\n",
    "2. Luego Ahí si conviertes los valores a GB\n",
    "3. Finalmente haces el redondeo hacia arriba.\n",
    "    \n",
    "Dado que el cobro es mensual, no es correcto hacer el redondeo para el consumo diario. Esto hace que estés obteniendo consumos de internet muy altos, lo que se verá reflejado en un cobro incorrecto.\n",
    "\n",
    "</div>    "
   ]
  },
  {
   "cell_type": "markdown",
   "metadata": {},
   "source": [
    "<div class=\"alert alert-block alert-info\">\n",
    "<b>Se realizaron los cambios dando los GB correctos</b> <a class=“tocSkip”></a>\n",
    "</div>"
   ]
  },
  {
   "cell_type": "markdown",
   "metadata": {},
   "source": [
    "<div class=\"alert alert-block alert-success\">\n",
    "<b>Comentario del revisor (2da Iteración)</b> <a class=“tocSkip”></a>\n",
    "\n",
    "Muy buen trabjo Javier!\n",
    "\n",
    "</div>"
   ]
  },
  {
   "cell_type": "markdown",
   "metadata": {
    "id": "VDfYXnj80q1H"
   },
   "source": [
    "[Junta los datos agregados en un DataFrame para que haya un registro que represente lo que consumió un usuario único en un mes determinado.]"
   ]
  },
  {
   "cell_type": "code",
   "execution_count": 254,
   "metadata": {
    "id": "FW99ykyf0q1H"
   },
   "outputs": [
    {
     "data": {
      "text/html": [
       "<div>\n",
       "<style scoped>\n",
       "    .dataframe tbody tr th:only-of-type {\n",
       "        vertical-align: middle;\n",
       "    }\n",
       "\n",
       "    .dataframe tbody tr th {\n",
       "        vertical-align: top;\n",
       "    }\n",
       "\n",
       "    .dataframe thead th {\n",
       "        text-align: right;\n",
       "    }\n",
       "</style>\n",
       "<table border=\"1\" class=\"dataframe\">\n",
       "  <thead>\n",
       "    <tr style=\"text-align: right;\">\n",
       "      <th></th>\n",
       "      <th>user_id</th>\n",
       "      <th>mes</th>\n",
       "      <th>numero_llamadas</th>\n",
       "      <th>min_usados</th>\n",
       "      <th>numero_mensajes</th>\n",
       "      <th>internet_usado</th>\n",
       "    </tr>\n",
       "  </thead>\n",
       "  <tbody>\n",
       "    <tr>\n",
       "      <th>0</th>\n",
       "      <td>1000</td>\n",
       "      <td>12</td>\n",
       "      <td>16.0</td>\n",
       "      <td>124.0</td>\n",
       "      <td>11.0</td>\n",
       "      <td>2.0</td>\n",
       "    </tr>\n",
       "    <tr>\n",
       "      <th>1</th>\n",
       "      <td>1001</td>\n",
       "      <td>8</td>\n",
       "      <td>27.0</td>\n",
       "      <td>182.0</td>\n",
       "      <td>30.0</td>\n",
       "      <td>7.0</td>\n",
       "    </tr>\n",
       "    <tr>\n",
       "      <th>2</th>\n",
       "      <td>1001</td>\n",
       "      <td>9</td>\n",
       "      <td>49.0</td>\n",
       "      <td>315.0</td>\n",
       "      <td>44.0</td>\n",
       "      <td>14.0</td>\n",
       "    </tr>\n",
       "    <tr>\n",
       "      <th>3</th>\n",
       "      <td>1001</td>\n",
       "      <td>10</td>\n",
       "      <td>65.0</td>\n",
       "      <td>393.0</td>\n",
       "      <td>53.0</td>\n",
       "      <td>23.0</td>\n",
       "    </tr>\n",
       "    <tr>\n",
       "      <th>4</th>\n",
       "      <td>1001</td>\n",
       "      <td>11</td>\n",
       "      <td>64.0</td>\n",
       "      <td>426.0</td>\n",
       "      <td>36.0</td>\n",
       "      <td>19.0</td>\n",
       "    </tr>\n",
       "    <tr>\n",
       "      <th>...</th>\n",
       "      <td>...</td>\n",
       "      <td>...</td>\n",
       "      <td>...</td>\n",
       "      <td>...</td>\n",
       "      <td>...</td>\n",
       "      <td>...</td>\n",
       "    </tr>\n",
       "    <tr>\n",
       "      <th>2288</th>\n",
       "      <td>1498</td>\n",
       "      <td>12</td>\n",
       "      <td>39.0</td>\n",
       "      <td>339.0</td>\n",
       "      <td>NaN</td>\n",
       "      <td>24.0</td>\n",
       "    </tr>\n",
       "    <tr>\n",
       "      <th>2289</th>\n",
       "      <td>1499</td>\n",
       "      <td>9</td>\n",
       "      <td>41.0</td>\n",
       "      <td>346.0</td>\n",
       "      <td>NaN</td>\n",
       "      <td>13.0</td>\n",
       "    </tr>\n",
       "    <tr>\n",
       "      <th>2290</th>\n",
       "      <td>1499</td>\n",
       "      <td>10</td>\n",
       "      <td>53.0</td>\n",
       "      <td>385.0</td>\n",
       "      <td>NaN</td>\n",
       "      <td>20.0</td>\n",
       "    </tr>\n",
       "    <tr>\n",
       "      <th>2291</th>\n",
       "      <td>1499</td>\n",
       "      <td>11</td>\n",
       "      <td>45.0</td>\n",
       "      <td>308.0</td>\n",
       "      <td>NaN</td>\n",
       "      <td>17.0</td>\n",
       "    </tr>\n",
       "    <tr>\n",
       "      <th>2292</th>\n",
       "      <td>1499</td>\n",
       "      <td>12</td>\n",
       "      <td>65.0</td>\n",
       "      <td>496.0</td>\n",
       "      <td>NaN</td>\n",
       "      <td>23.0</td>\n",
       "    </tr>\n",
       "  </tbody>\n",
       "</table>\n",
       "<p>2293 rows × 6 columns</p>\n",
       "</div>"
      ],
      "text/plain": [
       "      user_id  mes  numero_llamadas  min_usados  numero_mensajes  \\\n",
       "0        1000   12             16.0       124.0             11.0   \n",
       "1        1001    8             27.0       182.0             30.0   \n",
       "2        1001    9             49.0       315.0             44.0   \n",
       "3        1001   10             65.0       393.0             53.0   \n",
       "4        1001   11             64.0       426.0             36.0   \n",
       "...       ...  ...              ...         ...              ...   \n",
       "2288     1498   12             39.0       339.0              NaN   \n",
       "2289     1499    9             41.0       346.0              NaN   \n",
       "2290     1499   10             53.0       385.0              NaN   \n",
       "2291     1499   11             45.0       308.0              NaN   \n",
       "2292     1499   12             65.0       496.0              NaN   \n",
       "\n",
       "      internet_usado  \n",
       "0                2.0  \n",
       "1                7.0  \n",
       "2               14.0  \n",
       "3               23.0  \n",
       "4               19.0  \n",
       "...              ...  \n",
       "2288            24.0  \n",
       "2289            13.0  \n",
       "2290            20.0  \n",
       "2291            17.0  \n",
       "2292            23.0  \n",
       "\n",
       "[2293 rows x 6 columns]"
      ]
     },
     "execution_count": 254,
     "metadata": {},
     "output_type": "execute_result"
    }
   ],
   "source": [
    "# Fusiona los datos de llamadas, minutos, mensajes e Internet con base en user_id y month\n",
    "consumo_usuario = pd.merge(llamadas,minutos, on=['user_id','mes'], how='outer')\n",
    "consumo_usuario = pd.merge(consumo_usuario,mensajes, on=['user_id','mes'], how='outer')\n",
    "consumo_usuario = pd.merge(consumo_usuario,internet_total[['user_id','mes','internet_usado']], on=['user_id','mes'], how='outer')\n",
    "consumo_usuario\n"
   ]
  },
  {
   "cell_type": "code",
   "execution_count": 255,
   "metadata": {
    "id": "0dNOXHag0q1H"
   },
   "outputs": [
    {
     "data": {
      "text/html": [
       "<div>\n",
       "<style scoped>\n",
       "    .dataframe tbody tr th:only-of-type {\n",
       "        vertical-align: middle;\n",
       "    }\n",
       "\n",
       "    .dataframe tbody tr th {\n",
       "        vertical-align: top;\n",
       "    }\n",
       "\n",
       "    .dataframe thead th {\n",
       "        text-align: right;\n",
       "    }\n",
       "</style>\n",
       "<table border=\"1\" class=\"dataframe\">\n",
       "  <thead>\n",
       "    <tr style=\"text-align: right;\">\n",
       "      <th></th>\n",
       "      <th>user_id</th>\n",
       "      <th>mes</th>\n",
       "      <th>numero_llamadas</th>\n",
       "      <th>min_usados</th>\n",
       "      <th>numero_mensajes</th>\n",
       "      <th>internet_usado</th>\n",
       "      <th>plan</th>\n",
       "      <th>pago_mensual</th>\n",
       "      <th>precio_gb_extra</th>\n",
       "      <th>precio_sms_extra</th>\n",
       "      <th>precio_min_extra</th>\n",
       "      <th>mensajes_incluidos</th>\n",
       "      <th>minutos_incluidos</th>\n",
       "      <th>gb_incluidos</th>\n",
       "    </tr>\n",
       "  </thead>\n",
       "  <tbody>\n",
       "    <tr>\n",
       "      <th>0</th>\n",
       "      <td>1000</td>\n",
       "      <td>12</td>\n",
       "      <td>16.0</td>\n",
       "      <td>124.0</td>\n",
       "      <td>11.0</td>\n",
       "      <td>2.0</td>\n",
       "      <td>ultimate</td>\n",
       "      <td>70</td>\n",
       "      <td>7</td>\n",
       "      <td>0.01</td>\n",
       "      <td>0.01</td>\n",
       "      <td>1000</td>\n",
       "      <td>3000</td>\n",
       "      <td>30</td>\n",
       "    </tr>\n",
       "    <tr>\n",
       "      <th>1</th>\n",
       "      <td>1001</td>\n",
       "      <td>8</td>\n",
       "      <td>27.0</td>\n",
       "      <td>182.0</td>\n",
       "      <td>30.0</td>\n",
       "      <td>7.0</td>\n",
       "      <td>surf</td>\n",
       "      <td>20</td>\n",
       "      <td>10</td>\n",
       "      <td>0.03</td>\n",
       "      <td>0.03</td>\n",
       "      <td>50</td>\n",
       "      <td>500</td>\n",
       "      <td>15</td>\n",
       "    </tr>\n",
       "    <tr>\n",
       "      <th>2</th>\n",
       "      <td>1001</td>\n",
       "      <td>9</td>\n",
       "      <td>49.0</td>\n",
       "      <td>315.0</td>\n",
       "      <td>44.0</td>\n",
       "      <td>14.0</td>\n",
       "      <td>surf</td>\n",
       "      <td>20</td>\n",
       "      <td>10</td>\n",
       "      <td>0.03</td>\n",
       "      <td>0.03</td>\n",
       "      <td>50</td>\n",
       "      <td>500</td>\n",
       "      <td>15</td>\n",
       "    </tr>\n",
       "    <tr>\n",
       "      <th>3</th>\n",
       "      <td>1001</td>\n",
       "      <td>10</td>\n",
       "      <td>65.0</td>\n",
       "      <td>393.0</td>\n",
       "      <td>53.0</td>\n",
       "      <td>23.0</td>\n",
       "      <td>surf</td>\n",
       "      <td>20</td>\n",
       "      <td>10</td>\n",
       "      <td>0.03</td>\n",
       "      <td>0.03</td>\n",
       "      <td>50</td>\n",
       "      <td>500</td>\n",
       "      <td>15</td>\n",
       "    </tr>\n",
       "    <tr>\n",
       "      <th>4</th>\n",
       "      <td>1001</td>\n",
       "      <td>11</td>\n",
       "      <td>64.0</td>\n",
       "      <td>426.0</td>\n",
       "      <td>36.0</td>\n",
       "      <td>19.0</td>\n",
       "      <td>surf</td>\n",
       "      <td>20</td>\n",
       "      <td>10</td>\n",
       "      <td>0.03</td>\n",
       "      <td>0.03</td>\n",
       "      <td>50</td>\n",
       "      <td>500</td>\n",
       "      <td>15</td>\n",
       "    </tr>\n",
       "  </tbody>\n",
       "</table>\n",
       "</div>"
      ],
      "text/plain": [
       "   user_id  mes  numero_llamadas  min_usados  numero_mensajes  internet_usado  \\\n",
       "0     1000   12             16.0       124.0             11.0             2.0   \n",
       "1     1001    8             27.0       182.0             30.0             7.0   \n",
       "2     1001    9             49.0       315.0             44.0            14.0   \n",
       "3     1001   10             65.0       393.0             53.0            23.0   \n",
       "4     1001   11             64.0       426.0             36.0            19.0   \n",
       "\n",
       "       plan  pago_mensual  precio_gb_extra  precio_sms_extra  \\\n",
       "0  ultimate            70                7              0.01   \n",
       "1      surf            20               10              0.03   \n",
       "2      surf            20               10              0.03   \n",
       "3      surf            20               10              0.03   \n",
       "4      surf            20               10              0.03   \n",
       "\n",
       "   precio_min_extra  mensajes_incluidos  minutos_incluidos  gb_incluidos  \n",
       "0              0.01                1000               3000            30  \n",
       "1              0.03                  50                500            15  \n",
       "2              0.03                  50                500            15  \n",
       "3              0.03                  50                500            15  \n",
       "4              0.03                  50                500            15  "
      ]
     },
     "execution_count": 255,
     "metadata": {},
     "output_type": "execute_result"
    }
   ],
   "source": [
    "# Añade la información de la tarifa\n",
    "consumo_usuario = pd.merge(consumo_usuario,users[['user_id','plan']], on='user_id',how='left')\n",
    "consumo_usuario = pd.merge(consumo_usuario,plans[['plan','pago_mensual','precio_gb_extra','precio_sms_extra','precio_min_extra','mensajes_incluidos','minutos_incluidos','gb_incluidos']], on='plan', how='left')\n",
    "consumo_usuario.head()"
   ]
  },
  {
   "cell_type": "code",
   "execution_count": 256,
   "metadata": {},
   "outputs": [],
   "source": [
    "consumo_usuario.fillna(0, inplace= True) # Se ponen en 0 los valores ausentes ya que posiblemente no se enviaron mensajes, consumieron gb o tampoco se realizaron llamadas"
   ]
  },
  {
   "cell_type": "markdown",
   "metadata": {
    "id": "1IwGo4wg0q1I"
   },
   "source": [
    "[Calcula los ingresos mensuales por usuario (resta el límite del paquete gratuito del número total de llamadas, mensajes de texto y datos; multiplica el resultado por el valor del plan de llamadas; añade la tarifa mensual en función del plan de llamadas). Nota: Dadas las condiciones del plan, ¡esto podría no ser tan trivial como un par de líneas! Así que no pasa nada si dedicas algo de tiempo a ello.]"
   ]
  },
  {
   "cell_type": "code",
   "execution_count": 257,
   "metadata": {
    "id": "5FGCf_c60q1I",
    "scrolled": true
   },
   "outputs": [
    {
     "data": {
      "text/html": [
       "<div>\n",
       "<style scoped>\n",
       "    .dataframe tbody tr th:only-of-type {\n",
       "        vertical-align: middle;\n",
       "    }\n",
       "\n",
       "    .dataframe tbody tr th {\n",
       "        vertical-align: top;\n",
       "    }\n",
       "\n",
       "    .dataframe thead th {\n",
       "        text-align: right;\n",
       "    }\n",
       "</style>\n",
       "<table border=\"1\" class=\"dataframe\">\n",
       "  <thead>\n",
       "    <tr style=\"text-align: right;\">\n",
       "      <th></th>\n",
       "      <th>user_id</th>\n",
       "      <th>mes</th>\n",
       "      <th>numero_llamadas</th>\n",
       "      <th>min_usados</th>\n",
       "      <th>numero_mensajes</th>\n",
       "      <th>internet_usado</th>\n",
       "      <th>plan</th>\n",
       "      <th>pago_mensual</th>\n",
       "      <th>precio_gb_extra</th>\n",
       "      <th>precio_sms_extra</th>\n",
       "      <th>...</th>\n",
       "      <th>mensajes_incluidos</th>\n",
       "      <th>minutos_incluidos</th>\n",
       "      <th>gb_incluidos</th>\n",
       "      <th>min_extra</th>\n",
       "      <th>costo_extra_min</th>\n",
       "      <th>gb_extra</th>\n",
       "      <th>costo_extra_gb</th>\n",
       "      <th>sms_extra</th>\n",
       "      <th>costo_extra_sms</th>\n",
       "      <th>ingresos</th>\n",
       "    </tr>\n",
       "  </thead>\n",
       "  <tbody>\n",
       "    <tr>\n",
       "      <th>349</th>\n",
       "      <td>1074</td>\n",
       "      <td>11</td>\n",
       "      <td>11.0</td>\n",
       "      <td>105.0</td>\n",
       "      <td>0.0</td>\n",
       "      <td>1.0</td>\n",
       "      <td>ultimate</td>\n",
       "      <td>70</td>\n",
       "      <td>7</td>\n",
       "      <td>0.01</td>\n",
       "      <td>...</td>\n",
       "      <td>1000</td>\n",
       "      <td>3000</td>\n",
       "      <td>30</td>\n",
       "      <td>0.0</td>\n",
       "      <td>0.00</td>\n",
       "      <td>0.0</td>\n",
       "      <td>0.0</td>\n",
       "      <td>0.0</td>\n",
       "      <td>0.00</td>\n",
       "      <td>70.00</td>\n",
       "    </tr>\n",
       "    <tr>\n",
       "      <th>1931</th>\n",
       "      <td>1412</td>\n",
       "      <td>6</td>\n",
       "      <td>61.0</td>\n",
       "      <td>399.0</td>\n",
       "      <td>19.0</td>\n",
       "      <td>8.0</td>\n",
       "      <td>ultimate</td>\n",
       "      <td>70</td>\n",
       "      <td>7</td>\n",
       "      <td>0.01</td>\n",
       "      <td>...</td>\n",
       "      <td>1000</td>\n",
       "      <td>3000</td>\n",
       "      <td>30</td>\n",
       "      <td>0.0</td>\n",
       "      <td>0.00</td>\n",
       "      <td>0.0</td>\n",
       "      <td>0.0</td>\n",
       "      <td>0.0</td>\n",
       "      <td>0.00</td>\n",
       "      <td>70.00</td>\n",
       "    </tr>\n",
       "    <tr>\n",
       "      <th>339</th>\n",
       "      <td>1072</td>\n",
       "      <td>12</td>\n",
       "      <td>71.0</td>\n",
       "      <td>420.0</td>\n",
       "      <td>18.0</td>\n",
       "      <td>35.0</td>\n",
       "      <td>surf</td>\n",
       "      <td>20</td>\n",
       "      <td>10</td>\n",
       "      <td>0.03</td>\n",
       "      <td>...</td>\n",
       "      <td>50</td>\n",
       "      <td>500</td>\n",
       "      <td>15</td>\n",
       "      <td>0.0</td>\n",
       "      <td>0.00</td>\n",
       "      <td>20.0</td>\n",
       "      <td>200.0</td>\n",
       "      <td>0.0</td>\n",
       "      <td>0.00</td>\n",
       "      <td>220.00</td>\n",
       "    </tr>\n",
       "    <tr>\n",
       "      <th>2139</th>\n",
       "      <td>1465</td>\n",
       "      <td>12</td>\n",
       "      <td>108.0</td>\n",
       "      <td>757.0</td>\n",
       "      <td>28.0</td>\n",
       "      <td>16.0</td>\n",
       "      <td>ultimate</td>\n",
       "      <td>70</td>\n",
       "      <td>7</td>\n",
       "      <td>0.01</td>\n",
       "      <td>...</td>\n",
       "      <td>1000</td>\n",
       "      <td>3000</td>\n",
       "      <td>30</td>\n",
       "      <td>0.0</td>\n",
       "      <td>0.00</td>\n",
       "      <td>0.0</td>\n",
       "      <td>0.0</td>\n",
       "      <td>0.0</td>\n",
       "      <td>0.00</td>\n",
       "      <td>70.00</td>\n",
       "    </tr>\n",
       "    <tr>\n",
       "      <th>482</th>\n",
       "      <td>1101</td>\n",
       "      <td>8</td>\n",
       "      <td>54.0</td>\n",
       "      <td>456.0</td>\n",
       "      <td>106.0</td>\n",
       "      <td>16.0</td>\n",
       "      <td>surf</td>\n",
       "      <td>20</td>\n",
       "      <td>10</td>\n",
       "      <td>0.03</td>\n",
       "      <td>...</td>\n",
       "      <td>50</td>\n",
       "      <td>500</td>\n",
       "      <td>15</td>\n",
       "      <td>0.0</td>\n",
       "      <td>0.00</td>\n",
       "      <td>1.0</td>\n",
       "      <td>10.0</td>\n",
       "      <td>56.0</td>\n",
       "      <td>1.68</td>\n",
       "      <td>31.68</td>\n",
       "    </tr>\n",
       "    <tr>\n",
       "      <th>1539</th>\n",
       "      <td>1334</td>\n",
       "      <td>10</td>\n",
       "      <td>121.0</td>\n",
       "      <td>808.0</td>\n",
       "      <td>17.0</td>\n",
       "      <td>23.0</td>\n",
       "      <td>surf</td>\n",
       "      <td>20</td>\n",
       "      <td>10</td>\n",
       "      <td>0.03</td>\n",
       "      <td>...</td>\n",
       "      <td>50</td>\n",
       "      <td>500</td>\n",
       "      <td>15</td>\n",
       "      <td>308.0</td>\n",
       "      <td>9.24</td>\n",
       "      <td>8.0</td>\n",
       "      <td>80.0</td>\n",
       "      <td>0.0</td>\n",
       "      <td>0.00</td>\n",
       "      <td>109.24</td>\n",
       "    </tr>\n",
       "  </tbody>\n",
       "</table>\n",
       "<p>6 rows × 21 columns</p>\n",
       "</div>"
      ],
      "text/plain": [
       "      user_id  mes  numero_llamadas  min_usados  numero_mensajes  \\\n",
       "349      1074   11             11.0       105.0              0.0   \n",
       "1931     1412    6             61.0       399.0             19.0   \n",
       "339      1072   12             71.0       420.0             18.0   \n",
       "2139     1465   12            108.0       757.0             28.0   \n",
       "482      1101    8             54.0       456.0            106.0   \n",
       "1539     1334   10            121.0       808.0             17.0   \n",
       "\n",
       "      internet_usado      plan  pago_mensual  precio_gb_extra  \\\n",
       "349              1.0  ultimate            70                7   \n",
       "1931             8.0  ultimate            70                7   \n",
       "339             35.0      surf            20               10   \n",
       "2139            16.0  ultimate            70                7   \n",
       "482             16.0      surf            20               10   \n",
       "1539            23.0      surf            20               10   \n",
       "\n",
       "      precio_sms_extra  ...  mensajes_incluidos  minutos_incluidos  \\\n",
       "349               0.01  ...                1000               3000   \n",
       "1931              0.01  ...                1000               3000   \n",
       "339               0.03  ...                  50                500   \n",
       "2139              0.01  ...                1000               3000   \n",
       "482               0.03  ...                  50                500   \n",
       "1539              0.03  ...                  50                500   \n",
       "\n",
       "      gb_incluidos  min_extra  costo_extra_min  gb_extra  costo_extra_gb  \\\n",
       "349             30        0.0             0.00       0.0             0.0   \n",
       "1931            30        0.0             0.00       0.0             0.0   \n",
       "339             15        0.0             0.00      20.0           200.0   \n",
       "2139            30        0.0             0.00       0.0             0.0   \n",
       "482             15        0.0             0.00       1.0            10.0   \n",
       "1539            15      308.0             9.24       8.0            80.0   \n",
       "\n",
       "      sms_extra  costo_extra_sms  ingresos  \n",
       "349         0.0             0.00     70.00  \n",
       "1931        0.0             0.00     70.00  \n",
       "339         0.0             0.00    220.00  \n",
       "2139        0.0             0.00     70.00  \n",
       "482        56.0             1.68     31.68  \n",
       "1539        0.0             0.00    109.24  \n",
       "\n",
       "[6 rows x 21 columns]"
      ]
     },
     "execution_count": 257,
     "metadata": {},
     "output_type": "execute_result"
    }
   ],
   "source": [
    "# Calcula el ingreso mensual para cada usuario\n",
    "#Calculamos extra en minutos\n",
    "consumo_usuario['min_extra'] = consumo_usuario['minutos_incluidos'] - consumo_usuario['min_usados']\n",
    "consumo_usuario['min_extra'] = consumo_usuario['min_extra'].apply(lambda x: abs(x) if x < 0 else 0)\n",
    "consumo_usuario['costo_extra_min'] = consumo_usuario['min_extra']*consumo_usuario['precio_min_extra']\n",
    "#Calculamos extra en gb\n",
    "consumo_usuario['gb_extra'] = consumo_usuario['gb_incluidos'] - consumo_usuario['internet_usado']\n",
    "consumo_usuario['gb_extra'] = consumo_usuario['gb_extra'].apply(lambda x: abs(x) if x < 0 else 0)\n",
    "consumo_usuario['costo_extra_gb'] = consumo_usuario['gb_extra']*consumo_usuario['precio_gb_extra']\n",
    "#Calculamos extra en sms\n",
    "consumo_usuario['sms_extra'] = consumo_usuario['mensajes_incluidos'] - consumo_usuario['numero_mensajes']\n",
    "consumo_usuario['sms_extra'] = consumo_usuario['sms_extra'].apply(lambda x: abs(x) if x < 0 else 0)\n",
    "consumo_usuario['costo_extra_sms'] = consumo_usuario['sms_extra']*consumo_usuario['precio_sms_extra']\n",
    "consumo_usuario.sample(15)\n",
    "\n",
    "#Calculamos ingresos totales con extras\n",
    "consumo_usuario['ingresos'] = consumo_usuario['pago_mensual'] + consumo_usuario['costo_extra_min'] + consumo_usuario['costo_extra_gb'] + consumo_usuario['costo_extra_sms']\n",
    "consumo_usuario.sample(6)\n"
   ]
  },
  {
   "cell_type": "code",
   "execution_count": 258,
   "metadata": {},
   "outputs": [
    {
     "data": {
      "text/html": [
       "<div>\n",
       "<style scoped>\n",
       "    .dataframe tbody tr th:only-of-type {\n",
       "        vertical-align: middle;\n",
       "    }\n",
       "\n",
       "    .dataframe tbody tr th {\n",
       "        vertical-align: top;\n",
       "    }\n",
       "\n",
       "    .dataframe thead th {\n",
       "        text-align: right;\n",
       "    }\n",
       "</style>\n",
       "<table border=\"1\" class=\"dataframe\">\n",
       "  <thead>\n",
       "    <tr style=\"text-align: right;\">\n",
       "      <th></th>\n",
       "      <th>pago_mensual</th>\n",
       "      <th>costo_extra_min</th>\n",
       "      <th>costo_extra_gb</th>\n",
       "      <th>costo_extra_sms</th>\n",
       "      <th>ingresos</th>\n",
       "    </tr>\n",
       "    <tr>\n",
       "      <th>plan</th>\n",
       "      <th></th>\n",
       "      <th></th>\n",
       "      <th></th>\n",
       "      <th></th>\n",
       "      <th></th>\n",
       "    </tr>\n",
       "  </thead>\n",
       "  <tbody>\n",
       "    <tr>\n",
       "      <th>surf</th>\n",
       "      <td>31460</td>\n",
       "      <td>2900.25</td>\n",
       "      <td>65370.0</td>\n",
       "      <td>330.93</td>\n",
       "      <td>100061.18</td>\n",
       "    </tr>\n",
       "    <tr>\n",
       "      <th>ultimate</th>\n",
       "      <td>50400</td>\n",
       "      <td>0.00</td>\n",
       "      <td>1946.0</td>\n",
       "      <td>0.00</td>\n",
       "      <td>52346.00</td>\n",
       "    </tr>\n",
       "  </tbody>\n",
       "</table>\n",
       "</div>"
      ],
      "text/plain": [
       "          pago_mensual  costo_extra_min  costo_extra_gb  costo_extra_sms  \\\n",
       "plan                                                                       \n",
       "surf             31460          2900.25         65370.0           330.93   \n",
       "ultimate         50400             0.00          1946.0             0.00   \n",
       "\n",
       "           ingresos  \n",
       "plan                 \n",
       "surf      100061.18  \n",
       "ultimate   52346.00  "
      ]
     },
     "execution_count": 258,
     "metadata": {},
     "output_type": "execute_result"
    }
   ],
   "source": [
    "columnas = ['pago_mensual','costo_extra_min','costo_extra_gb','costo_extra_sms','ingresos']\n",
    "\n",
    "resumen = consumo_usuario.groupby(['plan'])[columnas].sum()\n",
    "resumen"
   ]
  },
  {
   "cell_type": "markdown",
   "metadata": {},
   "source": [
    "<div class=\"alert alert-block alert-warning\">\n",
    "<b>Comentario del revisor (1ra Iteración)</b> <a class=“tocSkip”></a>\n",
    "\n",
    "La lógica de cálculo del cobro mensual, en general es correcta solo debes hacer los ajustes de redonde que te mencioné más arriba. Ten muy en cuenta el plan que tiene cada usuario, cuánto vale el plan base y los cobros por los consumos extras. \n",
    "\n",
    "</div>"
   ]
  },
  {
   "cell_type": "markdown",
   "metadata": {},
   "source": [
    "<div class=\"alert alert-block alert-info\">\n",
    "<b>Se ajustan los ingresos con los ajustes anteriores y se ven cifras correctas</b> <a class=“tocSkip”></a>\n",
    "</div>"
   ]
  },
  {
   "cell_type": "markdown",
   "metadata": {},
   "source": [
    "<div class=\"alert alert-block alert-success\">\n",
    "<b>Comentario del revisor (1ra Iteración)</b> <a class=“tocSkip”></a>\n",
    "\n",
    "Has calculador correctamente el cobro mensual.\n",
    "\n",
    "</div>"
   ]
  },
  {
   "cell_type": "markdown",
   "metadata": {
    "id": "-jtyHzJb0q1I"
   },
   "source": [
    "## Estudia el comportamiento de usuario"
   ]
  },
  {
   "cell_type": "markdown",
   "metadata": {
    "id": "AxU3Y0N70q1J"
   },
   "source": [
    "[Calcula algunas estadísticas descriptivas para los datos agregados y fusionados que nos sean útiles y que muestren un panorama general captado por los datos. Dibuja gráficos útiles para facilitar la comprensión. Dado que la tarea principal es comparar las tarifas y decidir cuál es más rentable, las estadísticas y gráficas deben calcularse por tarifa.]\n",
    "\n",
    "[En los comentarios hallarás pistas relevantes para las llamadas, pero no las hay para los mensajes e Internet. Sin embargo, el principio del estudio estadístico que se aplica para ellos es el mismo que para las llamadas.]"
   ]
  },
  {
   "cell_type": "markdown",
   "metadata": {
    "id": "vtW4CJEe0q1J"
   },
   "source": [
    "### Llamadas"
   ]
  },
  {
   "cell_type": "code",
   "execution_count": 259,
   "metadata": {
    "id": "Jf5v5--k0q1J"
   },
   "outputs": [
    {
     "data": {
      "image/png": "[encoded data removed]",
      "text/plain": [
       "<Figure size 1000x500 with 1 Axes>"
      ]
     },
     "metadata": {},
     "output_type": "display_data"
    }
   ],
   "source": [
    "# Compara la duración promedio de llamadas por cada plan y por cada mes. Traza un gráfico de barras para visualizarla.\n",
    "filtro_llamada= consumo_usuario.groupby(['plan','mes']).agg(\n",
    "    sum_llamadas = ('numero_llamadas','sum'),\n",
    "    sum_min = ('min_usados','sum'),\n",
    ").reset_index()\n",
    "filtro_llamada['duracion_prom'] = filtro_llamada['sum_min'] / filtro_llamada ['sum_llamadas']\n",
    "\n",
    "\n",
    "sns.set(style='whitegrid')\n",
    "plt.figure(figsize=(10, 5))\n",
    "sns.barplot(data=filtro_llamada,\n",
    "            y='duracion_prom',\n",
    "            x='mes',\n",
    "            hue='plan',\n",
    "            palette=\"muted\", \n",
    "\n",
    "            )\n",
    "plt.ylim(0,10)\n",
    "plt.title(\"Duracion Promedio Llamadas\")\n",
    "plt.xlabel(\"Mes\")\n",
    "plt.ylabel(\"Duracion por Lllamada (minutos)\")\n",
    "plt.show()"
   ]
  },
  {
   "cell_type": "code",
   "execution_count": 260,
   "metadata": {},
   "outputs": [
    {
     "data": {
      "text/html": [
       "<div>\n",
       "<style scoped>\n",
       "    .dataframe tbody tr th:only-of-type {\n",
       "        vertical-align: middle;\n",
       "    }\n",
       "\n",
       "    .dataframe tbody tr th {\n",
       "        vertical-align: top;\n",
       "    }\n",
       "\n",
       "    .dataframe thead th {\n",
       "        text-align: right;\n",
       "    }\n",
       "</style>\n",
       "<table border=\"1\" class=\"dataframe\">\n",
       "  <thead>\n",
       "    <tr style=\"text-align: right;\">\n",
       "      <th></th>\n",
       "      <th>plan</th>\n",
       "      <th>mes</th>\n",
       "      <th>sum_llamadas</th>\n",
       "      <th>sum_min</th>\n",
       "      <th>duracion_prom</th>\n",
       "    </tr>\n",
       "  </thead>\n",
       "  <tbody>\n",
       "    <tr>\n",
       "      <th>0</th>\n",
       "      <td>surf</td>\n",
       "      <td>1</td>\n",
       "      <td>60.0</td>\n",
       "      <td>406.0</td>\n",
       "      <td>6.766667</td>\n",
       "    </tr>\n",
       "    <tr>\n",
       "      <th>1</th>\n",
       "      <td>surf</td>\n",
       "      <td>2</td>\n",
       "      <td>366.0</td>\n",
       "      <td>2673.0</td>\n",
       "      <td>7.303279</td>\n",
       "    </tr>\n",
       "    <tr>\n",
       "      <th>2</th>\n",
       "      <td>surf</td>\n",
       "      <td>3</td>\n",
       "      <td>1068.0</td>\n",
       "      <td>7590.0</td>\n",
       "      <td>7.106742</td>\n",
       "    </tr>\n",
       "    <tr>\n",
       "      <th>3</th>\n",
       "      <td>surf</td>\n",
       "      <td>4</td>\n",
       "      <td>2444.0</td>\n",
       "      <td>17577.0</td>\n",
       "      <td>7.191899</td>\n",
       "    </tr>\n",
       "    <tr>\n",
       "      <th>4</th>\n",
       "      <td>surf</td>\n",
       "      <td>5</td>\n",
       "      <td>4289.0</td>\n",
       "      <td>30768.0</td>\n",
       "      <td>7.173700</td>\n",
       "    </tr>\n",
       "    <tr>\n",
       "      <th>5</th>\n",
       "      <td>surf</td>\n",
       "      <td>6</td>\n",
       "      <td>5769.0</td>\n",
       "      <td>41836.0</td>\n",
       "      <td>7.251863</td>\n",
       "    </tr>\n",
       "    <tr>\n",
       "      <th>6</th>\n",
       "      <td>surf</td>\n",
       "      <td>7</td>\n",
       "      <td>7642.0</td>\n",
       "      <td>54448.0</td>\n",
       "      <td>7.124836</td>\n",
       "    </tr>\n",
       "    <tr>\n",
       "      <th>7</th>\n",
       "      <td>surf</td>\n",
       "      <td>8</td>\n",
       "      <td>9325.0</td>\n",
       "      <td>66438.0</td>\n",
       "      <td>7.124718</td>\n",
       "    </tr>\n",
       "    <tr>\n",
       "      <th>8</th>\n",
       "      <td>surf</td>\n",
       "      <td>9</td>\n",
       "      <td>11273.0</td>\n",
       "      <td>80360.0</td>\n",
       "      <td>7.128537</td>\n",
       "    </tr>\n",
       "    <tr>\n",
       "      <th>9</th>\n",
       "      <td>surf</td>\n",
       "      <td>10</td>\n",
       "      <td>14303.0</td>\n",
       "      <td>101846.0</td>\n",
       "      <td>7.120604</td>\n",
       "    </tr>\n",
       "    <tr>\n",
       "      <th>10</th>\n",
       "      <td>surf</td>\n",
       "      <td>11</td>\n",
       "      <td>16731.0</td>\n",
       "      <td>119801.0</td>\n",
       "      <td>7.160421</td>\n",
       "    </tr>\n",
       "    <tr>\n",
       "      <th>11</th>\n",
       "      <td>surf</td>\n",
       "      <td>12</td>\n",
       "      <td>20814.0</td>\n",
       "      <td>150680.0</td>\n",
       "      <td>7.239358</td>\n",
       "    </tr>\n",
       "    <tr>\n",
       "      <th>12</th>\n",
       "      <td>ultimate</td>\n",
       "      <td>1</td>\n",
       "      <td>112.0</td>\n",
       "      <td>774.0</td>\n",
       "      <td>6.910714</td>\n",
       "    </tr>\n",
       "    <tr>\n",
       "      <th>13</th>\n",
       "      <td>ultimate</td>\n",
       "      <td>2</td>\n",
       "      <td>408.0</td>\n",
       "      <td>2822.0</td>\n",
       "      <td>6.916667</td>\n",
       "    </tr>\n",
       "    <tr>\n",
       "      <th>14</th>\n",
       "      <td>ultimate</td>\n",
       "      <td>3</td>\n",
       "      <td>552.0</td>\n",
       "      <td>3651.0</td>\n",
       "      <td>6.614130</td>\n",
       "    </tr>\n",
       "    <tr>\n",
       "      <th>15</th>\n",
       "      <td>ultimate</td>\n",
       "      <td>4</td>\n",
       "      <td>998.0</td>\n",
       "      <td>7074.0</td>\n",
       "      <td>7.088176</td>\n",
       "    </tr>\n",
       "    <tr>\n",
       "      <th>16</th>\n",
       "      <td>ultimate</td>\n",
       "      <td>5</td>\n",
       "      <td>1670.0</td>\n",
       "      <td>11781.0</td>\n",
       "      <td>7.054491</td>\n",
       "    </tr>\n",
       "    <tr>\n",
       "      <th>17</th>\n",
       "      <td>ultimate</td>\n",
       "      <td>6</td>\n",
       "      <td>2452.0</td>\n",
       "      <td>17435.0</td>\n",
       "      <td>7.110522</td>\n",
       "    </tr>\n",
       "    <tr>\n",
       "      <th>18</th>\n",
       "      <td>ultimate</td>\n",
       "      <td>7</td>\n",
       "      <td>3463.0</td>\n",
       "      <td>25197.0</td>\n",
       "      <td>7.276061</td>\n",
       "    </tr>\n",
       "    <tr>\n",
       "      <th>19</th>\n",
       "      <td>ultimate</td>\n",
       "      <td>8</td>\n",
       "      <td>4265.0</td>\n",
       "      <td>29922.0</td>\n",
       "      <td>7.015709</td>\n",
       "    </tr>\n",
       "    <tr>\n",
       "      <th>20</th>\n",
       "      <td>ultimate</td>\n",
       "      <td>9</td>\n",
       "      <td>5250.0</td>\n",
       "      <td>37626.0</td>\n",
       "      <td>7.166857</td>\n",
       "    </tr>\n",
       "    <tr>\n",
       "      <th>21</th>\n",
       "      <td>ultimate</td>\n",
       "      <td>10</td>\n",
       "      <td>6761.0</td>\n",
       "      <td>47778.0</td>\n",
       "      <td>7.066706</td>\n",
       "    </tr>\n",
       "    <tr>\n",
       "      <th>22</th>\n",
       "      <td>ultimate</td>\n",
       "      <td>11</td>\n",
       "      <td>7920.0</td>\n",
       "      <td>56540.0</td>\n",
       "      <td>7.138889</td>\n",
       "    </tr>\n",
       "    <tr>\n",
       "      <th>23</th>\n",
       "      <td>ultimate</td>\n",
       "      <td>12</td>\n",
       "      <td>9800.0</td>\n",
       "      <td>69324.0</td>\n",
       "      <td>7.073878</td>\n",
       "    </tr>\n",
       "  </tbody>\n",
       "</table>\n",
       "</div>"
      ],
      "text/plain": [
       "        plan  mes  sum_llamadas   sum_min  duracion_prom\n",
       "0       surf    1          60.0     406.0       6.766667\n",
       "1       surf    2         366.0    2673.0       7.303279\n",
       "2       surf    3        1068.0    7590.0       7.106742\n",
       "3       surf    4        2444.0   17577.0       7.191899\n",
       "4       surf    5        4289.0   30768.0       7.173700\n",
       "5       surf    6        5769.0   41836.0       7.251863\n",
       "6       surf    7        7642.0   54448.0       7.124836\n",
       "7       surf    8        9325.0   66438.0       7.124718\n",
       "8       surf    9       11273.0   80360.0       7.128537\n",
       "9       surf   10       14303.0  101846.0       7.120604\n",
       "10      surf   11       16731.0  119801.0       7.160421\n",
       "11      surf   12       20814.0  150680.0       7.239358\n",
       "12  ultimate    1         112.0     774.0       6.910714\n",
       "13  ultimate    2         408.0    2822.0       6.916667\n",
       "14  ultimate    3         552.0    3651.0       6.614130\n",
       "15  ultimate    4         998.0    7074.0       7.088176\n",
       "16  ultimate    5        1670.0   11781.0       7.054491\n",
       "17  ultimate    6        2452.0   17435.0       7.110522\n",
       "18  ultimate    7        3463.0   25197.0       7.276061\n",
       "19  ultimate    8        4265.0   29922.0       7.015709\n",
       "20  ultimate    9        5250.0   37626.0       7.166857\n",
       "21  ultimate   10        6761.0   47778.0       7.066706\n",
       "22  ultimate   11        7920.0   56540.0       7.138889\n",
       "23  ultimate   12        9800.0   69324.0       7.073878"
      ]
     },
     "execution_count": 260,
     "metadata": {},
     "output_type": "execute_result"
    }
   ],
   "source": [
    "filtro_llamada"
   ]
  },
  {
   "cell_type": "code",
   "execution_count": 261,
   "metadata": {
    "id": "QoLqW1S_0q1J"
   },
   "outputs": [
    {
     "data": {
      "text/plain": [
       "<function matplotlib.pyplot.show(close=None, block=None)>"
      ]
     },
     "execution_count": 261,
     "metadata": {},
     "output_type": "execute_result"
    },
    {
     "data": {
      "image/png": "[encoded data removed]",
      "text/plain": [
       "<Figure size 800x600 with 1 Axes>"
      ]
     },
     "metadata": {},
     "output_type": "display_data"
    }
   ],
   "source": [
    "# Compara el número de minutos mensuales que necesitan los usuarios de cada plan. Traza un histograma.\n",
    "plt.figure(figsize=(8,6))\n",
    "sns.histplot(data=consumo_usuario,x='min_usados', hue='plan',bins=20,kde=True)\n",
    "plt.title('Distribucion de Minutos')\n",
    "plt.show\n"
   ]
  },
  {
   "cell_type": "markdown",
   "metadata": {
    "id": "bLS9T8OH0q1K"
   },
   "source": [
    "[Calcula la media y la variable de la duración de las llamadas para averiguar si los usuarios de los distintos planes se comportan de forma diferente al realizar sus llamadas.]"
   ]
  },
  {
   "cell_type": "code",
   "execution_count": 262,
   "metadata": {
    "id": "oSndbAnt0q1K"
   },
   "outputs": [
    {
     "data": {
      "text/html": [
       "<div>\n",
       "<style scoped>\n",
       "    .dataframe tbody tr th:only-of-type {\n",
       "        vertical-align: middle;\n",
       "    }\n",
       "\n",
       "    .dataframe tbody tr th {\n",
       "        vertical-align: top;\n",
       "    }\n",
       "\n",
       "    .dataframe thead th {\n",
       "        text-align: right;\n",
       "    }\n",
       "</style>\n",
       "<table border=\"1\" class=\"dataframe\">\n",
       "  <thead>\n",
       "    <tr style=\"text-align: right;\">\n",
       "      <th></th>\n",
       "      <th>mean</th>\n",
       "      <th>var</th>\n",
       "    </tr>\n",
       "    <tr>\n",
       "      <th>plan</th>\n",
       "      <th></th>\n",
       "      <th></th>\n",
       "    </tr>\n",
       "  </thead>\n",
       "  <tbody>\n",
       "    <tr>\n",
       "      <th>surf</th>\n",
       "      <td>428.749523</td>\n",
       "      <td>54968.279461</td>\n",
       "    </tr>\n",
       "    <tr>\n",
       "      <th>ultimate</th>\n",
       "      <td>430.450000</td>\n",
       "      <td>57844.464812</td>\n",
       "    </tr>\n",
       "  </tbody>\n",
       "</table>\n",
       "</div>"
      ],
      "text/plain": [
       "                mean           var\n",
       "plan                              \n",
       "surf      428.749523  54968.279461\n",
       "ultimate  430.450000  57844.464812"
      ]
     },
     "execution_count": 262,
     "metadata": {},
     "output_type": "execute_result"
    }
   ],
   "source": [
    "# Calcula la media y la varianza de la duración mensual de llamadas.\n",
    "media_varianza = consumo_usuario.groupby('plan')['min_usados'].agg(['mean','var'])\n",
    "media_varianza\n"
   ]
  },
  {
   "cell_type": "code",
   "execution_count": 263,
   "metadata": {
    "id": "nZzoRUKc0q1K"
   },
   "outputs": [
    {
     "name": "stderr",
     "output_type": "stream",
     "text": [
      "C:\\Users\\AAFJ066661\\AppData\\Local\\Temp\\ipykernel_15320\\2964319977.py:3: FutureWarning: \n",
      "\n",
      "Passing `palette` without assigning `hue` is deprecated and will be removed in v0.14.0. Assign the `x` variable to `hue` and set `legend=False` for the same effect.\n",
      "\n",
      "  sns.boxplot(data=consumo_usuario, x='plan', y='min_usados', palette='Set2')\n"
     ]
    },
    {
     "data": {
      "image/png": "[encoded data removed]",
      "text/plain": [
       "<Figure size 800x600 with 1 Axes>"
      ]
     },
     "metadata": {},
     "output_type": "display_data"
    }
   ],
   "source": [
    "# Traza un diagrama de caja para visualizar la distribución de la duración mensual de llamadas\n",
    "plt.figure(figsize=(8, 6))\n",
    "sns.boxplot(data=consumo_usuario, x='plan', y='min_usados', palette='Set2')\n",
    "plt.title('Distribución de Minutos')\n",
    "plt.show()"
   ]
  },
  {
   "cell_type": "markdown",
   "metadata": {
    "id": "r627zBO50q1K"
   },
   "source": [
    "¿Su comportamiento varía en función del plan?\n",
    "\n",
    "La media de los 2 planes es muy similar , así como el 1er y 3er cuartil por lo que podemos concluir que tienen el mismo comportamiento los 2 planes sin embargo existen más usuarios en el plan surf como se muestra en el histograma, así como mayor número de outliers.\n",
    "\n"
   ]
  },
  {
   "cell_type": "markdown",
   "metadata": {
    "id": "8idKy8Wh0q1L"
   },
   "source": [
    "### Mensajes"
   ]
  },
  {
   "cell_type": "code",
   "execution_count": 264,
   "metadata": {},
   "outputs": [
    {
     "data": {
      "image/png": "[encoded data removed]",
      "text/plain": [
       "<Figure size 1000x500 with 1 Axes>"
      ]
     },
     "metadata": {},
     "output_type": "display_data"
    }
   ],
   "source": [
    "filtro_sms= consumo_usuario.groupby(['plan','mes'])['numero_mensajes'].sum().reset_index(name='mensajes_mensuales')\n",
    "\n",
    "sns.set(style='whitegrid')\n",
    "plt.figure(figsize=(10, 5))\n",
    "sns.barplot(data=filtro_sms,\n",
    "            y='mensajes_mensuales',\n",
    "            x='mes',\n",
    "            hue='plan',\n",
    "            palette=\"deep\", \n",
    "\n",
    "            )\n",
    "\n",
    "plt.title(\"Mensajes por Plan\")\n",
    "plt.xlabel(\"Mes\")\n",
    "plt.ylabel(\"Numero de Mensajes\")\n",
    "plt.show()"
   ]
  },
  {
   "cell_type": "code",
   "execution_count": 265,
   "metadata": {
    "id": "GRI_R7xF0q1L"
   },
   "outputs": [
    {
     "data": {
      "image/png": "[encoded data removed]",
      "text/plain": [
       "<Figure size 1000x500 with 1 Axes>"
      ]
     },
     "metadata": {},
     "output_type": "display_data"
    }
   ],
   "source": [
    "# Compara la cantidad de tráfico de Internet consumido por usuarios por plan\n",
    "filtro_internet= consumo_usuario.groupby(['plan','mes'])['internet_usado'].sum().reset_index(name='internet_mensual')\n",
    "\n",
    "sns.set(style='whitegrid')\n",
    "plt.figure(figsize=(10, 5))\n",
    "sns.barplot(data=filtro_internet,\n",
    "            y='internet_mensual',\n",
    "            x='mes',\n",
    "            hue='plan',\n",
    "            palette=\"colorblind\", \n",
    "\n",
    "            )\n",
    "\n",
    "plt.title(\"Internet por Plan\")\n",
    "plt.xlabel(\"Mes\")\n",
    "plt.ylabel(\"Cantidad de GB Consumidos\")\n",
    "plt.show()\n"
   ]
  },
  {
   "cell_type": "markdown",
   "metadata": {
    "id": "390SSL480q1M"
   },
   "source": [
    "¿Su comportamiento varía en función del plan?\n",
    "\n",
    "Los planes se comportan de manera similar en los meses del año en el envio de mensajes y consumo de internet teniendo los mayores picos al final del año concluyendo que posiblemente las personas contrataron un paquete en el 2do semestre del año."
   ]
  },
  {
   "cell_type": "markdown",
   "metadata": {
    "id": "42YSypXz0q1M"
   },
   "source": [
    "### Internet"
   ]
  },
  {
   "cell_type": "code",
   "execution_count": 266,
   "metadata": {
    "id": "lSuKPtjh0q1M"
   },
   "outputs": [
    {
     "data": {
      "text/plain": [
       "<function matplotlib.pyplot.show(close=None, block=None)>"
      ]
     },
     "execution_count": 266,
     "metadata": {},
     "output_type": "execute_result"
    },
    {
     "data": {
      "image/png": "[encoded data removed]",
      "text/plain": [
       "<Figure size 800x600 with 1 Axes>"
      ]
     },
     "metadata": {},
     "output_type": "display_data"
    }
   ],
   "source": [
    "plt.figure(figsize=(8,6))\n",
    "sns.histplot(data=consumo_usuario,x='internet_usado', hue='plan',bins=20,kde=True)\n",
    "plt.title('Distribucion de Internet')\n",
    "plt.show\n"
   ]
  },
  {
   "cell_type": "code",
   "execution_count": 267,
   "metadata": {
    "id": "wnh8jYXi0q1N"
   },
   "outputs": [
    {
     "data": {
      "text/html": [
       "<div>\n",
       "<style scoped>\n",
       "    .dataframe tbody tr th:only-of-type {\n",
       "        vertical-align: middle;\n",
       "    }\n",
       "\n",
       "    .dataframe tbody tr th {\n",
       "        vertical-align: top;\n",
       "    }\n",
       "\n",
       "    .dataframe thead th {\n",
       "        text-align: right;\n",
       "    }\n",
       "</style>\n",
       "<table border=\"1\" class=\"dataframe\">\n",
       "  <thead>\n",
       "    <tr style=\"text-align: right;\">\n",
       "      <th></th>\n",
       "      <th>mean</th>\n",
       "      <th>var</th>\n",
       "    </tr>\n",
       "    <tr>\n",
       "      <th>plan</th>\n",
       "      <th></th>\n",
       "      <th></th>\n",
       "    </tr>\n",
       "  </thead>\n",
       "  <tbody>\n",
       "    <tr>\n",
       "      <th>surf</th>\n",
       "      <td>17.037508</td>\n",
       "      <td>64.262587</td>\n",
       "    </tr>\n",
       "    <tr>\n",
       "      <th>ultimate</th>\n",
       "      <td>17.719444</td>\n",
       "      <td>61.862765</td>\n",
       "    </tr>\n",
       "  </tbody>\n",
       "</table>\n",
       "</div>"
      ],
      "text/plain": [
       "               mean        var\n",
       "plan                          \n",
       "surf      17.037508  64.262587\n",
       "ultimate  17.719444  61.862765"
      ]
     },
     "execution_count": 267,
     "metadata": {},
     "output_type": "execute_result"
    }
   ],
   "source": [
    "media_varianza_internet = consumo_usuario.groupby('plan')['internet_usado'].agg(['mean','var'])\n",
    "media_varianza_internet"
   ]
  },
  {
   "cell_type": "markdown",
   "metadata": {
    "id": "UN9zwuMP0q1N"
   },
   "source": [
    "¿Su comportamiento varía en función del plan?\n",
    "\n",
    "Se observa un comportamiento similar en los 2 planes sin embargo en el gráfico se observa que mas usuarios contratan el plan surf por ser mas económico."
   ]
  },
  {
   "cell_type": "markdown",
   "metadata": {
    "id": "tCijq3260q1N"
   },
   "source": [
    "## Ingreso"
   ]
  },
  {
   "cell_type": "markdown",
   "metadata": {
    "id": "9nq5IAcy0q1O"
   },
   "source": [
    "[Del mismo modo que has estudiado el comportamiento de los usuarios, describe estadísticamente los ingresos de los planes.]"
   ]
  },
  {
   "cell_type": "code",
   "execution_count": 268,
   "metadata": {
    "id": "tz-dq_V00q1O"
   },
   "outputs": [
    {
     "data": {
      "text/html": [
       "<div>\n",
       "<style scoped>\n",
       "    .dataframe tbody tr th:only-of-type {\n",
       "        vertical-align: middle;\n",
       "    }\n",
       "\n",
       "    .dataframe tbody tr th {\n",
       "        vertical-align: top;\n",
       "    }\n",
       "\n",
       "    .dataframe thead th {\n",
       "        text-align: right;\n",
       "    }\n",
       "</style>\n",
       "<table border=\"1\" class=\"dataframe\">\n",
       "  <thead>\n",
       "    <tr style=\"text-align: right;\">\n",
       "      <th></th>\n",
       "      <th>plan</th>\n",
       "      <th>mes</th>\n",
       "      <th>ingreso</th>\n",
       "    </tr>\n",
       "  </thead>\n",
       "  <tbody>\n",
       "    <tr>\n",
       "      <th>0</th>\n",
       "      <td>surf</td>\n",
       "      <td>1</td>\n",
       "      <td>40.00</td>\n",
       "    </tr>\n",
       "    <tr>\n",
       "      <th>1</th>\n",
       "      <td>surf</td>\n",
       "      <td>2</td>\n",
       "      <td>339.57</td>\n",
       "    </tr>\n",
       "    <tr>\n",
       "      <th>2</th>\n",
       "      <td>surf</td>\n",
       "      <td>3</td>\n",
       "      <td>1106.65</td>\n",
       "    </tr>\n",
       "    <tr>\n",
       "      <th>3</th>\n",
       "      <td>surf</td>\n",
       "      <td>4</td>\n",
       "      <td>2105.53</td>\n",
       "    </tr>\n",
       "    <tr>\n",
       "      <th>4</th>\n",
       "      <td>surf</td>\n",
       "      <td>5</td>\n",
       "      <td>3857.37</td>\n",
       "    </tr>\n",
       "    <tr>\n",
       "      <th>5</th>\n",
       "      <td>surf</td>\n",
       "      <td>6</td>\n",
       "      <td>4979.80</td>\n",
       "    </tr>\n",
       "    <tr>\n",
       "      <th>6</th>\n",
       "      <td>surf</td>\n",
       "      <td>7</td>\n",
       "      <td>8013.56</td>\n",
       "    </tr>\n",
       "    <tr>\n",
       "      <th>7</th>\n",
       "      <td>surf</td>\n",
       "      <td>8</td>\n",
       "      <td>10876.85</td>\n",
       "    </tr>\n",
       "    <tr>\n",
       "      <th>8</th>\n",
       "      <td>surf</td>\n",
       "      <td>9</td>\n",
       "      <td>11854.67</td>\n",
       "    </tr>\n",
       "    <tr>\n",
       "      <th>9</th>\n",
       "      <td>surf</td>\n",
       "      <td>10</td>\n",
       "      <td>16154.83</td>\n",
       "    </tr>\n",
       "    <tr>\n",
       "      <th>10</th>\n",
       "      <td>surf</td>\n",
       "      <td>11</td>\n",
       "      <td>17305.21</td>\n",
       "    </tr>\n",
       "    <tr>\n",
       "      <th>11</th>\n",
       "      <td>surf</td>\n",
       "      <td>12</td>\n",
       "      <td>23427.14</td>\n",
       "    </tr>\n",
       "    <tr>\n",
       "      <th>12</th>\n",
       "      <td>ultimate</td>\n",
       "      <td>1</td>\n",
       "      <td>280.00</td>\n",
       "    </tr>\n",
       "    <tr>\n",
       "      <th>13</th>\n",
       "      <td>ultimate</td>\n",
       "      <td>2</td>\n",
       "      <td>490.00</td>\n",
       "    </tr>\n",
       "    <tr>\n",
       "      <th>14</th>\n",
       "      <td>ultimate</td>\n",
       "      <td>3</td>\n",
       "      <td>910.00</td>\n",
       "    </tr>\n",
       "    <tr>\n",
       "      <th>15</th>\n",
       "      <td>ultimate</td>\n",
       "      <td>4</td>\n",
       "      <td>1547.00</td>\n",
       "    </tr>\n",
       "    <tr>\n",
       "      <th>16</th>\n",
       "      <td>ultimate</td>\n",
       "      <td>5</td>\n",
       "      <td>2058.00</td>\n",
       "    </tr>\n",
       "    <tr>\n",
       "      <th>17</th>\n",
       "      <td>ultimate</td>\n",
       "      <td>6</td>\n",
       "      <td>3374.00</td>\n",
       "    </tr>\n",
       "    <tr>\n",
       "      <th>18</th>\n",
       "      <td>ultimate</td>\n",
       "      <td>7</td>\n",
       "      <td>4256.00</td>\n",
       "    </tr>\n",
       "    <tr>\n",
       "      <th>19</th>\n",
       "      <td>ultimate</td>\n",
       "      <td>8</td>\n",
       "      <td>5215.00</td>\n",
       "    </tr>\n",
       "    <tr>\n",
       "      <th>20</th>\n",
       "      <td>ultimate</td>\n",
       "      <td>9</td>\n",
       "      <td>6223.00</td>\n",
       "    </tr>\n",
       "    <tr>\n",
       "      <th>21</th>\n",
       "      <td>ultimate</td>\n",
       "      <td>10</td>\n",
       "      <td>7700.00</td>\n",
       "    </tr>\n",
       "    <tr>\n",
       "      <th>22</th>\n",
       "      <td>ultimate</td>\n",
       "      <td>11</td>\n",
       "      <td>9142.00</td>\n",
       "    </tr>\n",
       "    <tr>\n",
       "      <th>23</th>\n",
       "      <td>ultimate</td>\n",
       "      <td>12</td>\n",
       "      <td>11151.00</td>\n",
       "    </tr>\n",
       "  </tbody>\n",
       "</table>\n",
       "</div>"
      ],
      "text/plain": [
       "        plan  mes   ingreso\n",
       "0       surf    1     40.00\n",
       "1       surf    2    339.57\n",
       "2       surf    3   1106.65\n",
       "3       surf    4   2105.53\n",
       "4       surf    5   3857.37\n",
       "5       surf    6   4979.80\n",
       "6       surf    7   8013.56\n",
       "7       surf    8  10876.85\n",
       "8       surf    9  11854.67\n",
       "9       surf   10  16154.83\n",
       "10      surf   11  17305.21\n",
       "11      surf   12  23427.14\n",
       "12  ultimate    1    280.00\n",
       "13  ultimate    2    490.00\n",
       "14  ultimate    3    910.00\n",
       "15  ultimate    4   1547.00\n",
       "16  ultimate    5   2058.00\n",
       "17  ultimate    6   3374.00\n",
       "18  ultimate    7   4256.00\n",
       "19  ultimate    8   5215.00\n",
       "20  ultimate    9   6223.00\n",
       "21  ultimate   10   7700.00\n",
       "22  ultimate   11   9142.00\n",
       "23  ultimate   12  11151.00"
      ]
     },
     "execution_count": 268,
     "metadata": {},
     "output_type": "execute_result"
    }
   ],
   "source": [
    "filtro_ingreso= consumo_usuario.groupby(['plan','mes'])['ingresos'].sum().reset_index(name='ingreso')\n",
    "tabla_ingreso=pd.pivot_table(filtro_ingreso,values='ingreso',index='plan',columns='mes')\n",
    "tabla_ingreso\n",
    "filtro_ingreso\n"
   ]
  },
  {
   "cell_type": "code",
   "execution_count": 269,
   "metadata": {
    "id": "0Y1v8ZUz0q1P"
   },
   "outputs": [
    {
     "data": {
      "image/png": "[encoded data removed]",
      "text/plain": [
       "<Figure size 1000x500 with 1 Axes>"
      ]
     },
     "metadata": {},
     "output_type": "display_data"
    }
   ],
   "source": [
    "plt.figure(figsize=(10, 5))\n",
    "sns.lineplot(data=filtro_ingreso, x=\"mes\", y=\"ingreso\", marker=\"o\", hue='plan')\n",
    "plt.title(\"Ingresos Mensuales\")\n",
    "plt.xlabel(\"Fecha\")\n",
    "plt.ylabel(\"Ingresos Dolares\")\n",
    "plt.xticks(rotation=45)\n",
    "plt.legend()\n",
    "plt.show()"
   ]
  },
  {
   "cell_type": "code",
   "execution_count": 270,
   "metadata": {},
   "outputs": [
    {
     "data": {
      "text/html": [
       "<div>\n",
       "<style scoped>\n",
       "    .dataframe tbody tr th:only-of-type {\n",
       "        vertical-align: middle;\n",
       "    }\n",
       "\n",
       "    .dataframe tbody tr th {\n",
       "        vertical-align: top;\n",
       "    }\n",
       "\n",
       "    .dataframe thead th {\n",
       "        text-align: right;\n",
       "    }\n",
       "</style>\n",
       "<table border=\"1\" class=\"dataframe\">\n",
       "  <thead>\n",
       "    <tr style=\"text-align: right;\">\n",
       "      <th></th>\n",
       "      <th>mean</th>\n",
       "      <th>var</th>\n",
       "      <th>std</th>\n",
       "    </tr>\n",
       "    <tr>\n",
       "      <th>plan</th>\n",
       "      <th></th>\n",
       "      <th></th>\n",
       "      <th></th>\n",
       "    </tr>\n",
       "  </thead>\n",
       "  <tbody>\n",
       "    <tr>\n",
       "      <th>surf</th>\n",
       "      <td>63.611685</td>\n",
       "      <td>3295.597694</td>\n",
       "      <td>57.407297</td>\n",
       "    </tr>\n",
       "    <tr>\n",
       "      <th>ultimate</th>\n",
       "      <td>72.702778</td>\n",
       "      <td>160.606946</td>\n",
       "      <td>12.673080</td>\n",
       "    </tr>\n",
       "  </tbody>\n",
       "</table>\n",
       "</div>"
      ],
      "text/plain": [
       "               mean          var        std\n",
       "plan                                       \n",
       "surf      63.611685  3295.597694  57.407297\n",
       "ultimate  72.702778   160.606946  12.673080"
      ]
     },
     "execution_count": 270,
     "metadata": {},
     "output_type": "execute_result"
    }
   ],
   "source": [
    "media_varianza_ingresos = consumo_usuario.groupby('plan')['ingresos'].agg(['mean','var','std'])\n",
    "media_varianza_ingresos"
   ]
  },
  {
   "cell_type": "markdown",
   "metadata": {},
   "source": [
    "Se observa la misma temporalidad en cada plan de ingresos sin embargo existe una brecha incremental conforme pasa el año siendo una variación mayor en el último trimestre del año."
   ]
  },
  {
   "cell_type": "markdown",
   "metadata": {},
   "source": [
    "<div class=\"alert alert-block alert-success\">\n",
    "<b>Comentario del revisor (1ra Iteración)</b> <a class=“tocSkip”></a>\n",
    "\n",
    "Excelente selección de los tipos de gráficos para mostrar los datos. Adicionalmente, calculaste la información estadística de los datos. Esto te permitió realizar análisis detallados y claros sobre la información de consumo de los usuarios.\n",
    "    \n",
    "<div class=\"alert alert-block alert-warning\">\n",
    "<b>Comentario del revisor (1ra Iteración)</b> <a class=“tocSkip”></a>\n",
    "\n",
    "   \n",
    "Con respecto a la información de **Ingresos**  debes tener en cuenta que los valores cambiaran con base en los cambios en el cálculo de cobro mensual que te sugería más arriba.\n",
    "\n",
    "</div>\n",
    "\n",
    "\n",
    "</div>"
   ]
  },
  {
   "cell_type": "markdown",
   "metadata": {
    "id": "ajJ7VKeI0q1Q"
   },
   "source": [
    "## Prueba las hipótesis estadísticas"
   ]
  },
  {
   "cell_type": "markdown",
   "metadata": {
    "id": "AdXAZ-yL0q1Q"
   },
   "source": [
    "[Prueba la hipótesis de que son diferentes los ingresos promedio procedentes de los usuarios de los planes de llamada Ultimate y Surf.]"
   ]
  },
  {
   "cell_type": "markdown",
   "metadata": {
    "id": "IQwa_hsh0q1Q"
   },
   "source": [
    "[Elabora las hipótesis nula y alternativa, escoge la prueba estadística, determina el valor alfa.]"
   ]
  },
  {
   "cell_type": "code",
   "execution_count": 271,
   "metadata": {
    "id": "nFoPNlPq0q1R"
   },
   "outputs": [
    {
     "name": "stdout",
     "output_type": "stream",
     "text": [
      "Valor p: 2.81373182813939e-09\n",
      "Rechazamos la hipótesis nula\n"
     ]
    }
   ],
   "source": [
    "# Prueba las hipótesis\n",
    "from scipy import stats as st\n",
    "\n",
    "ingresos_ultimate = consumo_usuario[consumo_usuario['plan'] == 'ultimate']\n",
    "ingresos_surf = consumo_usuario[consumo_usuario['plan'] == 'surf']\n",
    "\n",
    "alpha = 0.05\n",
    "\n",
    "resultados = st.ttest_ind(ingresos_ultimate['ingresos'], ingresos_surf['ingresos'], equal_var=False)\n",
    "\n",
    "# Imprimir el valor p\n",
    "print('Valor p:', resultados.pvalue)\n",
    "\n",
    "# Comparar el valor p con el umbral\n",
    "if resultados.pvalue < alpha:\n",
    "    print(\"Rechazamos la hipótesis nula\")\n",
    "else:\n",
    "    print(\"No podemos rechazar la hipótesis nula\")"
   ]
  },
  {
   "cell_type": "markdown",
   "metadata": {
    "id": "tCcAruM60q1R"
   },
   "source": [
    "[Prueba la hipótesis de que el ingreso promedio de los usuarios del área NY-NJ es diferente al de los usuarios de otras regiones.]"
   ]
  },
  {
   "cell_type": "markdown",
   "metadata": {
    "id": "LsBgitqj0q1R"
   },
   "source": [
    "[Elabora las hipótesis nula y alternativa, escoge la prueba estadística, determina el valor alfa.]"
   ]
  },
  {
   "cell_type": "code",
   "execution_count": 272,
   "metadata": {
    "id": "Cqcj7wrZ0q1S"
   },
   "outputs": [],
   "source": [
    "consumo_usuario = pd.merge(consumo_usuario,users[['user_id','city']], on='user_id', how='outer') # Agreagmos la ciudad"
   ]
  },
  {
   "cell_type": "code",
   "execution_count": 273,
   "metadata": {},
   "outputs": [
    {
     "name": "stdout",
     "output_type": "stream",
     "text": [
      "Valor p: 0.08381531697981728\n",
      "Rechazamos la hipótesis nula\n"
     ]
    }
   ],
   "source": [
    "ingresos_NY_NJ = consumo_usuario[consumo_usuario['city'] == 'New York-Newark-Jersey City, NY-NJ-PA MSA'] # Filtramos ingresos de NY-NC\n",
    "ingresos_NY_NJ_sin_na = ingresos_NY_NJ.dropna() # Eliminamos ausentes para tomar una muestra\n",
    "ingresos_restantes = consumo_usuario[consumo_usuario['city'] != 'New York-Newark-Jersey City, NY-NJ-PA MSA'] # Filtramos ingresos diferentes a NY-NC\n",
    "ingresos_restantes_sin_na = ingresos_restantes.dropna() # Eliminamos ausentes para tomar una muestra\n",
    "\n",
    "# Prueba de las hipotesis\n",
    "alpha = 0.05\n",
    "\n",
    "resultado = st.ttest_ind(ingresos_NY_NJ_sin_na['ingresos'], ingresos_restantes_sin_na['ingresos'], equal_var=False)\n",
    "\n",
    "# Imprimir el valor p\n",
    "print('Valor p:', resultado.pvalue)\n",
    "\n",
    "# Comparar el valor p con el umbral\n",
    "if resultados.pvalue < alpha:\n",
    "    print(\"Rechazamos la hipótesis nula\")\n",
    "else:\n",
    "    print(\"No podemos rechazar la hipótesis nula\")"
   ]
  },
  {
   "cell_type": "markdown",
   "metadata": {},
   "source": [
    "<div class=\"alert alert-block alert-success\">\n",
    "<b>Comentario General del revisor (1ra Iteración)</b> <a class=“tocSkip”></a>\n",
    "    \n",
    "Javier excelente trabajo implementando las pruebas de hipótesis. Has logrado hacer comparaciones entre subconjuntos de datos con fundamentos estadísticos\n",
    "\n",
    "</div>"
   ]
  },
  {
   "cell_type": "markdown",
   "metadata": {
    "id": "bbTR8UQO0q1T"
   },
   "source": [
    "## Conclusión general\n",
    "\n",
    "Se observa que los usuarios prefieren contratar el plan Surf debido a que es mas económico sin embargo el consumo del plan es similar en cada uno y observando que normalmente la contratación se realiza a finales de año. Con respecto a los ingresos existe una brecha entre cada plan debido a que en el plan surf contamos con mas usuarios sin embargo el consumo es el mismo, cabe señalar que existen outliers de personas que consumen arriba del 4 cuartil. Vemos que el ingreso promedio es igual en todas las ciudades, así como el de los usuarios que contratan los 2 planes. Podemos concluir que podriamos implementar alguna promoción en el plan Ultimate para generar mayores ingresos en la parte de GB que es lo que mas consumen nuestros usuarios de Surf."
   ]
  }
 ],
 "metadata": {
  "ExecuteTimeLog": [
   {
    "duration": 828,
    "start_time": "2021-11-16T09:21:11.304Z"
   },
   {
    "duration": 893,
    "start_time": "2021-11-16T09:21:17.728Z"
   },
   {
    "duration": 1150,
    "start_time": "2021-11-16T09:21:29.568Z"
   },
   {
    "duration": 3,
    "start_time": "2021-11-16T09:24:14.495Z"
   },
   {
    "duration": 120,
    "start_time": "2021-11-16T09:24:46.630Z"
   },
   {
    "duration": 3,
    "start_time": "2021-11-16T09:28:27.882Z"
   },
   {
    "duration": 4,
    "start_time": "2021-11-16T09:29:54.281Z"
   },
   {
    "duration": 3,
    "start_time": "2021-11-16T09:30:45.936Z"
   },
   {
    "duration": 4,
    "start_time": "2021-11-16T09:31:06.300Z"
   },
   {
    "duration": 113,
    "start_time": "2021-11-16T09:31:37.208Z"
   },
   {
    "duration": 143,
    "start_time": "2021-11-16T09:31:48.656Z"
   },
   {
    "duration": 98,
    "start_time": "2021-11-16T09:31:55.678Z"
   },
   {
    "duration": 3,
    "start_time": "2021-11-16T09:32:08.535Z"
   },
   {
    "duration": 111,
    "start_time": "2021-11-16T09:32:10.120Z"
   },
   {
    "duration": 3,
    "start_time": "2021-11-16T09:32:15.732Z"
   },
   {
    "duration": 4,
    "start_time": "2021-11-16T09:32:29.423Z"
   },
   {
    "duration": 3,
    "start_time": "2021-11-16T10:03:03.074Z"
   },
   {
    "duration": 3,
    "start_time": "2021-11-16T10:10:01.288Z"
   },
   {
    "duration": 3,
    "start_time": "2021-11-16T10:10:46.923Z"
   },
   {
    "duration": 121,
    "start_time": "2021-11-16T10:37:46.494Z"
   },
   {
    "duration": 125,
    "start_time": "2021-11-16T10:38:20.632Z"
   },
   {
    "duration": 112,
    "start_time": "2021-11-16T10:46:53.001Z"
   },
   {
    "duration": 110,
    "start_time": "2021-11-16T10:48:25.775Z"
   },
   {
    "duration": 3,
    "start_time": "2021-11-16T10:50:18.720Z"
   },
   {
    "duration": 4,
    "start_time": "2021-11-16T10:50:37.649Z"
   },
   {
    "duration": 2,
    "start_time": "2021-11-16T10:50:51.884Z"
   },
   {
    "duration": 3,
    "start_time": "2021-11-16T10:51:56.237Z"
   },
   {
    "duration": 101,
    "start_time": "2021-11-16T10:53:13.791Z"
   },
   {
    "duration": 3,
    "start_time": "2021-11-16T10:55:59.186Z"
   },
   {
    "duration": 3,
    "start_time": "2021-11-16T10:56:10.751Z"
   },
   {
    "duration": 3,
    "start_time": "2021-11-16T10:56:49.038Z"
   },
   {
    "duration": 3,
    "start_time": "2021-11-16T10:56:49.174Z"
   },
   {
    "duration": 4,
    "start_time": "2021-11-16T10:56:49.414Z"
   },
   {
    "duration": 3,
    "start_time": "2021-11-16T10:56:49.680Z"
   },
   {
    "duration": 3,
    "start_time": "2021-11-16T10:56:50.370Z"
   },
   {
    "duration": 114,
    "start_time": "2021-11-16T10:59:34.518Z"
   },
   {
    "duration": 3,
    "start_time": "2021-11-16T11:01:41.201Z"
   },
   {
    "duration": 116,
    "start_time": "2021-11-16T11:01:48.754Z"
   },
   {
    "duration": 3,
    "start_time": "2021-11-16T11:02:16.685Z"
   },
   {
    "duration": 3,
    "start_time": "2021-11-16T11:02:19.479Z"
   },
   {
    "duration": 3,
    "start_time": "2021-11-16T11:02:47.067Z"
   },
   {
    "duration": 3,
    "start_time": "2021-11-16T11:02:49.353Z"
   },
   {
    "duration": 3,
    "start_time": "2021-11-16T11:03:07.835Z"
   },
   {
    "duration": 3,
    "start_time": "2021-11-16T11:03:07.953Z"
   },
   {
    "duration": 112,
    "start_time": "2021-11-16T11:07:52.072Z"
   },
   {
    "duration": 187,
    "start_time": "2021-11-16T11:09:23.468Z"
   },
   {
    "duration": 4,
    "start_time": "2021-11-16T11:10:01.455Z"
   },
   {
    "duration": 3,
    "start_time": "2021-11-16T11:10:05.069Z"
   },
   {
    "duration": 4,
    "start_time": "2021-11-16T11:10:13.376Z"
   },
   {
    "duration": 3,
    "start_time": "2021-11-16T11:10:14.434Z"
   },
   {
    "duration": 3,
    "start_time": "2021-11-16T11:10:22.853Z"
   },
   {
    "duration": 4,
    "start_time": "2021-11-16T11:27:29.279Z"
   },
   {
    "duration": 4,
    "start_time": "2021-11-16T11:29:08.919Z"
   },
   {
    "duration": 118,
    "start_time": "2021-11-16T11:29:46.703Z"
   },
   {
    "duration": 437,
    "start_time": "2021-11-16T11:36:02.181Z"
   },
   {
    "duration": 157,
    "start_time": "2021-11-16T11:36:14.388Z"
   },
   {
    "duration": 207,
    "start_time": "2021-11-16T11:47:15.898Z"
   },
   {
    "duration": 3,
    "start_time": "2021-11-16T11:53:52.092Z"
   },
   {
    "duration": 3,
    "start_time": "2021-11-16T11:53:52.236Z"
   },
   {
    "duration": 3,
    "start_time": "2021-11-16T11:59:12.005Z"
   },
   {
    "duration": 112,
    "start_time": "2021-11-16T12:00:33.446Z"
   },
   {
    "duration": 3,
    "start_time": "2021-11-16T12:02:14.453Z"
   },
   {
    "duration": 3,
    "start_time": "2021-11-16T12:02:39.512Z"
   },
   {
    "duration": 106,
    "start_time": "2021-11-16T12:03:03.460Z"
   },
   {
    "duration": 3,
    "start_time": "2021-11-17T20:37:21.139Z"
   },
   {
    "duration": 3,
    "start_time": "2021-11-17T20:37:22.229Z"
   },
   {
    "duration": 3,
    "start_time": "2021-11-17T20:38:38.806Z"
   },
   {
    "duration": 3,
    "start_time": "2021-11-17T20:38:41.958Z"
   },
   {
    "duration": 3,
    "start_time": "2021-11-17T20:43:46.551Z"
   },
   {
    "duration": 4,
    "start_time": "2021-11-17T20:58:21.835Z"
   },
   {
    "duration": 3,
    "start_time": "2021-11-17T20:59:21.872Z"
   },
   {
    "duration": 4,
    "start_time": "2021-11-17T20:59:45.352Z"
   },
   {
    "duration": 4,
    "start_time": "2021-11-17T20:59:49.646Z"
   },
   {
    "duration": 159,
    "start_time": "2021-11-17T21:02:26.949Z"
   },
   {
    "duration": 3,
    "start_time": "2021-11-17T21:03:53.461Z"
   },
   {
    "duration": 3,
    "start_time": "2021-11-17T21:03:53.694Z"
   },
   {
    "duration": 3,
    "start_time": "2021-11-17T21:05:28.145Z"
   },
   {
    "duration": 116,
    "start_time": "2021-11-17T21:05:57.787Z"
   },
   {
    "duration": 3,
    "start_time": "2021-11-17T21:06:37.993Z"
   },
   {
    "duration": 3,
    "start_time": "2021-11-17T21:06:38.261Z"
   },
   {
    "duration": 3,
    "start_time": "2021-11-17T21:11:54.358Z"
   },
   {
    "duration": 3,
    "start_time": "2021-11-17T21:12:43.846Z"
   },
   {
    "duration": 4,
    "start_time": "2021-11-17T21:13:08.773Z"
   },
   {
    "duration": 3,
    "start_time": "2021-11-17T21:14:44.441Z"
   },
   {
    "duration": 3,
    "start_time": "2021-11-17T21:15:42.059Z"
   },
   {
    "duration": 4,
    "start_time": "2021-11-17T21:15:51.995Z"
   },
   {
    "duration": 3,
    "start_time": "2021-11-17T21:15:53.923Z"
   },
   {
    "duration": 3,
    "start_time": "2021-11-17T21:15:55.282Z"
   },
   {
    "duration": 3,
    "start_time": "2021-11-17T21:16:28.492Z"
   },
   {
    "duration": 3,
    "start_time": "2021-11-17T21:16:32.603Z"
   },
   {
    "duration": 3,
    "start_time": "2021-11-17T21:17:06.941Z"
   },
   {
    "duration": 98,
    "start_time": "2021-11-17T21:18:05.733Z"
   },
   {
    "duration": 4,
    "start_time": "2021-11-17T21:21:35.255Z"
   },
   {
    "duration": 3,
    "start_time": "2021-11-17T21:21:37.804Z"
   },
   {
    "duration": 4,
    "start_time": "2021-11-17T21:23:06.071Z"
   },
   {
    "duration": 3,
    "start_time": "2021-11-17T21:23:24.799Z"
   },
   {
    "duration": 3,
    "start_time": "2021-11-17T21:23:32.591Z"
   },
   {
    "duration": 98,
    "start_time": "2021-11-17T21:28:31.559Z"
   },
   {
    "duration": 3,
    "start_time": "2021-11-17T21:28:45.448Z"
   },
   {
    "duration": 3,
    "start_time": "2021-11-17T21:29:17.303Z"
   },
   {
    "duration": 3,
    "start_time": "2021-11-17T21:29:29.617Z"
   },
   {
    "duration": 3,
    "start_time": "2021-11-17T21:29:32.681Z"
   },
   {
    "duration": 3,
    "start_time": "2021-11-17T21:36:11.474Z"
   },
   {
    "duration": 3,
    "start_time": "2021-11-17T21:36:14.791Z"
   },
   {
    "duration": 3,
    "start_time": "2021-11-17T21:36:53.943Z"
   },
   {
    "duration": 3,
    "start_time": "2021-11-17T21:36:56.165Z"
   },
   {
    "duration": 4,
    "start_time": "2021-11-17T21:37:16.590Z"
   },
   {
    "duration": 3,
    "start_time": "2021-11-17T21:37:22.702Z"
   },
   {
    "duration": 4,
    "start_time": "2021-11-17T21:38:03.479Z"
   },
   {
    "duration": 3,
    "start_time": "2021-11-17T21:38:08.601Z"
   },
   {
    "duration": 3,
    "start_time": "2021-11-17T21:38:12.928Z"
   },
   {
    "duration": 3,
    "start_time": "2021-11-17T21:38:48.896Z"
   },
   {
    "duration": 2,
    "start_time": "2021-11-17T21:38:49.171Z"
   },
   {
    "duration": 4,
    "start_time": "2021-11-17T21:39:57.889Z"
   },
   {
    "duration": 3,
    "start_time": "2021-11-17T21:39:58.057Z"
   },
   {
    "duration": 3,
    "start_time": "2021-11-17T21:41:20.108Z"
   },
   {
    "duration": 3,
    "start_time": "2021-11-17T21:41:20.629Z"
   },
   {
    "duration": 3,
    "start_time": "2021-11-17T21:42:49.136Z"
   },
   {
    "duration": 3,
    "start_time": "2021-11-17T21:43:15.137Z"
   },
   {
    "duration": 4,
    "start_time": "2021-11-17T21:43:16.766Z"
   },
   {
    "duration": 4,
    "start_time": "2021-11-17T21:43:31.711Z"
   },
   {
    "duration": 3,
    "start_time": "2021-11-17T21:43:36.312Z"
   },
   {
    "duration": 4,
    "start_time": "2021-11-17T21:45:08.825Z"
   },
   {
    "duration": 4,
    "start_time": "2021-11-17T21:45:10.119Z"
   },
   {
    "duration": 4,
    "start_time": "2021-11-17T21:45:13.748Z"
   },
   {
    "duration": 3,
    "start_time": "2021-11-17T21:45:22.219Z"
   },
   {
    "duration": 3,
    "start_time": "2021-11-17T21:45:33.412Z"
   },
   {
    "duration": 2,
    "start_time": "2021-11-17T21:46:01.885Z"
   },
   {
    "duration": 3,
    "start_time": "2021-11-17T21:46:03.628Z"
   },
   {
    "duration": 107,
    "start_time": "2021-11-17T21:47:32.512Z"
   },
   {
    "duration": 103,
    "start_time": "2021-11-17T21:50:36.243Z"
   },
   {
    "duration": 3,
    "start_time": "2021-11-18T06:28:31.440Z"
   },
   {
    "duration": 3,
    "start_time": "2021-11-18T06:29:00.168Z"
   },
   {
    "duration": 3,
    "start_time": "2021-11-18T06:31:27.008Z"
   },
   {
    "duration": 2,
    "start_time": "2021-11-18T06:35:34.288Z"
   },
   {
    "duration": 2,
    "start_time": "2021-11-18T06:38:04.527Z"
   },
   {
    "duration": 2610,
    "start_time": "2025-01-18T12:27:28.344Z"
   },
   {
    "duration": 225,
    "start_time": "2025-01-18T12:27:30.957Z"
   },
   {
    "duration": 10,
    "start_time": "2025-01-18T12:27:31.184Z"
   },
   {
    "duration": 10,
    "start_time": "2025-01-18T12:27:31.196Z"
   },
   {
    "duration": 8,
    "start_time": "2025-01-18T12:27:31.207Z"
   },
   {
    "duration": 8,
    "start_time": "2025-01-18T12:27:31.217Z"
   },
   {
    "duration": 8,
    "start_time": "2025-01-18T12:27:31.227Z"
   },
   {
    "duration": 10,
    "start_time": "2025-01-18T12:27:31.237Z"
   },
   {
    "duration": 12,
    "start_time": "2025-01-18T12:27:31.248Z"
   },
   {
    "duration": 45,
    "start_time": "2025-01-18T12:27:31.264Z"
   },
   {
    "duration": 16,
    "start_time": "2025-01-18T12:27:31.310Z"
   },
   {
    "duration": 8,
    "start_time": "2025-01-18T12:27:31.328Z"
   },
   {
    "duration": 15,
    "start_time": "2025-01-18T12:27:31.339Z"
   },
   {
    "duration": 140,
    "start_time": "2025-01-18T12:27:31.356Z"
   },
   {
    "duration": 16,
    "start_time": "2025-01-18T12:27:31.498Z"
   },
   {
    "duration": 7,
    "start_time": "2025-01-18T12:27:31.516Z"
   },
   {
    "duration": 11,
    "start_time": "2025-01-18T12:27:31.525Z"
   },
   {
    "duration": 13,
    "start_time": "2025-01-18T12:27:31.538Z"
   },
   {
    "duration": 17,
    "start_time": "2025-01-18T12:27:31.553Z"
   },
   {
    "duration": 42,
    "start_time": "2025-01-18T12:27:31.572Z"
   },
   {
    "duration": 13,
    "start_time": "2025-01-18T12:27:31.616Z"
   },
   {
    "duration": 114,
    "start_time": "2025-01-18T12:27:31.631Z"
   },
   {
    "duration": 7,
    "start_time": "2025-01-18T12:27:31.747Z"
   },
   {
    "duration": 17,
    "start_time": "2025-01-18T12:27:31.755Z"
   },
   {
    "duration": 36,
    "start_time": "2025-01-18T12:27:31.773Z"
   },
   {
    "duration": 13,
    "start_time": "2025-01-18T12:27:31.811Z"
   },
   {
    "duration": 12,
    "start_time": "2025-01-18T12:27:31.826Z"
   },
   {
    "duration": 24,
    "start_time": "2025-01-18T12:27:31.842Z"
   },
   {
    "duration": 42,
    "start_time": "2025-01-18T12:27:31.868Z"
   },
   {
    "duration": 4,
    "start_time": "2025-01-18T12:27:31.911Z"
   },
   {
    "duration": 26,
    "start_time": "2025-01-18T12:27:31.917Z"
   },
   {
    "duration": 252,
    "start_time": "2025-01-18T12:27:31.945Z"
   },
   {
    "duration": 14,
    "start_time": "2025-01-18T12:27:32.199Z"
   },
   {
    "duration": 374,
    "start_time": "2025-01-18T12:27:32.215Z"
   },
   {
    "duration": 9,
    "start_time": "2025-01-18T12:27:32.591Z"
   },
   {
    "duration": 126,
    "start_time": "2025-01-18T12:27:32.610Z"
   },
   {
    "duration": 235,
    "start_time": "2025-01-18T12:27:32.738Z"
   },
   {
    "duration": 298,
    "start_time": "2025-01-18T12:27:32.976Z"
   },
   {
    "duration": 356,
    "start_time": "2025-01-18T12:27:33.277Z"
   },
   {
    "duration": 8,
    "start_time": "2025-01-18T12:27:33.636Z"
   },
   {
    "duration": 16,
    "start_time": "2025-01-18T12:27:33.645Z"
   },
   {
    "duration": 208,
    "start_time": "2025-01-18T12:27:33.663Z"
   },
   {
    "duration": 10,
    "start_time": "2025-01-18T12:27:33.873Z"
   },
   {
    "duration": 6,
    "start_time": "2025-01-18T12:27:33.884Z"
   },
   {
    "duration": 8,
    "start_time": "2025-01-18T12:27:33.908Z"
   },
   {
    "duration": 10,
    "start_time": "2025-01-18T12:27:33.918Z"
   },
   {
    "duration": 883,
    "start_time": "2025-01-18T12:27:53.422Z"
   },
   {
    "duration": 159,
    "start_time": "2025-01-18T12:27:54.307Z"
   },
   {
    "duration": 9,
    "start_time": "2025-01-18T12:27:54.467Z"
   },
   {
    "duration": 10,
    "start_time": "2025-01-18T12:27:54.479Z"
   },
   {
    "duration": 20,
    "start_time": "2025-01-18T12:27:54.490Z"
   },
   {
    "duration": 10,
    "start_time": "2025-01-18T12:27:54.511Z"
   },
   {
    "duration": 9,
    "start_time": "2025-01-18T12:27:54.522Z"
   },
   {
    "duration": 9,
    "start_time": "2025-01-18T12:27:54.532Z"
   },
   {
    "duration": 13,
    "start_time": "2025-01-18T12:27:54.543Z"
   },
   {
    "duration": 10,
    "start_time": "2025-01-18T12:27:54.559Z"
   },
   {
    "duration": 53,
    "start_time": "2025-01-18T12:27:54.571Z"
   },
   {
    "duration": 7,
    "start_time": "2025-01-18T12:27:54.626Z"
   },
   {
    "duration": 16,
    "start_time": "2025-01-18T12:27:54.635Z"
   },
   {
    "duration": 141,
    "start_time": "2025-01-18T12:27:54.653Z"
   },
   {
    "duration": 16,
    "start_time": "2025-01-18T12:27:54.796Z"
   },
   {
    "duration": 8,
    "start_time": "2025-01-18T12:27:54.813Z"
   },
   {
    "duration": 10,
    "start_time": "2025-01-18T12:27:54.822Z"
   },
   {
    "duration": 12,
    "start_time": "2025-01-18T12:27:54.833Z"
   },
   {
    "duration": 14,
    "start_time": "2025-01-18T12:27:54.846Z"
   },
   {
    "duration": 9,
    "start_time": "2025-01-18T12:27:54.861Z"
   },
   {
    "duration": 45,
    "start_time": "2025-01-18T12:27:54.872Z"
   },
   {
    "duration": 113,
    "start_time": "2025-01-18T12:27:54.919Z"
   },
   {
    "duration": 7,
    "start_time": "2025-01-18T12:27:55.034Z"
   },
   {
    "duration": 14,
    "start_time": "2025-01-18T12:27:55.042Z"
   },
   {
    "duration": 16,
    "start_time": "2025-01-18T12:27:55.058Z"
   },
   {
    "duration": 42,
    "start_time": "2025-01-18T12:27:55.076Z"
   },
   {
    "duration": 14,
    "start_time": "2025-01-18T12:27:55.120Z"
   },
   {
    "duration": 19,
    "start_time": "2025-01-18T12:27:55.138Z"
   },
   {
    "duration": 18,
    "start_time": "2025-01-18T12:27:55.159Z"
   },
   {
    "duration": 4,
    "start_time": "2025-01-18T12:27:55.178Z"
   },
   {
    "duration": 27,
    "start_time": "2025-01-18T12:27:55.208Z"
   },
   {
    "duration": 250,
    "start_time": "2025-01-18T12:27:55.237Z"
   },
   {
    "duration": 20,
    "start_time": "2025-01-18T12:27:55.489Z"
   },
   {
    "duration": 377,
    "start_time": "2025-01-18T12:27:55.510Z"
   },
   {
    "duration": 20,
    "start_time": "2025-01-18T12:27:55.890Z"
   },
   {
    "duration": 175,
    "start_time": "2025-01-18T12:27:55.911Z"
   },
   {
    "duration": 234,
    "start_time": "2025-01-18T12:27:56.088Z"
   },
   {
    "duration": 243,
    "start_time": "2025-01-18T12:27:56.324Z"
   },
   {
    "duration": 351,
    "start_time": "2025-01-18T12:27:56.569Z"
   },
   {
    "duration": 8,
    "start_time": "2025-01-18T12:27:56.922Z"
   },
   {
    "duration": 16,
    "start_time": "2025-01-18T12:27:56.932Z"
   },
   {
    "duration": 196,
    "start_time": "2025-01-18T12:27:56.950Z"
   },
   {
    "duration": 9,
    "start_time": "2025-01-18T12:27:57.148Z"
   },
   {
    "duration": 6,
    "start_time": "2025-01-18T12:27:57.159Z"
   },
   {
    "duration": 7,
    "start_time": "2025-01-18T12:27:57.167Z"
   },
   {
    "duration": 36,
    "start_time": "2025-01-18T12:27:57.175Z"
   },
   {
    "duration": 100,
    "start_time": "2025-01-18T12:28:15.379Z"
   },
   {
    "duration": 108,
    "start_time": "2025-01-18T12:29:30.205Z"
   },
   {
    "duration": 817,
    "start_time": "2025-01-18T12:29:34.494Z"
   },
   {
    "duration": 167,
    "start_time": "2025-01-18T12:29:35.313Z"
   },
   {
    "duration": 9,
    "start_time": "2025-01-18T12:29:35.482Z"
   },
   {
    "duration": 16,
    "start_time": "2025-01-18T12:29:35.494Z"
   },
   {
    "duration": 9,
    "start_time": "2025-01-18T12:29:35.511Z"
   },
   {
    "duration": 11,
    "start_time": "2025-01-18T12:29:35.522Z"
   },
   {
    "duration": 9,
    "start_time": "2025-01-18T12:29:35.535Z"
   },
   {
    "duration": 10,
    "start_time": "2025-01-18T12:29:35.546Z"
   },
   {
    "duration": 13,
    "start_time": "2025-01-18T12:29:35.557Z"
   },
   {
    "duration": 12,
    "start_time": "2025-01-18T12:29:35.611Z"
   },
   {
    "duration": 16,
    "start_time": "2025-01-18T12:29:35.625Z"
   },
   {
    "duration": 7,
    "start_time": "2025-01-18T12:29:35.643Z"
   },
   {
    "duration": 17,
    "start_time": "2025-01-18T12:29:35.652Z"
   },
   {
    "duration": 152,
    "start_time": "2025-01-18T12:29:35.670Z"
   },
   {
    "duration": 12,
    "start_time": "2025-01-18T12:29:35.823Z"
   },
   {
    "duration": 8,
    "start_time": "2025-01-18T12:29:35.837Z"
   },
   {
    "duration": 11,
    "start_time": "2025-01-18T12:29:35.847Z"
   },
   {
    "duration": 12,
    "start_time": "2025-01-18T12:29:35.859Z"
   },
   {
    "duration": 44,
    "start_time": "2025-01-18T12:29:35.873Z"
   },
   {
    "duration": 10,
    "start_time": "2025-01-18T12:29:35.918Z"
   },
   {
    "duration": 13,
    "start_time": "2025-01-18T12:29:35.929Z"
   },
   {
    "duration": 127,
    "start_time": "2025-01-18T12:29:35.944Z"
   },
   {
    "duration": 8,
    "start_time": "2025-01-18T12:29:36.073Z"
   },
   {
    "duration": 27,
    "start_time": "2025-01-18T12:29:36.083Z"
   },
   {
    "duration": 15,
    "start_time": "2025-01-18T12:29:36.112Z"
   },
   {
    "duration": 13,
    "start_time": "2025-01-18T12:29:36.129Z"
   },
   {
    "duration": 12,
    "start_time": "2025-01-18T12:29:36.144Z"
   },
   {
    "duration": 49,
    "start_time": "2025-01-18T12:29:36.161Z"
   },
   {
    "duration": 18,
    "start_time": "2025-01-18T12:29:36.211Z"
   },
   {
    "duration": 3,
    "start_time": "2025-01-18T12:29:36.231Z"
   },
   {
    "duration": 27,
    "start_time": "2025-01-18T12:29:36.236Z"
   },
   {
    "duration": 262,
    "start_time": "2025-01-18T12:29:36.264Z"
   },
   {
    "duration": 14,
    "start_time": "2025-01-18T12:29:36.528Z"
   },
   {
    "duration": 339,
    "start_time": "2025-01-18T12:29:36.544Z"
   },
   {
    "duration": 9,
    "start_time": "2025-01-18T12:29:36.885Z"
   },
   {
    "duration": 189,
    "start_time": "2025-01-18T12:29:36.895Z"
   },
   {
    "duration": 259,
    "start_time": "2025-01-18T12:29:37.086Z"
   },
   {
    "duration": 241,
    "start_time": "2025-01-18T12:29:37.347Z"
   },
   {
    "duration": 384,
    "start_time": "2025-01-18T12:29:37.590Z"
   },
   {
    "duration": 9,
    "start_time": "2025-01-18T12:29:37.976Z"
   },
   {
    "duration": 35,
    "start_time": "2025-01-18T12:29:37.987Z"
   },
   {
    "duration": 175,
    "start_time": "2025-01-18T12:29:38.023Z"
   },
   {
    "duration": 17,
    "start_time": "2025-01-18T12:29:38.200Z"
   },
   {
    "duration": 6,
    "start_time": "2025-01-18T12:29:38.218Z"
   },
   {
    "duration": 8,
    "start_time": "2025-01-18T12:29:38.226Z"
   },
   {
    "duration": 10,
    "start_time": "2025-01-18T12:29:38.235Z"
   },
   {
    "duration": 114,
    "start_time": "2025-01-18T12:37:02.620Z"
   },
   {
    "duration": 9,
    "start_time": "2025-01-19T11:48:11.788Z"
   },
   {
    "duration": 4,
    "start_time": "2025-01-19T11:48:13.015Z"
   }
  ],
  "colab": {
   "provenance": []
  },
  "kernelspec": {
   "display_name": "Python 3 (ipykernel)",
   "language": "python",
   "name": "python3"
  },
  "language_info": {
   "codemirror_mode": {
    "name": "ipython",
    "version": 3
   },
   "file_extension": ".py",
   "mimetype": "text/x-python",
   "name": "python",
   "nbconvert_exporter": "python",
   "pygments_lexer": "ipython3",
   "version": "3.9.19"
  },
  "toc": {
   "base_numbering": 1,
   "nav_menu": {},
   "number_sections": true,
   "sideBar": true,
   "skip_h1_title": false,
   "title_cell": "Table of Contents",
   "title_sidebar": "Contents",
   "toc_cell": false,
   "toc_position": {},
   "toc_section_display": true,
   "toc_window_display": false
  }
 },
 "nbformat": 4,
 "nbformat_minor": 1
}
